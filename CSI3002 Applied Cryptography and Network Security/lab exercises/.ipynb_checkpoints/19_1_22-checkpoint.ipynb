{
 "cells": [
  {
   "cell_type": "code",
   "execution_count": 1,
   "id": "91e2f32b",
   "metadata": {},
   "outputs": [],
   "source": [
    "import string\n",
    "from collections import OrderedDict\n",
    "import numpy as np\n",
    "from ordered_set import OrderedSet\n",
    "import pymatrix"
   ]
  },
  {
   "cell_type": "code",
   "execution_count": 2,
   "id": "97d6f8fe",
   "metadata": {},
   "outputs": [
    {
     "name": "stdout",
     "output_type": "stream",
     "text": [
      "{'a': 0, 'b': 1, 'c': 2, 'd': 3, 'e': 4, 'f': 5, 'g': 6, 'h': 7, 'i': 8, 'j': 9, 'k': 10, 'l': 11, 'm': 12, 'n': 13, 'o': 14, 'p': 15, 'q': 16, 'r': 17, 's': 18, 't': 19, 'u': 20, 'v': 21, 'w': 22, 'x': 23, 'y': 24, 'z': 25}\n"
     ]
    }
   ],
   "source": [
    "small_dict = dict()\n",
    "\n",
    "for index, letter in enumerate(string.ascii_lowercase):\n",
    "       small_dict[letter] = index + 0\n",
    "        \n",
    "print(small_dict)"
   ]
  },
  {
   "cell_type": "code",
   "execution_count": 3,
   "id": "d66a445c",
   "metadata": {},
   "outputs": [],
   "source": [
    "def key_text_rule(key):\n",
    "    for j in range(len(key)):\n",
    "        for i in range(len(key)):\n",
    "            if ((i%2==0) and (i+1!=len(key))):\n",
    "                if ((key[i]) == (key[i+1])): \n",
    "                    near = i+1\n",
    "                    key = key[:near] + 'x' + key[near:]\n",
    "                    break\n",
    "\n",
    "    if (len(key)%2!=0):\n",
    "        key = key[:len(key)+1] + 'z'\n",
    "        return key\n",
    "    else:\n",
    "        return key"
   ]
  },
  {
   "cell_type": "code",
   "execution_count": 4,
   "id": "4e92d03c",
   "metadata": {},
   "outputs": [
    {
     "name": "stdout",
     "output_type": "stream",
     "text": [
      "welcomez\n"
     ]
    }
   ],
   "source": [
    "plain_text = key_text_rule('welcome')\n",
    "print(plain_text)"
   ]
  },
  {
   "cell_type": "code",
   "execution_count": 5,
   "id": "0e7e0de1",
   "metadata": {},
   "outputs": [],
   "source": [
    "n = 2\n",
    "key = 'test'"
   ]
  },
  {
   "cell_type": "code",
   "execution_count": 6,
   "id": "91d9bd19",
   "metadata": {},
   "outputs": [],
   "source": [
    "def text_to_matrix(dict1, text, n):\n",
    "    list1 = []\n",
    "    for i in text:\n",
    "        list1.append(dict1[i])\n",
    "\n",
    "    matrix = np.array(list1).reshape(n,n)\n",
    "    return matrix"
   ]
  },
  {
   "cell_type": "code",
   "execution_count": 7,
   "id": "af9eedac",
   "metadata": {},
   "outputs": [
    {
     "data": {
      "text/plain": [
       "matrix([[19,  4],\n",
       "        [18, 19]])"
      ]
     },
     "execution_count": 7,
     "metadata": {},
     "output_type": "execute_result"
    }
   ],
   "source": [
    "key_matrix = text_to_matrix(small_dict, key, 2)\n",
    "key_matrix = np.matrix(key_matrix)\n",
    "key_matrix"
   ]
  },
  {
   "cell_type": "code",
   "execution_count": 8,
   "id": "83b5f724",
   "metadata": {},
   "outputs": [
    {
     "name": "stdout",
     "output_type": "stream",
     "text": [
      "[22, 4]\n",
      "[11, 2]\n",
      "[14, 12]\n",
      "[4, 25]\n"
     ]
    }
   ],
   "source": [
    "main_encrypt_list = []\n",
    "for i in range(len(plain_text)):\n",
    "    \n",
    "    plain_list1 = []\n",
    "    if ((i%2==0) and (i<=len(plain_text))):\n",
    "        \n",
    "        plain_list1.append(small_dict[plain_text[i]])\n",
    "        plain_list1.append(small_dict[plain_text[i+1]])\n",
    "        \n",
    "        print(plain_list1)\n",
    "        \n",
    "        main_encrypt_list.append((np.dot(key_matrix, np.array(plain_list1).reshape(2,))) % 26)"
   ]
  },
  {
   "cell_type": "code",
   "execution_count": 9,
   "id": "7d5dde6f",
   "metadata": {},
   "outputs": [
    {
     "data": {
      "text/plain": [
       "[matrix([[18,  4]]), matrix([[9, 2]]), matrix([[ 2, 12]]), matrix([[20,  1]])]"
      ]
     },
     "execution_count": 9,
     "metadata": {},
     "output_type": "execute_result"
    }
   ],
   "source": [
    "list(main_encrypt_list)"
   ]
  },
  {
   "cell_type": "code",
   "execution_count": 10,
   "id": "4ae3820b",
   "metadata": {},
   "outputs": [
    {
     "data": {
      "text/plain": [
       "'sejccmub'"
      ]
     },
     "execution_count": 10,
     "metadata": {},
     "output_type": "execute_result"
    }
   ],
   "source": [
    "cipher_text = []\n",
    "dict_keys=list(small_dict.keys()) \n",
    "\n",
    "for i in main_encrypt_list:\n",
    "\n",
    "    val1 = i[0,0]\n",
    "    val2 = i[0,1]\n",
    "    \n",
    "    cipher_text.append(dict_keys[val1])\n",
    "    cipher_text.append(dict_keys[val2])\n",
    "\n",
    "cipher_text = ''.join(map(str,cipher_text))\n",
    "cipher_text"
   ]
  },
  {
   "cell_type": "markdown",
   "id": "c8495d20",
   "metadata": {},
   "source": [
    "## Decryption"
   ]
  },
  {
   "cell_type": "code",
   "execution_count": 11,
   "id": "55dea0b0",
   "metadata": {},
   "outputs": [
    {
     "data": {
      "text/plain": [
       "\"\\n289's multiplicative inverse is 9\\n\""
      ]
     },
     "execution_count": 11,
     "metadata": {},
     "output_type": "execute_result"
    }
   ],
   "source": [
    "'''\n",
    "289's multiplicative inverse is 9\n",
    "'''"
   ]
  },
  {
   "cell_type": "markdown",
   "id": "1867d048",
   "metadata": {},
   "source": [
    "## invsere of a matrix"
   ]
  },
  {
   "cell_type": "code",
   "execution_count": 12,
   "id": "6ce20c5c",
   "metadata": {},
   "outputs": [
    {
     "data": {
      "text/plain": [
       "matrix([[19,  4],\n",
       "        [18, 19]])"
      ]
     },
     "execution_count": 12,
     "metadata": {},
     "output_type": "execute_result"
    }
   ],
   "source": [
    "key_matrix"
   ]
  },
  {
   "cell_type": "code",
   "execution_count": 13,
   "id": "1b59070d",
   "metadata": {},
   "outputs": [
    {
     "data": {
      "text/plain": [
       "289"
      ]
     },
     "execution_count": 13,
     "metadata": {},
     "output_type": "execute_result"
    }
   ],
   "source": [
    "key_matrix_det = int(np.linalg.det(key_matrix))\n",
    "key_matrix_det"
   ]
  },
  {
   "cell_type": "code",
   "execution_count": 14,
   "id": "16de917c",
   "metadata": {},
   "outputs": [],
   "source": [
    "def gcd(a, b):\n",
    "    \n",
    "    if(b == 0):\n",
    "        return a\n",
    "    else:\n",
    "        return gcd(b, a % b)"
   ]
  },
  {
   "cell_type": "code",
   "execution_count": 15,
   "id": "480b24cd",
   "metadata": {},
   "outputs": [],
   "source": [
    "def modulo_multiplicative_inverse(key_matrix_det):\n",
    "    \n",
    "    if (gcd(key_matrix_det,26)==1):\n",
    "        \n",
    "        if (key_matrix_det>27):\n",
    "            key_matrix_det = key_matrix_det%26\n",
    "            \n",
    "        num = 1\n",
    "        while((key_matrix_det * num) % 26 !=1):\n",
    "            num+=1\n",
    "        \n",
    "        return num\n",
    "\n",
    "    else:\n",
    "        return 0 # GCD(det,26)!=1, then modulo multiplicative inverse --> Not found"
   ]
  },
  {
   "cell_type": "code",
   "execution_count": 16,
   "id": "c0d708b0",
   "metadata": {},
   "outputs": [
    {
     "name": "stdout",
     "output_type": "stream",
     "text": [
      "9\n"
     ]
    }
   ],
   "source": [
    "one_by_det = modulo_multiplicative_inverse(key_matrix_det)\n",
    "if one_by_det:\n",
    "    print(one_by_det)\n",
    "else:\n",
    "    print(\"GCD!=1, No Modulo Multiplicative Inverse\")"
   ]
  },
  {
   "cell_type": "code",
   "execution_count": 17,
   "id": "0ab5df82",
   "metadata": {},
   "outputs": [
    {
     "data": {
      "text/plain": [
       "matrix([[19,  4],\n",
       "        [18, 19]])"
      ]
     },
     "execution_count": 17,
     "metadata": {},
     "output_type": "execute_result"
    }
   ],
   "source": [
    "key_matrix"
   ]
  },
  {
   "cell_type": "code",
   "execution_count": 18,
   "id": "87f34298",
   "metadata": {},
   "outputs": [
    {
     "data": {
      "text/plain": [
       "numpy.matrix"
      ]
     },
     "execution_count": 18,
     "metadata": {},
     "output_type": "execute_result"
    }
   ],
   "source": [
    "type(key_matrix)"
   ]
  },
  {
   "cell_type": "code",
   "execution_count": 19,
   "id": "87d10c42",
   "metadata": {},
   "outputs": [
    {
     "data": {
      "text/plain": [
       "[[19, 4], [18, 19]]"
      ]
     },
     "execution_count": 19,
     "metadata": {},
     "output_type": "execute_result"
    }
   ],
   "source": [
    "key_matrix.tolist()"
   ]
  },
  {
   "cell_type": "code",
   "execution_count": 20,
   "id": "9795f7e7",
   "metadata": {},
   "outputs": [
    {
     "name": "stdout",
     "output_type": "stream",
     "text": [
      "Adjoint of a matrix is:\n",
      " 19.0  -4.0\n",
      "-18.0  19.0\n"
     ]
    }
   ],
   "source": [
    "adj = (pymatrix.matrix(key_matrix.tolist())).adjoint()\n",
    "print(\"Adjoint of a matrix is:\")\n",
    "print(adj)"
   ]
  },
  {
   "cell_type": "code",
   "execution_count": 21,
   "id": "e47767d0",
   "metadata": {},
   "outputs": [
    {
     "data": {
      "text/plain": [
       "array([[ 19,  -4],\n",
       "       [-18,  19]])"
      ]
     },
     "execution_count": 21,
     "metadata": {},
     "output_type": "execute_result"
    }
   ],
   "source": [
    "## converting into numpy and int array\n",
    "\n",
    "key_matrix_adj = []\n",
    "for i in range(n):\n",
    "    key_matrix_adj.append(adj[i])\n",
    "    \n",
    "key_matrix_adj = np.array(key_matrix_adj).astype(int)\n",
    "key_matrix_adj"
   ]
  },
  {
   "cell_type": "code",
   "execution_count": 22,
   "id": "db023e67",
   "metadata": {},
   "outputs": [
    {
     "data": {
      "text/plain": [
       "array([[19, 22],\n",
       "       [ 8, 19]])"
      ]
     },
     "execution_count": 22,
     "metadata": {},
     "output_type": "execute_result"
    }
   ],
   "source": [
    "## -ve numbers are removed by adding 26 to it\n",
    "\n",
    "for i in key_matrix_adj:\n",
    "    if (i[0] < 0) : i[0] += 26\n",
    "    if (i[1] < 0) : i[1] += 26\n",
    "    \n",
    "key_matrix_adj"
   ]
  },
  {
   "cell_type": "code",
   "execution_count": 23,
   "id": "c18bca63",
   "metadata": {},
   "outputs": [
    {
     "data": {
      "text/plain": [
       "array([[171, 198],\n",
       "       [ 72, 171]])"
      ]
     },
     "execution_count": 23,
     "metadata": {},
     "output_type": "execute_result"
    }
   ],
   "source": [
    "key_inverse = key_matrix_adj * one_by_det\n",
    "key_inverse"
   ]
  },
  {
   "cell_type": "code",
   "execution_count": 24,
   "id": "0b8786cf",
   "metadata": {},
   "outputs": [
    {
     "data": {
      "text/plain": [
       "'sejccmub'"
      ]
     },
     "execution_count": 24,
     "metadata": {},
     "output_type": "execute_result"
    }
   ],
   "source": [
    "cipher_text"
   ]
  },
  {
   "cell_type": "code",
   "execution_count": 25,
   "id": "c23190dc",
   "metadata": {},
   "outputs": [],
   "source": [
    "main_decrypt_list = []\n",
    "for i in range(len(cipher_text)):\n",
    "    \n",
    "    plain_list1 = []\n",
    "    if ((i%2==0) and (i<=len(cipher_text))):\n",
    "        \n",
    "        plain_list1.append(small_dict[cipher_text[i]])\n",
    "        plain_list1.append(small_dict[cipher_text[i+1]])\n",
    "        \n",
    "        main_decrypt_list.append(np.round(np.dot(key_inverse, np.array(plain_list1).reshape(2,))) % 26)\n",
    "        \n",
    "main_decrypt_list = np.int_(main_decrypt_list)"
   ]
  },
  {
   "cell_type": "code",
   "execution_count": 26,
   "id": "22f31e9c",
   "metadata": {},
   "outputs": [
    {
     "data": {
      "text/plain": [
       "array([[22,  4],\n",
       "       [11,  2],\n",
       "       [14, 12],\n",
       "       [ 4, 25]])"
      ]
     },
     "execution_count": 26,
     "metadata": {},
     "output_type": "execute_result"
    }
   ],
   "source": [
    "main_decrypt_list"
   ]
  },
  {
   "cell_type": "code",
   "execution_count": 27,
   "id": "e4dfd01f",
   "metadata": {},
   "outputs": [
    {
     "data": {
      "text/plain": [
       "'welcomez'"
      ]
     },
     "execution_count": 27,
     "metadata": {},
     "output_type": "execute_result"
    }
   ],
   "source": [
    "original_text = []\n",
    "\n",
    "for i in main_decrypt_list:\n",
    "    dict_keys=list(small_dict.keys()) \n",
    "    original_text.append(dict_keys[i[0]])\n",
    "    original_text.append(dict_keys[i[1]])\n",
    "\n",
    "original_text = ''.join(map(str,original_text))\n",
    "original_text"
   ]
  },
  {
   "cell_type": "code",
   "execution_count": null,
   "id": "620a57f7",
   "metadata": {},
   "outputs": [],
   "source": []
  },
  {
   "cell_type": "code",
   "execution_count": null,
   "id": "2a244580",
   "metadata": {},
   "outputs": [],
   "source": []
  },
  {
   "cell_type": "code",
   "execution_count": null,
   "id": "1bc9e658",
   "metadata": {},
   "outputs": [],
   "source": []
  }
 ],
 "metadata": {
  "kernelspec": {
   "display_name": "Python 3 (ipykernel)",
   "language": "python",
   "name": "python3"
  },
  "language_info": {
   "codemirror_mode": {
    "name": "ipython",
    "version": 3
   },
   "file_extension": ".py",
   "mimetype": "text/x-python",
   "name": "python",
   "nbconvert_exporter": "python",
   "pygments_lexer": "ipython3",
   "version": "3.9.7"
  }
 },
 "nbformat": 4,
 "nbformat_minor": 5
}
