{
 "cells": [
  {
   "cell_type": "code",
   "execution_count": 39,
   "id": "ffac94a8",
   "metadata": {},
   "outputs": [],
   "source": [
    "import numpy as np"
   ]
  },
  {
   "cell_type": "markdown",
   "id": "07baee72",
   "metadata": {},
   "source": [
    "## XOR Operation"
   ]
  },
  {
   "cell_type": "code",
   "execution_count": 1,
   "id": "37f16da3",
   "metadata": {},
   "outputs": [],
   "source": [
    "def xor_operation(n1,n2):\n",
    "    return (1 if (n1!=n2) else 0)"
   ]
  },
  {
   "cell_type": "code",
   "execution_count": 2,
   "id": "234f323c",
   "metadata": {},
   "outputs": [],
   "source": [
    "def enc_dec(plain_text,secret_key):\n",
    "    \n",
    "    ## encryption\n",
    "    cipher_text = [xor_operation(i,j) for i,j in zip(plain_text,secret_key)] \n",
    "    print(\"Cipher Text : \",cipher_text)\n",
    "    \n",
    "    ## decryption\n",
    "    plain_text_con = [xor_operation(i,j) for i,j in zip(cipher_text,secret_key)] \n",
    "    print(\"Converted Plain Text : \",plain_text_con)\n",
    "    \n",
    "    if plain_text_con == plain_text:\n",
    "        print(\"Successful\")\n",
    "    else:\n",
    "        print(\"Not Successful\")"
   ]
  },
  {
   "cell_type": "code",
   "execution_count": 3,
   "id": "eb9406fd",
   "metadata": {},
   "outputs": [
    {
     "name": "stdout",
     "output_type": "stream",
     "text": [
      "Enter the binary input of length-81 0 0 1 1 0 1 1\n",
      "Cipher Text :  [0, 1, 1, 1, 1, 0, 0, 0]\n",
      "Converted Plain Text :  [1, 0, 0, 1, 1, 0, 1, 1]\n",
      "Successful\n"
     ]
    }
   ],
   "source": [
    "plain_text = list(map(int,input(\"Enter the binary input of length-8\").split()))\n",
    "secret_key = [1,1,1,0,0,0,1,1]\n",
    "\n",
    "enc_dec(plain_text,secret_key)"
   ]
  },
  {
   "cell_type": "markdown",
   "id": "4d474d72",
   "metadata": {},
   "source": [
    "## Getting User Inputs"
   ]
  },
  {
   "cell_type": "code",
   "execution_count": 79,
   "id": "8fa830a0",
   "metadata": {},
   "outputs": [],
   "source": [
    "def binary_dec(ascii_value):  ## binary to decimal conversion\n",
    "    dividend = ascii_value\n",
    "    remainder = []\n",
    "    \n",
    "    while dividend!=1:\n",
    "        remainder.append(dividend%2)\n",
    "        dividend = int(dividend/2)\n",
    "        \n",
    "    remainder.append(dividend)\n",
    "    remainder.reverse()\n",
    "    return remainder"
   ]
  },
  {
   "cell_type": "code",
   "execution_count": 80,
   "id": "b8a003b3",
   "metadata": {},
   "outputs": [],
   "source": [
    "def dec_binary(binary_value):  ## decimal to binary conversion\n",
    "    temp = 0\n",
    "    binary_value.reverse()\n",
    "    for i in range(len(binary_value)):\n",
    "        temp += np.power(2,i) * binary_value[i]\n",
    "    return temp"
   ]
  },
  {
   "cell_type": "code",
   "execution_count": 86,
   "id": "0108fba0",
   "metadata": {},
   "outputs": [],
   "source": [
    "def check(plain_text,converted_text):\n",
    "    if (plain_text == converted_text): ## main checking\n",
    "        for i in converted_text:\n",
    "            print(chr(dec_binary(i)),end='') ## ascii to string\n",
    "        print(\"\\nSuccessful\")\n",
    "    else:\n",
    "        print(\"Failure\")"
   ]
  },
  {
   "cell_type": "code",
   "execution_count": 87,
   "id": "5044d444",
   "metadata": {},
   "outputs": [],
   "source": [
    "def decryption(cipher_text,secret_key,plain_text):\n",
    "    converted_text = []\n",
    "    for texts in cipher_text:\n",
    "        temp_list = [xor_operation(i,j) for i,j in zip(texts,secret_key)]\n",
    "        converted_text.append(temp_list)\n",
    "    #print(\"Converted Text : \",converted_text)\n",
    "    \n",
    "    check(plain_text,converted_text)"
   ]
  },
  {
   "cell_type": "code",
   "execution_count": 88,
   "id": "948fc8b6",
   "metadata": {},
   "outputs": [],
   "source": [
    "def encryption(plain_text,secret_key):\n",
    "    cipher_text = []\n",
    "    for texts in plain_text:\n",
    "        temp_list = [xor_operation(i,j) for i,j in zip(texts,secret_key)]\n",
    "        cipher_text.append(temp_list)\n",
    "    #print(\"Cipher Text : \",cipher_text)\n",
    "    \n",
    "    decryption(cipher_text,secret_key,plain_text)"
   ]
  },
  {
   "cell_type": "code",
   "execution_count": 89,
   "id": "68f24f42",
   "metadata": {},
   "outputs": [
    {
     "name": "stdout",
     "output_type": "stream",
     "text": [
      "Prashanth\n",
      "Successful\n"
     ]
    }
   ],
   "source": [
    "str1 = \"Prashanth\"\n",
    "\n",
    "ascii_list1 = [ord(i) for i in str1]   ## string to ascii\n",
    "#print(ascii_list1)\n",
    "\n",
    "binary_list1 = [binary_dec(i) for i in ascii_list1]  ## asci(decimal) to binary\n",
    "#print(binary_list1)  \n",
    "\n",
    "secret_key = [1,1,0,0,0,1,1]\n",
    "\n",
    "encryption(binary_list1,secret_key)"
   ]
  },
  {
   "cell_type": "code",
   "execution_count": null,
   "id": "aad20bad",
   "metadata": {},
   "outputs": [],
   "source": [
    "str1 = \"abc\"\n",
    "#binary_str1 = ' '.join(format(x, 'b') for x in bytearray(str1, 'utf-8'))\n",
    "#binary_str1"
   ]
  }
 ],
 "metadata": {
  "kernelspec": {
   "display_name": "Python 3 (ipykernel)",
   "language": "python",
   "name": "python3"
  },
  "language_info": {
   "codemirror_mode": {
    "name": "ipython",
    "version": 3
   },
   "file_extension": ".py",
   "mimetype": "text/x-python",
   "name": "python",
   "nbconvert_exporter": "python",
   "pygments_lexer": "ipython3",
   "version": "3.8.8"
  }
 },
 "nbformat": 4,
 "nbformat_minor": 5
}
