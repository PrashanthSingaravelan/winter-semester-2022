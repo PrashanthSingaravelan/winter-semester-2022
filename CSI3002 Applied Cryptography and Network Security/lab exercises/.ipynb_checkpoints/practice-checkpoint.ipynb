{
 "cells": [
  {
   "cell_type": "code",
   "execution_count": 1,
   "id": "2e0aafd0",
   "metadata": {},
   "outputs": [],
   "source": [
    "import string\n",
    "from collections import OrderedDict\n",
    "import numpy as np\n",
    "from ordered_set import OrderedSet"
   ]
  },
  {
   "cell_type": "code",
   "execution_count": 2,
   "id": "54782d24",
   "metadata": {},
   "outputs": [
    {
     "name": "stdout",
     "output_type": "stream",
     "text": [
      "{'a': 0, 'b': 1, 'c': 2, 'd': 3, 'e': 4, 'f': 5, 'g': 6, 'h': 7, 'i': 8, 'j': 9, 'k': 10, 'l': 11, 'm': 12, 'n': 13, 'o': 14, 'p': 15, 'q': 16, 'r': 17, 's': 18, 't': 19, 'u': 20, 'v': 21, 'w': 22, 'x': 23, 'y': 24, 'z': 25}\n"
     ]
    }
   ],
   "source": [
    "small_dict = dict()\n",
    "\n",
    "for index, letter in enumerate(string.ascii_lowercase):\n",
    "       small_dict[letter] = index + 0\n",
    "        \n",
    "print(small_dict)"
   ]
  },
  {
   "cell_type": "code",
   "execution_count": 3,
   "id": "2985e807",
   "metadata": {},
   "outputs": [],
   "source": [
    "def key_text_rule(key):\n",
    "    for j in range(len(key)):\n",
    "        for i in range(len(key)):\n",
    "            if ((i%2==0) and (i+1!=len(key))):\n",
    "                if ((key[i]) == (key[i+1])): \n",
    "                    near = i+1\n",
    "                    key = key[:near] + 'x' + key[near:]\n",
    "                    break\n",
    "\n",
    "    if (len(key)%2!=0):\n",
    "        key = key[:len(key)+1] + 'z'\n",
    "        return key\n",
    "    else:\n",
    "        return key\n",
    "\n"
   ]
  },
  {
   "cell_type": "code",
   "execution_count": 4,
   "id": "1a8c6e08",
   "metadata": {},
   "outputs": [
    {
     "name": "stdout",
     "output_type": "stream",
     "text": [
      "welcomez\n"
     ]
    }
   ],
   "source": [
    "\n",
    "\n",
    "plain_text = key_text_rule('welcome')\n",
    "print(plain_text)\n",
    "\n"
   ]
  },
  {
   "cell_type": "code",
   "execution_count": 5,
   "id": "db8a7210",
   "metadata": {},
   "outputs": [],
   "source": [
    "n = 2\n",
    "key = 'test'\n"
   ]
  },
  {
   "cell_type": "code",
   "execution_count": 6,
   "id": "7576d0ad",
   "metadata": {},
   "outputs": [],
   "source": [
    "\n",
    "\n",
    "def text_to_matrix(dict1, text, n):\n",
    "    list1 = []\n",
    "    for i in text:\n",
    "        list1.append(dict1[i])\n",
    "\n",
    "    matrix = np.array(list1).reshape(n,n)\n",
    "    return matrix\n",
    "\n"
   ]
  },
  {
   "cell_type": "code",
   "execution_count": 7,
   "id": "db3c826d",
   "metadata": {},
   "outputs": [
    {
     "data": {
      "text/plain": [
       "matrix([[19,  4],\n",
       "        [18, 19]])"
      ]
     },
     "execution_count": 7,
     "metadata": {},
     "output_type": "execute_result"
    }
   ],
   "source": [
    "\n",
    "\n",
    "key_matrix = text_to_matrix(small_dict, key, 2)\n",
    "key_matrix = np.matrix(key_matrix)\n",
    "key_matrix\n",
    "\n"
   ]
  },
  {
   "cell_type": "code",
   "execution_count": 8,
   "id": "089ae53c",
   "metadata": {},
   "outputs": [
    {
     "data": {
      "text/plain": [
       "matrix([[19, 18],\n",
       "        [ 4, 19]])"
      ]
     },
     "execution_count": 8,
     "metadata": {},
     "output_type": "execute_result"
    }
   ],
   "source": [
    "\n",
    "\n",
    "key_matrix.getH()\n",
    "\n"
   ]
  },
  {
   "cell_type": "code",
   "execution_count": 9,
   "id": "a15ba95c",
   "metadata": {},
   "outputs": [
    {
     "name": "stdout",
     "output_type": "stream",
     "text": [
      "18\n",
      "4\n",
      "9\n",
      "2\n",
      "2\n",
      "12\n",
      "20\n",
      "1\n"
     ]
    }
   ],
   "source": [
    "main_encrypt_list = []\n",
    "for i in range(len(plain_text)):\n",
    "    plain_list1 = []\n",
    "    \n",
    "    if ((i%2==0) and (i<=len(plain_text))):\n",
    "        \n",
    "        plain_list1.append(small_dict[plain_text[i]])\n",
    "        plain_list1.append(small_dict[plain_text[i+1]])\n",
    "        \n",
    "        #print(plain_list1)\n",
    "        \n",
    "        val = ((np.dot(key_matrix, np.array(plain_list1).reshape(2,))) % 26)\n",
    "        print(val[0,0])\n",
    "        print(val[0,1])\n",
    "        \n",
    "        main_encrypt_list.append(val)\n"
   ]
  },
  {
   "cell_type": "code",
   "execution_count": 10,
   "id": "932f991e",
   "metadata": {},
   "outputs": [
    {
     "data": {
      "text/plain": [
       "[matrix([[18,  4]]), matrix([[9, 2]]), matrix([[ 2, 12]]), matrix([[20,  1]])]"
      ]
     },
     "execution_count": 10,
     "metadata": {},
     "output_type": "execute_result"
    }
   ],
   "source": [
    "main_encrypt_list"
   ]
  },
  {
   "cell_type": "code",
   "execution_count": 11,
   "id": "c5b47144",
   "metadata": {},
   "outputs": [
    {
     "data": {
      "text/plain": [
       "'sejccmub'"
      ]
     },
     "execution_count": 11,
     "metadata": {},
     "output_type": "execute_result"
    }
   ],
   "source": [
    "\n",
    "\n",
    "cipher_text = []\n",
    "dict_keys=list(small_dict.keys()) \n",
    "\n",
    "for i in main_encrypt_list:\n",
    "\n",
    "    val1 = i[0,0]\n",
    "    val2 = i[0,1]\n",
    "    \n",
    "    cipher_text.append(dict_keys[val1])\n",
    "    cipher_text.append(dict_keys[val2])\n",
    "\n",
    "cipher_text = ''.join(map(str,cipher_text))\n",
    "cipher_text"
   ]
  },
  {
   "cell_type": "code",
   "execution_count": 12,
   "id": "c6629fd0",
   "metadata": {},
   "outputs": [
    {
     "data": {
      "text/plain": [
       "[matrix([[18,  4]]), matrix([[9, 2]]), matrix([[ 2, 12]]), matrix([[20,  1]])]"
      ]
     },
     "execution_count": 12,
     "metadata": {},
     "output_type": "execute_result"
    }
   ],
   "source": [
    "main_encrypt_list"
   ]
  },
  {
   "cell_type": "code",
   "execution_count": 13,
   "id": "fd00da3b",
   "metadata": {},
   "outputs": [
    {
     "ename": "SyntaxError",
     "evalue": "invalid syntax (3586149061.py, line 1)",
     "output_type": "error",
     "traceback": [
      "\u001b[0;36m  File \u001b[0;32m\"/var/folders/gq/nsqxf83n1813yysq2l8vvtxc0000gn/T/ipykernel_5577/3586149061.py\"\u001b[0;36m, line \u001b[0;32m1\u001b[0m\n\u001b[0;31m    list1 = [[18  4]]\u001b[0m\n\u001b[0m                  ^\u001b[0m\n\u001b[0;31mSyntaxError\u001b[0m\u001b[0;31m:\u001b[0m invalid syntax\n"
     ]
    }
   ],
   "source": [
    "list1 = [[18  4]]"
   ]
  },
  {
   "cell_type": "code",
   "execution_count": null,
   "id": "84517fbb",
   "metadata": {},
   "outputs": [],
   "source": [
    "list1[0]"
   ]
  },
  {
   "cell_type": "code",
   "execution_count": null,
   "id": "3575c0df",
   "metadata": {},
   "outputs": [],
   "source": [
    "list1[0][0]"
   ]
  },
  {
   "cell_type": "code",
   "execution_count": null,
   "id": "9aafec2c",
   "metadata": {},
   "outputs": [],
   "source": []
  }
 ],
 "metadata": {
  "kernelspec": {
   "display_name": "Python 3 (ipykernel)",
   "language": "python",
   "name": "python3"
  },
  "language_info": {
   "codemirror_mode": {
    "name": "ipython",
    "version": 3
   },
   "file_extension": ".py",
   "mimetype": "text/x-python",
   "name": "python",
   "nbconvert_exporter": "python",
   "pygments_lexer": "ipython3",
   "version": "3.9.7"
  }
 },
 "nbformat": 4,
 "nbformat_minor": 5
}
