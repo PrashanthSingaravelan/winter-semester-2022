{
 "cells": [
  {
   "cell_type": "code",
   "execution_count": 1,
   "id": "88b65482",
   "metadata": {},
   "outputs": [],
   "source": [
    "import pandas as pd"
   ]
  },
  {
   "cell_type": "code",
   "execution_count": 2,
   "id": "ef40cd58",
   "metadata": {},
   "outputs": [],
   "source": [
    "col_names  = ['0', '1', '2', '3', '4', '5', '6', '7', '8', '9', 'a', 'b', 'c', 'd', 'e', 'f']\n",
    "row_names = ['0', '1', '2', '3', '4', '5', '6', '7', '8', '9', 'a', 'b', 'c', 'd', 'e', 'f']"
   ]
  },
  {
   "cell_type": "code",
   "execution_count": 3,
   "id": "ca9bb5ff",
   "metadata": {},
   "outputs": [
    {
     "data": {
      "text/html": [
       "<div>\n",
       "<style scoped>\n",
       "    .dataframe tbody tr th:only-of-type {\n",
       "        vertical-align: middle;\n",
       "    }\n",
       "\n",
       "    .dataframe tbody tr th {\n",
       "        vertical-align: top;\n",
       "    }\n",
       "\n",
       "    .dataframe thead th {\n",
       "        text-align: right;\n",
       "    }\n",
       "</style>\n",
       "<table border=\"1\" class=\"dataframe\">\n",
       "  <thead>\n",
       "    <tr style=\"text-align: right;\">\n",
       "      <th></th>\n",
       "      <th>0</th>\n",
       "      <th>1</th>\n",
       "      <th>2</th>\n",
       "      <th>3</th>\n",
       "      <th>4</th>\n",
       "      <th>5</th>\n",
       "      <th>6</th>\n",
       "      <th>7</th>\n",
       "      <th>8</th>\n",
       "      <th>9</th>\n",
       "      <th>0a</th>\n",
       "      <th>0b</th>\n",
       "      <th>0c</th>\n",
       "      <th>0d</th>\n",
       "      <th>0e</th>\n",
       "      <th>0f</th>\n",
       "    </tr>\n",
       "  </thead>\n",
       "  <tbody>\n",
       "    <tr>\n",
       "      <th>0</th>\n",
       "      <td>63</td>\n",
       "      <td>7c</td>\n",
       "      <td>77</td>\n",
       "      <td>7b</td>\n",
       "      <td>f2</td>\n",
       "      <td>6b</td>\n",
       "      <td>6f</td>\n",
       "      <td>c5</td>\n",
       "      <td>30</td>\n",
       "      <td>1</td>\n",
       "      <td>67</td>\n",
       "      <td>2b</td>\n",
       "      <td>fe</td>\n",
       "      <td>d7</td>\n",
       "      <td>ab</td>\n",
       "      <td>76</td>\n",
       "    </tr>\n",
       "    <tr>\n",
       "      <th>10</th>\n",
       "      <td>ca</td>\n",
       "      <td>82</td>\n",
       "      <td>c9</td>\n",
       "      <td>7d</td>\n",
       "      <td>fa</td>\n",
       "      <td>59</td>\n",
       "      <td>47</td>\n",
       "      <td>f0</td>\n",
       "      <td>ad</td>\n",
       "      <td>d4</td>\n",
       "      <td>a2</td>\n",
       "      <td>af</td>\n",
       "      <td>9c</td>\n",
       "      <td>a4</td>\n",
       "      <td>72</td>\n",
       "      <td>c0</td>\n",
       "    </tr>\n",
       "    <tr>\n",
       "      <th>20</th>\n",
       "      <td>b7</td>\n",
       "      <td>fd</td>\n",
       "      <td>93</td>\n",
       "      <td>26</td>\n",
       "      <td>36</td>\n",
       "      <td>3f</td>\n",
       "      <td>f7</td>\n",
       "      <td>cc</td>\n",
       "      <td>34</td>\n",
       "      <td>a5</td>\n",
       "      <td>e5</td>\n",
       "      <td>f1</td>\n",
       "      <td>71</td>\n",
       "      <td>d8</td>\n",
       "      <td>31</td>\n",
       "      <td>15</td>\n",
       "    </tr>\n",
       "    <tr>\n",
       "      <th>30</th>\n",
       "      <td>4</td>\n",
       "      <td>c7</td>\n",
       "      <td>23</td>\n",
       "      <td>c3</td>\n",
       "      <td>18</td>\n",
       "      <td>96</td>\n",
       "      <td>5</td>\n",
       "      <td>9a</td>\n",
       "      <td>7</td>\n",
       "      <td>12</td>\n",
       "      <td>80</td>\n",
       "      <td>e2</td>\n",
       "      <td>eb</td>\n",
       "      <td>27</td>\n",
       "      <td>b2</td>\n",
       "      <td>75</td>\n",
       "    </tr>\n",
       "    <tr>\n",
       "      <th>40</th>\n",
       "      <td>9</td>\n",
       "      <td>83</td>\n",
       "      <td>2c</td>\n",
       "      <td>1a</td>\n",
       "      <td>1b</td>\n",
       "      <td>6e</td>\n",
       "      <td>5a</td>\n",
       "      <td>a0</td>\n",
       "      <td>52</td>\n",
       "      <td>3b</td>\n",
       "      <td>d6</td>\n",
       "      <td>b3</td>\n",
       "      <td>29</td>\n",
       "      <td>e3</td>\n",
       "      <td>2f</td>\n",
       "      <td>84</td>\n",
       "    </tr>\n",
       "  </tbody>\n",
       "</table>\n",
       "</div>"
      ],
      "text/plain": [
       "     0   1   2   3   4   5   6   7   8   9  0a  0b  0c  0d  0e  0f\n",
       "0   63  7c  77  7b  f2  6b  6f  c5  30   1  67  2b  fe  d7  ab  76\n",
       "10  ca  82  c9  7d  fa  59  47  f0  ad  d4  a2  af  9c  a4  72  c0\n",
       "20  b7  fd  93  26  36  3f  f7  cc  34  a5  e5  f1  71  d8  31  15\n",
       "30   4  c7  23  c3  18  96   5  9a   7  12  80  e2  eb  27  b2  75\n",
       "40   9  83  2c  1a  1b  6e  5a  a0  52  3b  d6  b3  29  e3  2f  84"
      ]
     },
     "execution_count": 3,
     "metadata": {},
     "output_type": "execute_result"
    }
   ],
   "source": [
    "enc_key_sbox = pd.read_excel('AES tables.xlsx', index_col=0)\n",
    "enc_key_sbox.head()"
   ]
  },
  {
   "cell_type": "code",
   "execution_count": 4,
   "id": "97ed17e4",
   "metadata": {},
   "outputs": [
    {
     "data": {
      "text/html": [
       "<div>\n",
       "<style scoped>\n",
       "    .dataframe tbody tr th:only-of-type {\n",
       "        vertical-align: middle;\n",
       "    }\n",
       "\n",
       "    .dataframe tbody tr th {\n",
       "        vertical-align: top;\n",
       "    }\n",
       "\n",
       "    .dataframe thead th {\n",
       "        text-align: right;\n",
       "    }\n",
       "</style>\n",
       "<table border=\"1\" class=\"dataframe\">\n",
       "  <thead>\n",
       "    <tr style=\"text-align: right;\">\n",
       "      <th></th>\n",
       "      <th>0</th>\n",
       "      <th>1</th>\n",
       "      <th>2</th>\n",
       "      <th>3</th>\n",
       "      <th>4</th>\n",
       "      <th>5</th>\n",
       "      <th>6</th>\n",
       "      <th>7</th>\n",
       "      <th>8</th>\n",
       "      <th>9</th>\n",
       "      <th>a</th>\n",
       "      <th>b</th>\n",
       "      <th>c</th>\n",
       "      <th>d</th>\n",
       "      <th>e</th>\n",
       "      <th>f</th>\n",
       "    </tr>\n",
       "  </thead>\n",
       "  <tbody>\n",
       "    <tr>\n",
       "      <th>0</th>\n",
       "      <td>63</td>\n",
       "      <td>7c</td>\n",
       "      <td>77</td>\n",
       "      <td>7b</td>\n",
       "      <td>f2</td>\n",
       "      <td>6b</td>\n",
       "      <td>6f</td>\n",
       "      <td>c5</td>\n",
       "      <td>30</td>\n",
       "      <td>1</td>\n",
       "      <td>67</td>\n",
       "      <td>2b</td>\n",
       "      <td>fe</td>\n",
       "      <td>d7</td>\n",
       "      <td>ab</td>\n",
       "      <td>76</td>\n",
       "    </tr>\n",
       "    <tr>\n",
       "      <th>1</th>\n",
       "      <td>ca</td>\n",
       "      <td>82</td>\n",
       "      <td>c9</td>\n",
       "      <td>7d</td>\n",
       "      <td>fa</td>\n",
       "      <td>59</td>\n",
       "      <td>47</td>\n",
       "      <td>f0</td>\n",
       "      <td>ad</td>\n",
       "      <td>d4</td>\n",
       "      <td>a2</td>\n",
       "      <td>af</td>\n",
       "      <td>9c</td>\n",
       "      <td>a4</td>\n",
       "      <td>72</td>\n",
       "      <td>c0</td>\n",
       "    </tr>\n",
       "    <tr>\n",
       "      <th>2</th>\n",
       "      <td>b7</td>\n",
       "      <td>fd</td>\n",
       "      <td>93</td>\n",
       "      <td>26</td>\n",
       "      <td>36</td>\n",
       "      <td>3f</td>\n",
       "      <td>f7</td>\n",
       "      <td>cc</td>\n",
       "      <td>34</td>\n",
       "      <td>a5</td>\n",
       "      <td>e5</td>\n",
       "      <td>f1</td>\n",
       "      <td>71</td>\n",
       "      <td>d8</td>\n",
       "      <td>31</td>\n",
       "      <td>15</td>\n",
       "    </tr>\n",
       "    <tr>\n",
       "      <th>3</th>\n",
       "      <td>4</td>\n",
       "      <td>c7</td>\n",
       "      <td>23</td>\n",
       "      <td>c3</td>\n",
       "      <td>18</td>\n",
       "      <td>96</td>\n",
       "      <td>5</td>\n",
       "      <td>9a</td>\n",
       "      <td>7</td>\n",
       "      <td>12</td>\n",
       "      <td>80</td>\n",
       "      <td>e2</td>\n",
       "      <td>eb</td>\n",
       "      <td>27</td>\n",
       "      <td>b2</td>\n",
       "      <td>75</td>\n",
       "    </tr>\n",
       "    <tr>\n",
       "      <th>4</th>\n",
       "      <td>9</td>\n",
       "      <td>83</td>\n",
       "      <td>2c</td>\n",
       "      <td>1a</td>\n",
       "      <td>1b</td>\n",
       "      <td>6e</td>\n",
       "      <td>5a</td>\n",
       "      <td>a0</td>\n",
       "      <td>52</td>\n",
       "      <td>3b</td>\n",
       "      <td>d6</td>\n",
       "      <td>b3</td>\n",
       "      <td>29</td>\n",
       "      <td>e3</td>\n",
       "      <td>2f</td>\n",
       "      <td>84</td>\n",
       "    </tr>\n",
       "  </tbody>\n",
       "</table>\n",
       "</div>"
      ],
      "text/plain": [
       "    0   1   2   3   4   5   6   7   8   9   a   b   c   d   e   f\n",
       "0  63  7c  77  7b  f2  6b  6f  c5  30   1  67  2b  fe  d7  ab  76\n",
       "1  ca  82  c9  7d  fa  59  47  f0  ad  d4  a2  af  9c  a4  72  c0\n",
       "2  b7  fd  93  26  36  3f  f7  cc  34  a5  e5  f1  71  d8  31  15\n",
       "3   4  c7  23  c3  18  96   5  9a   7  12  80  e2  eb  27  b2  75\n",
       "4   9  83  2c  1a  1b  6e  5a  a0  52  3b  d6  b3  29  e3  2f  84"
      ]
     },
     "execution_count": 4,
     "metadata": {},
     "output_type": "execute_result"
    }
   ],
   "source": [
    "enc_key_sbox.columns = col_names ## replacing the column names \n",
    "enc_key_sbox.index = row_names    ## replacing the row names\n",
    "\n",
    "enc_key_sbox.head()"
   ]
  },
  {
   "cell_type": "code",
   "execution_count": 5,
   "id": "eb4fee1c",
   "metadata": {},
   "outputs": [],
   "source": [
    "def key_sbox(element):\n",
    "    row_index = element[0]\n",
    "    col_index  = element[1]\n",
    "    ans = enc_key_sbox.loc[[row_index],[col_index]][col_index][0]\n",
    "    return str(ans)"
   ]
  },
  {
   "cell_type": "code",
   "execution_count": null,
   "id": "849d3dda",
   "metadata": {},
   "outputs": [],
   "source": []
  },
  {
   "cell_type": "code",
   "execution_count": null,
   "id": "03851a1c",
   "metadata": {},
   "outputs": [],
   "source": []
  },
  {
   "cell_type": "code",
   "execution_count": 6,
   "id": "9f15cbde",
   "metadata": {},
   "outputs": [],
   "source": [
    "def text_hexadecimal(text): ## all the blocks --> 16bytes\n",
    "    hex_text   = []\n",
    "    for i in text: ## character -> ascii (decimal) -> hexa-decimal\n",
    "        hex_text.append(hex(ord(i))[2:])\n",
    "    return hex_text ## 16-byte representation of the text"
   ]
  },
  {
   "cell_type": "code",
   "execution_count": 7,
   "id": "7bb82d42",
   "metadata": {},
   "outputs": [
    {
     "name": "stdout",
     "output_type": "stream",
     "text": [
      "Hexadecimal Representation :  ['73', '61', '74', '69', '73', '68', '63', '6a', '69', '73', '62', '6f', '72', '69', '6e', '67']\n"
     ]
    }
   ],
   "source": [
    "key = 'satishcjisboring'  \n",
    "hex_key = text_hexadecimal(key)\n",
    "print(\"Hexadecimal Representation : \",hex_key)"
   ]
  },
  {
   "cell_type": "code",
   "execution_count": 8,
   "id": "3b281f45",
   "metadata": {},
   "outputs": [
    {
     "data": {
      "text/plain": [
       "[['73', '61', '74', '69'],\n",
       " ['73', '68', '63', '6a'],\n",
       " ['69', '73', '62', '6f'],\n",
       " ['72', '69', '6e', '67']]"
      ]
     },
     "execution_count": 8,
     "metadata": {},
     "output_type": "execute_result"
    }
   ],
   "source": [
    "hex_key = [hex_key[i:i+4] for i in range(0, len(hex_key), 4)]\n",
    "hex_key"
   ]
  },
  {
   "cell_type": "code",
   "execution_count": 30,
   "id": "5c9aa185",
   "metadata": {},
   "outputs": [
    {
     "data": {
      "text/plain": [
       "['69', '6e', '67', '72']"
      ]
     },
     "execution_count": 30,
     "metadata": {},
     "output_type": "execute_result"
    }
   ],
   "source": [
    "last_col = hex_key[-1]\n",
    "rot_word = last_col[1:] + last_col[:1]\n",
    "rot_word"
   ]
  },
  {
   "cell_type": "code",
   "execution_count": 31,
   "id": "f85e4378",
   "metadata": {},
   "outputs": [
    {
     "name": "stdout",
     "output_type": "stream",
     "text": [
      "69\n",
      "6e\n",
      "67\n",
      "72\n"
     ]
    }
   ],
   "source": [
    "for i in rot_word:\n",
    "    print(i)"
   ]
  },
  {
   "cell_type": "code",
   "execution_count": 32,
   "id": "ad90d0dd",
   "metadata": {},
   "outputs": [
    {
     "data": {
      "text/plain": [
       "'6e'"
      ]
     },
     "execution_count": 32,
     "metadata": {},
     "output_type": "execute_result"
    }
   ],
   "source": [
    "str1 = rot_word[1]\n",
    "str1"
   ]
  },
  {
   "cell_type": "code",
   "execution_count": 33,
   "id": "39f328ca",
   "metadata": {},
   "outputs": [
    {
     "name": "stdout",
     "output_type": "stream",
     "text": [
      "6\n",
      "e\n"
     ]
    }
   ],
   "source": [
    "row_index = str1[0]\n",
    "col_index  = str1[1]\n",
    "\n",
    "print(row_index)\n",
    "print(col_index)"
   ]
  },
  {
   "cell_type": "code",
   "execution_count": 34,
   "id": "ceaa0daa",
   "metadata": {},
   "outputs": [
    {
     "name": "stdout",
     "output_type": "stream",
     "text": [
      "    e\n",
      "6  9f\n",
      "\n",
      "\n",
      "['9f']\n"
     ]
    }
   ],
   "source": [
    "#print(str(enc_key_sbox.loc[[row_index],[col_index]]))\n",
    "print(enc_key_sbox.loc[   [row_index],[col_index]   ])\n",
    "print(\"\\n\")\n",
    "print(enc_key_sbox.loc[   [row_index],[col_index]   ].values[0])"
   ]
  },
  {
   "cell_type": "code",
   "execution_count": 14,
   "id": "359dc217",
   "metadata": {},
   "outputs": [
    {
     "data": {
      "text/plain": [
       "'9f'"
      ]
     },
     "execution_count": 14,
     "metadata": {},
     "output_type": "execute_result"
    }
   ],
   "source": [
    "enc_key_sbox.loc[[row_index],[col_index]] ## returns in a numpy array\n",
    "enc_key_sbox.loc[[row_index],[col_index]][col_index][0]  ## returns in a single string\n"
   ]
  },
  {
   "cell_type": "code",
   "execution_count": 15,
   "id": "ccf54dff",
   "metadata": {},
   "outputs": [
    {
     "data": {
      "text/plain": [
       "['f9', '9f', '85', '40']"
      ]
     },
     "execution_count": 15,
     "metadata": {},
     "output_type": "execute_result"
    }
   ],
   "source": [
    "#enc_key_sbox.loc[[60],[9]]\n",
    "subword = [key_sbox(i) for i in rot_word]\n",
    "subword"
   ]
  },
  {
   "cell_type": "code",
   "execution_count": 16,
   "id": "8556af08",
   "metadata": {},
   "outputs": [
    {
     "name": "stdout",
     "output_type": "stream",
     "text": [
      "f9\n"
     ]
    }
   ],
   "source": [
    "for i in rot_word:\n",
    "    print(key_sbox(i))\n",
    "    break"
   ]
  },
  {
   "cell_type": "code",
   "execution_count": null,
   "id": "e66631f5",
   "metadata": {},
   "outputs": [],
   "source": []
  },
  {
   "cell_type": "code",
   "execution_count": null,
   "id": "61011e22",
   "metadata": {},
   "outputs": [],
   "source": []
  },
  {
   "cell_type": "code",
   "execution_count": null,
   "id": "1d6c52fe",
   "metadata": {},
   "outputs": [],
   "source": []
  },
  {
   "cell_type": "code",
   "execution_count": 17,
   "id": "e5b48564",
   "metadata": {},
   "outputs": [
    {
     "ename": "KeyError",
     "evalue": "\"None of [Int64Index([60], dtype='int64')] are in the [index]\"",
     "output_type": "error",
     "traceback": [
      "\u001b[0;31m---------------------------------------------------------------------------\u001b[0m",
      "\u001b[0;31mKeyError\u001b[0m                                  Traceback (most recent call last)",
      "\u001b[0;32m/var/folders/gq/nsqxf83n1813yysq2l8vvtxc0000gn/T/ipykernel_4453/204036799.py\u001b[0m in \u001b[0;36m<module>\u001b[0;34m\u001b[0m\n\u001b[0;32m----> 1\u001b[0;31m \u001b[0menc_key_sbox\u001b[0m\u001b[0;34m.\u001b[0m\u001b[0mloc\u001b[0m\u001b[0;34m[\u001b[0m \u001b[0;34m[\u001b[0m\u001b[0;36m60\u001b[0m\u001b[0;34m]\u001b[0m\u001b[0;34m,\u001b[0m\u001b[0;34m[\u001b[0m\u001b[0;36m9\u001b[0m\u001b[0;34m]\u001b[0m \u001b[0;34m]\u001b[0m\u001b[0;34m\u001b[0m\u001b[0;34m\u001b[0m\u001b[0m\n\u001b[0m",
      "\u001b[0;32m~/opt/anaconda3/lib/python3.9/site-packages/pandas/core/indexing.py\u001b[0m in \u001b[0;36m__getitem__\u001b[0;34m(self, key)\u001b[0m\n\u001b[1;32m    923\u001b[0m                 \u001b[0;32mwith\u001b[0m \u001b[0msuppress\u001b[0m\u001b[0;34m(\u001b[0m\u001b[0mKeyError\u001b[0m\u001b[0;34m,\u001b[0m \u001b[0mIndexError\u001b[0m\u001b[0;34m)\u001b[0m\u001b[0;34m:\u001b[0m\u001b[0;34m\u001b[0m\u001b[0;34m\u001b[0m\u001b[0m\n\u001b[1;32m    924\u001b[0m                     \u001b[0;32mreturn\u001b[0m \u001b[0mself\u001b[0m\u001b[0;34m.\u001b[0m\u001b[0mobj\u001b[0m\u001b[0;34m.\u001b[0m\u001b[0m_get_value\u001b[0m\u001b[0;34m(\u001b[0m\u001b[0;34m*\u001b[0m\u001b[0mkey\u001b[0m\u001b[0;34m,\u001b[0m \u001b[0mtakeable\u001b[0m\u001b[0;34m=\u001b[0m\u001b[0mself\u001b[0m\u001b[0;34m.\u001b[0m\u001b[0m_takeable\u001b[0m\u001b[0;34m)\u001b[0m\u001b[0;34m\u001b[0m\u001b[0;34m\u001b[0m\u001b[0m\n\u001b[0;32m--> 925\u001b[0;31m             \u001b[0;32mreturn\u001b[0m \u001b[0mself\u001b[0m\u001b[0;34m.\u001b[0m\u001b[0m_getitem_tuple\u001b[0m\u001b[0;34m(\u001b[0m\u001b[0mkey\u001b[0m\u001b[0;34m)\u001b[0m\u001b[0;34m\u001b[0m\u001b[0;34m\u001b[0m\u001b[0m\n\u001b[0m\u001b[1;32m    926\u001b[0m         \u001b[0;32melse\u001b[0m\u001b[0;34m:\u001b[0m\u001b[0;34m\u001b[0m\u001b[0;34m\u001b[0m\u001b[0m\n\u001b[1;32m    927\u001b[0m             \u001b[0;31m# we by definition only have the 0th axis\u001b[0m\u001b[0;34m\u001b[0m\u001b[0;34m\u001b[0m\u001b[0m\n",
      "\u001b[0;32m~/opt/anaconda3/lib/python3.9/site-packages/pandas/core/indexing.py\u001b[0m in \u001b[0;36m_getitem_tuple\u001b[0;34m(self, tup)\u001b[0m\n\u001b[1;32m   1105\u001b[0m         \u001b[0;31m# ugly hack for GH #836\u001b[0m\u001b[0;34m\u001b[0m\u001b[0;34m\u001b[0m\u001b[0m\n\u001b[1;32m   1106\u001b[0m         \u001b[0;32mif\u001b[0m \u001b[0mself\u001b[0m\u001b[0;34m.\u001b[0m\u001b[0m_multi_take_opportunity\u001b[0m\u001b[0;34m(\u001b[0m\u001b[0mtup\u001b[0m\u001b[0;34m)\u001b[0m\u001b[0;34m:\u001b[0m\u001b[0;34m\u001b[0m\u001b[0;34m\u001b[0m\u001b[0m\n\u001b[0;32m-> 1107\u001b[0;31m             \u001b[0;32mreturn\u001b[0m \u001b[0mself\u001b[0m\u001b[0;34m.\u001b[0m\u001b[0m_multi_take\u001b[0m\u001b[0;34m(\u001b[0m\u001b[0mtup\u001b[0m\u001b[0;34m)\u001b[0m\u001b[0;34m\u001b[0m\u001b[0;34m\u001b[0m\u001b[0m\n\u001b[0m\u001b[1;32m   1108\u001b[0m \u001b[0;34m\u001b[0m\u001b[0m\n\u001b[1;32m   1109\u001b[0m         \u001b[0;32mreturn\u001b[0m \u001b[0mself\u001b[0m\u001b[0;34m.\u001b[0m\u001b[0m_getitem_tuple_same_dim\u001b[0m\u001b[0;34m(\u001b[0m\u001b[0mtup\u001b[0m\u001b[0;34m)\u001b[0m\u001b[0;34m\u001b[0m\u001b[0;34m\u001b[0m\u001b[0m\n",
      "\u001b[0;32m~/opt/anaconda3/lib/python3.9/site-packages/pandas/core/indexing.py\u001b[0m in \u001b[0;36m_multi_take\u001b[0;34m(self, tup)\u001b[0m\n\u001b[1;32m   1057\u001b[0m         \"\"\"\n\u001b[1;32m   1058\u001b[0m         \u001b[0;31m# GH 836\u001b[0m\u001b[0;34m\u001b[0m\u001b[0;34m\u001b[0m\u001b[0m\n\u001b[0;32m-> 1059\u001b[0;31m         d = {\n\u001b[0m\u001b[1;32m   1060\u001b[0m             \u001b[0maxis\u001b[0m\u001b[0;34m:\u001b[0m \u001b[0mself\u001b[0m\u001b[0;34m.\u001b[0m\u001b[0m_get_listlike_indexer\u001b[0m\u001b[0;34m(\u001b[0m\u001b[0mkey\u001b[0m\u001b[0;34m,\u001b[0m \u001b[0maxis\u001b[0m\u001b[0;34m)\u001b[0m\u001b[0;34m\u001b[0m\u001b[0;34m\u001b[0m\u001b[0m\n\u001b[1;32m   1061\u001b[0m             \u001b[0;32mfor\u001b[0m \u001b[0;34m(\u001b[0m\u001b[0mkey\u001b[0m\u001b[0;34m,\u001b[0m \u001b[0maxis\u001b[0m\u001b[0;34m)\u001b[0m \u001b[0;32min\u001b[0m \u001b[0mzip\u001b[0m\u001b[0;34m(\u001b[0m\u001b[0mtup\u001b[0m\u001b[0;34m,\u001b[0m \u001b[0mself\u001b[0m\u001b[0;34m.\u001b[0m\u001b[0mobj\u001b[0m\u001b[0;34m.\u001b[0m\u001b[0m_AXIS_ORDERS\u001b[0m\u001b[0;34m)\u001b[0m\u001b[0;34m\u001b[0m\u001b[0;34m\u001b[0m\u001b[0m\n",
      "\u001b[0;32m~/opt/anaconda3/lib/python3.9/site-packages/pandas/core/indexing.py\u001b[0m in \u001b[0;36m<dictcomp>\u001b[0;34m(.0)\u001b[0m\n\u001b[1;32m   1058\u001b[0m         \u001b[0;31m# GH 836\u001b[0m\u001b[0;34m\u001b[0m\u001b[0;34m\u001b[0m\u001b[0m\n\u001b[1;32m   1059\u001b[0m         d = {\n\u001b[0;32m-> 1060\u001b[0;31m             \u001b[0maxis\u001b[0m\u001b[0;34m:\u001b[0m \u001b[0mself\u001b[0m\u001b[0;34m.\u001b[0m\u001b[0m_get_listlike_indexer\u001b[0m\u001b[0;34m(\u001b[0m\u001b[0mkey\u001b[0m\u001b[0;34m,\u001b[0m \u001b[0maxis\u001b[0m\u001b[0;34m)\u001b[0m\u001b[0;34m\u001b[0m\u001b[0;34m\u001b[0m\u001b[0m\n\u001b[0m\u001b[1;32m   1061\u001b[0m             \u001b[0;32mfor\u001b[0m \u001b[0;34m(\u001b[0m\u001b[0mkey\u001b[0m\u001b[0;34m,\u001b[0m \u001b[0maxis\u001b[0m\u001b[0;34m)\u001b[0m \u001b[0;32min\u001b[0m \u001b[0mzip\u001b[0m\u001b[0;34m(\u001b[0m\u001b[0mtup\u001b[0m\u001b[0;34m,\u001b[0m \u001b[0mself\u001b[0m\u001b[0;34m.\u001b[0m\u001b[0mobj\u001b[0m\u001b[0;34m.\u001b[0m\u001b[0m_AXIS_ORDERS\u001b[0m\u001b[0;34m)\u001b[0m\u001b[0;34m\u001b[0m\u001b[0;34m\u001b[0m\u001b[0m\n\u001b[1;32m   1062\u001b[0m         }\n",
      "\u001b[0;32m~/opt/anaconda3/lib/python3.9/site-packages/pandas/core/indexing.py\u001b[0m in \u001b[0;36m_get_listlike_indexer\u001b[0;34m(self, key, axis)\u001b[0m\n\u001b[1;32m   1312\u001b[0m             \u001b[0mkeyarr\u001b[0m\u001b[0;34m,\u001b[0m \u001b[0mindexer\u001b[0m\u001b[0;34m,\u001b[0m \u001b[0mnew_indexer\u001b[0m \u001b[0;34m=\u001b[0m \u001b[0max\u001b[0m\u001b[0;34m.\u001b[0m\u001b[0m_reindex_non_unique\u001b[0m\u001b[0;34m(\u001b[0m\u001b[0mkeyarr\u001b[0m\u001b[0;34m)\u001b[0m\u001b[0;34m\u001b[0m\u001b[0;34m\u001b[0m\u001b[0m\n\u001b[1;32m   1313\u001b[0m \u001b[0;34m\u001b[0m\u001b[0m\n\u001b[0;32m-> 1314\u001b[0;31m         \u001b[0mself\u001b[0m\u001b[0;34m.\u001b[0m\u001b[0m_validate_read_indexer\u001b[0m\u001b[0;34m(\u001b[0m\u001b[0mkeyarr\u001b[0m\u001b[0;34m,\u001b[0m \u001b[0mindexer\u001b[0m\u001b[0;34m,\u001b[0m \u001b[0maxis\u001b[0m\u001b[0;34m)\u001b[0m\u001b[0;34m\u001b[0m\u001b[0;34m\u001b[0m\u001b[0m\n\u001b[0m\u001b[1;32m   1315\u001b[0m \u001b[0;34m\u001b[0m\u001b[0m\n\u001b[1;32m   1316\u001b[0m         if needs_i8_conversion(ax.dtype) or isinstance(\n",
      "\u001b[0;32m~/opt/anaconda3/lib/python3.9/site-packages/pandas/core/indexing.py\u001b[0m in \u001b[0;36m_validate_read_indexer\u001b[0;34m(self, key, indexer, axis)\u001b[0m\n\u001b[1;32m   1372\u001b[0m                 \u001b[0;32mif\u001b[0m \u001b[0muse_interval_msg\u001b[0m\u001b[0;34m:\u001b[0m\u001b[0;34m\u001b[0m\u001b[0;34m\u001b[0m\u001b[0m\n\u001b[1;32m   1373\u001b[0m                     \u001b[0mkey\u001b[0m \u001b[0;34m=\u001b[0m \u001b[0mlist\u001b[0m\u001b[0;34m(\u001b[0m\u001b[0mkey\u001b[0m\u001b[0;34m)\u001b[0m\u001b[0;34m\u001b[0m\u001b[0;34m\u001b[0m\u001b[0m\n\u001b[0;32m-> 1374\u001b[0;31m                 \u001b[0;32mraise\u001b[0m \u001b[0mKeyError\u001b[0m\u001b[0;34m(\u001b[0m\u001b[0;34mf\"None of [{key}] are in the [{axis_name}]\"\u001b[0m\u001b[0;34m)\u001b[0m\u001b[0;34m\u001b[0m\u001b[0;34m\u001b[0m\u001b[0m\n\u001b[0m\u001b[1;32m   1375\u001b[0m \u001b[0;34m\u001b[0m\u001b[0m\n\u001b[1;32m   1376\u001b[0m             \u001b[0mnot_found\u001b[0m \u001b[0;34m=\u001b[0m \u001b[0mlist\u001b[0m\u001b[0;34m(\u001b[0m\u001b[0mensure_index\u001b[0m\u001b[0;34m(\u001b[0m\u001b[0mkey\u001b[0m\u001b[0;34m)\u001b[0m\u001b[0;34m[\u001b[0m\u001b[0mmissing_mask\u001b[0m\u001b[0;34m.\u001b[0m\u001b[0mnonzero\u001b[0m\u001b[0;34m(\u001b[0m\u001b[0;34m)\u001b[0m\u001b[0;34m[\u001b[0m\u001b[0;36m0\u001b[0m\u001b[0;34m]\u001b[0m\u001b[0;34m]\u001b[0m\u001b[0;34m.\u001b[0m\u001b[0munique\u001b[0m\u001b[0;34m(\u001b[0m\u001b[0;34m)\u001b[0m\u001b[0;34m)\u001b[0m\u001b[0;34m\u001b[0m\u001b[0;34m\u001b[0m\u001b[0m\n",
      "\u001b[0;31mKeyError\u001b[0m: \"None of [Int64Index([60], dtype='int64')] are in the [index]\""
     ]
    }
   ],
   "source": [
    "enc_key_sbox.loc[ [60],[9] ]"
   ]
  },
  {
   "cell_type": "code",
   "execution_count": 9,
   "id": "adebc706",
   "metadata": {},
   "outputs": [],
   "source": [
    "import numpy as np"
   ]
  },
  {
   "cell_type": "code",
   "execution_count": 10,
   "id": "ccefb9a2",
   "metadata": {},
   "outputs": [],
   "source": [
    "def key_sbox(element):\n",
    "    row_index = element[0]\n",
    "    col_index  = element[1]\n",
    "    ans = enc_key_sbox.loc[[row_index],[col_index]][col_index][0]\n",
    "    return str(ans)"
   ]
  },
  {
   "cell_type": "code",
   "execution_count": 46,
   "id": "cad2b54b",
   "metadata": {},
   "outputs": [],
   "source": [
    "def XOR(list1, list2):\n",
    "    def compare(element1, element2):\n",
    "        ans = []\n",
    "        for i,j in zip(element1,element2):\n",
    "            if (i==j):ans.append(0)\n",
    "            else:ans.append(1)\n",
    "        return ans\n",
    "\n",
    "    main_ans = []\n",
    "    print(\"list-1 : \",list1)\n",
    "    print(\"list-2 : \",list2)\n",
    "    for i in range(len(list1)):\n",
    "        main_ans.append(compare(list1[i], list2[i]))\n",
    "        \n",
    "    main_ans = [ \"\".join(list(map(str, i))) for i in main_ans ]\n",
    "    return main_ans"
   ]
  },
  {
   "cell_type": "code",
   "execution_count": 47,
   "id": "67370303",
   "metadata": {},
   "outputs": [],
   "source": [
    "def HexaDecimaltoBCD(str):\n",
    "    list1 = []\n",
    "    for i in range(len(str)):\n",
    "        decimal = int(str[i], 16)                                ## hexadecimal -> decimal\n",
    "        binary_num = bin(decimal).replace(\"0b\", \"\")  # decimal -> binary\n",
    "        list1.append(binary_num)\n",
    "            \n",
    "    ## binary in-terms of 4 bits\n",
    "    for i in range(len(list1)):\n",
    "        element = list1[i]\n",
    "        if len(element)<4:\n",
    "            diff = 4 - len(element)\n",
    "            for j in range(diff):\n",
    "                element = \"0\" + element\n",
    "            list1[i] = element\n",
    "            \n",
    "    return list1"
   ]
  },
  {
   "cell_type": "code",
   "execution_count": 48,
   "id": "1d57dbab",
   "metadata": {},
   "outputs": [],
   "source": [
    "def binaryToDecimal(binary):\n",
    "    binary1 = binary\n",
    "    decimal, i, n = 0, 0, 0\n",
    "    \n",
    "    while(binary != 0):\n",
    "        dec = binary % 10\n",
    "        decimal = decimal + dec * pow(2, i)\n",
    "        binary = binary//10\n",
    "        i += 1\n",
    "        \n",
    "    hexadecimal =  hex(decimal)[-1]\n",
    "    return hexadecimal"
   ]
  },
  {
   "cell_type": "code",
   "execution_count": 49,
   "id": "68f8f0f7",
   "metadata": {},
   "outputs": [],
   "source": [
    "def bcd_hexadecimal(bcd_list):\n",
    "    w4 = []\n",
    "    \n",
    "    for i in range(0,len(bcd_list),2):\n",
    "        temp_str = ' '\n",
    "        temp_str = binaryToDecimal(int(bcd_list[i]))\n",
    "        temp_str = temp_str + binaryToDecimal(int(bcd_list[i+1]))\n",
    "        w4.append(temp_str)\n",
    "        \n",
    "    return w4"
   ]
  },
  {
   "cell_type": "code",
   "execution_count": 50,
   "id": "0dbf6bf8",
   "metadata": {},
   "outputs": [],
   "source": [
    "def rotword(word):\n",
    "    rot=word[1:]\n",
    "    rot.append(word[0])\n",
    "    return rot"
   ]
  },
  {
   "cell_type": "code",
   "execution_count": 51,
   "id": "f0b671dd",
   "metadata": {},
   "outputs": [],
   "source": [
    "def Hexaword_BCD(list1):\n",
    "    bcd = [ HexaDecimaltoBCD(i) for i in list1 ]\n",
    "    bcd = list(np.concatenate(bcd).flat)    ## 2d list to 1d list\n",
    "    return bcd"
   ]
  },
  {
   "cell_type": "code",
   "execution_count": 52,
   "id": "b1d86545",
   "metadata": {},
   "outputs": [],
   "source": [
    "## round-constant table \n",
    "## key-round and value-hexadecimal\n",
    "round_constant = {1:'1', 2:'2', 3:'4', 4:'8', 5:'10', 6:'20', 7:'40', 8:'80', 9:'1B', 10:'36'}"
   ]
  },
  {
   "cell_type": "code",
   "execution_count": 53,
   "id": "4189d17f",
   "metadata": {},
   "outputs": [
    {
     "data": {
      "text/plain": [
       "[['73', '61', '74', '69'],\n",
       " ['73', '68', '63', '6a'],\n",
       " ['69', '73', '62', '6f'],\n",
       " ['72', '69', '6e', '67']]"
      ]
     },
     "execution_count": 53,
     "metadata": {},
     "output_type": "execute_result"
    }
   ],
   "source": [
    "hex_key"
   ]
  },
  {
   "cell_type": "code",
   "execution_count": 54,
   "id": "224e8e50",
   "metadata": {},
   "outputs": [
    {
     "data": {
      "text/plain": [
       "['72', '69', '6e', '67']"
      ]
     },
     "execution_count": 54,
     "metadata": {},
     "output_type": "execute_result"
    }
   ],
   "source": [
    "hex_key[-1]"
   ]
  },
  {
   "cell_type": "code",
   "execution_count": 58,
   "id": "dc8483cb",
   "metadata": {},
   "outputs": [
    {
     "name": "stdout",
     "output_type": "stream",
     "text": [
      "Last col :  ['72', '69', '6e', '67']\n",
      "Left SHift :  ['69', '6e', '67', '72']\n",
      "Sub-word :  ['f9', '9f', '85', '40']\n",
      "y1 :  ['1111', '1001', '1001', '1111', '1000', '0101', '0100', '0000']\n",
      "r :  ['1000']\n",
      "round :  ['0000', '1000', '0000', '0000', '0000', '0000', '0000', '0000', '0000']\n"
     ]
    }
   ],
   "source": [
    "iteration_var = 4\n",
    "\n",
    "## taking the last column words\n",
    "last_col = hex_key[-1]\n",
    "print(\"Last col : \",last_col)\n",
    "\n",
    "## left shifting the last column words\n",
    "#left_shift = last_col[1:] + last_col[:1] \n",
    "left_shift = rotword(last_col)\n",
    "print(\"Left SHift : \",left_shift)\n",
    "\n",
    "## sub-word generation from S-Box\n",
    "subword = [key_sbox(i) for i in left_shift]\n",
    "print(\"Sub-word : \",subword)\n",
    "\n",
    "## subword --> hexadecimal(subword)\n",
    "y1 = Hexaword_BCD(subword)\n",
    "print(\"y1 : \",y1)\n",
    "\n",
    "## subword (XOR) Round Constant\n",
    "element = round_constant[iteration_var]\n",
    "initial = HexaDecimaltoBCD(element)\n",
    "print(\"r : \",initial)\n",
    "initial_length = len(initial)\n",
    "\n",
    "if (initial_length == 1):\n",
    "    between = initial\n",
    "    temp_1 = [ [0 for j in range(4) for i in range(1)] ]\n",
    "    last = [ [0 for j in range(4)] for i in range(7) ]\n",
    "    temp_1.extend(between)\n",
    "    temp_1.extend(last)\n",
    "    final = temp_1\n",
    "\n",
    "elif (initial_length == 2):\n",
    "    last = [ [0 for j in range(4)] for i in range(6) ]\n",
    "    first = initial\n",
    "    first.extend(last)\n",
    "    final = first\n",
    "\n",
    "final = [ \"\".join(list(map(str, i))) for i in final ]\n",
    "round_list = final\n",
    "print(\"round : \",round_list)"
   ]
  },
  {
   "cell_type": "code",
   "execution_count": 56,
   "id": "7b2787c2",
   "metadata": {},
   "outputs": [
    {
     "name": "stdout",
     "output_type": "stream",
     "text": [
      "list-1 :  ['1111', '1001', '1001', '1111', '1000', '0101', '0100', '0000']\n",
      "list-2 :  ['0000', '1000', '0000', '0000', '0000', '0000', '0000', '0000', '0000']\n",
      "g() -->  ['1111', '0001', '1001', '1111', '1000', '0101', '0100', '0000']\n",
      "final :  ['0111', '0011', '0110', '0001', '0111', '0100', '0110', '1001']\n",
      "list-1 :  ['0111', '0011', '0110', '0001', '0111', '0100', '0110', '1001']\n",
      "list-2 :  ['1111', '0001', '1001', '1111', '1000', '0101', '0100', '0000']\n",
      "['82', 'fe', 'f1', '29']\n"
     ]
    }
   ],
   "source": [
    "round_ans = XOR(y1, round_list)\n",
    "print(\"g() --> \",round_ans)  ## --> g(col4_before)\n",
    "\n",
    "# taking col1_before\n",
    "col1_before = [HexaDecimaltoBCD(i) for i in hex_key[0] ]\n",
    "col1_before = list(np.concatenate(col1_before).flat)\n",
    "print(\"final : \",col1_before)\n",
    "## col1 --> col1_before (exor) g(col4_before)\n",
    "col1 = bcd_hexadecimal(XOR(col1_before, round_ans) )\n",
    "\n",
    "print(col1)"
   ]
  },
  {
   "cell_type": "code",
   "execution_count": 32,
   "id": "6cc27a19",
   "metadata": {},
   "outputs": [],
   "source": [
    "element = '69'"
   ]
  },
  {
   "cell_type": "code",
   "execution_count": 33,
   "id": "e9325fd0",
   "metadata": {},
   "outputs": [],
   "source": [
    "row_index = element[0]\n",
    "col_index  = element[1]"
   ]
  },
  {
   "cell_type": "code",
   "execution_count": 34,
   "id": "4d4b04c0",
   "metadata": {},
   "outputs": [
    {
     "data": {
      "text/plain": [
       "'f9'"
      ]
     },
     "execution_count": 34,
     "metadata": {},
     "output_type": "execute_result"
    }
   ],
   "source": [
    "enc_key_sbox.loc[[row_index],[col_index]][col_index][0]"
   ]
  },
  {
   "cell_type": "code",
   "execution_count": null,
   "id": "28c7315f",
   "metadata": {},
   "outputs": [],
   "source": [
    "def XOR(list1, list2):\n",
    "    \n",
    "    def compare(element1, element2):\n",
    "        ans = []\n",
    "        for i,j in zip(element1,element2):\n",
    "            if (i!=j):\n",
    "                ans.append(1)\n",
    "            else:\n",
    "                ans.append(0)\n",
    "        return ans\n",
    "\n",
    "    main_ans = []\n",
    "    for i in range(len(list1)):\n",
    "        main_ans.append(compare(list1[i], list2[i]))\n",
    "        \n",
    "    main_ans = [ \"\".join(list(map(str, i))) for i in main_ans ]\n",
    "    return main_ans"
   ]
  }
 ],
 "metadata": {
  "kernelspec": {
   "display_name": "Python 3.9.7 ('base')",
   "language": "python",
   "name": "python397jvsc74a57bd0b7a2a0b4f94735ea31e77398a02d224ee82f8658043a15390cdd4e6a2ed959b7"
  },
  "language_info": {
   "codemirror_mode": {
    "name": "ipython",
    "version": 3
   },
   "file_extension": ".py",
   "mimetype": "text/x-python",
   "name": "python",
   "nbconvert_exporter": "python",
   "pygments_lexer": "ipython3",
   "version": "3.9.7"
  }
 },
 "nbformat": 4,
 "nbformat_minor": 5
}
