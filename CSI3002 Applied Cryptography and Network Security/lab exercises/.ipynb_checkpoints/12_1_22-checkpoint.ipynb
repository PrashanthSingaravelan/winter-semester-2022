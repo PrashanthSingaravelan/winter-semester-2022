{
 "cells": [
  {
   "cell_type": "code",
   "execution_count": 1,
   "id": "d0c36c8a",
   "metadata": {},
   "outputs": [],
   "source": []
  },
  {
   "cell_type": "markdown",
   "id": "a5554084",
   "metadata": {},
   "source": [
    "## Caesar Cipher"
   ]
  },
  {
   "cell_type": "code",
   "execution_count": 2,
   "id": "766385e2",
   "metadata": {},
   "outputs": [],
   "source": [
    "import string\n",
    "small_dict = dict()\n",
    "caps_dict  = dict()\n",
    "\n",
    "for index, letter in enumerate(string.ascii_lowercase):\n",
    "       small_dict[letter] = index + 0\n",
    "        \n",
    "for index, letter in enumerate(string.ascii_uppercase):\n",
    "       caps_dict[letter] = index + 27"
   ]
  },
  {
   "cell_type": "code",
   "execution_count": 3,
   "id": "1548df1e",
   "metadata": {},
   "outputs": [
    {
     "name": "stdout",
     "output_type": "stream",
     "text": [
      "{'a': 0, 'b': 1, 'c': 2, 'd': 3, 'e': 4, 'f': 5, 'g': 6, 'h': 7, 'i': 8, 'j': 9, 'k': 10, 'l': 11, 'm': 12, 'n': 13, 'o': 14, 'p': 15, 'q': 16, 'r': 17, 's': 18, 't': 19, 'u': 20, 'v': 21, 'w': 22, 'x': 23, 'y': 24, 'z': 25}\n"
     ]
    }
   ],
   "source": [
    "print(small_dict)"
   ]
  },
  {
   "cell_type": "code",
   "execution_count": 4,
   "id": "4ea5ccfc",
   "metadata": {},
   "outputs": [
    {
     "name": "stdout",
     "output_type": "stream",
     "text": [
      "{'A': 27, 'B': 28, 'C': 29, 'D': 30, 'E': 31, 'F': 32, 'G': 33, 'H': 34, 'I': 35, 'J': 36, 'K': 37, 'L': 38, 'M': 39, 'N': 40, 'O': 41, 'P': 42, 'Q': 43, 'R': 44, 'S': 45, 'T': 46, 'U': 47, 'V': 48, 'W': 49, 'X': 50, 'Y': 51, 'Z': 52}\n"
     ]
    }
   ],
   "source": [
    "print(caps_dict)"
   ]
  },
  {
   "cell_type": "code",
   "execution_count": 5,
   "id": "643b1f52",
   "metadata": {},
   "outputs": [],
   "source": [
    "str1 = 'Howdy'\n",
    "key = 3"
   ]
  },
  {
   "cell_type": "code",
   "execution_count": 6,
   "id": "8e72e3f3",
   "metadata": {},
   "outputs": [
    {
     "name": "stdout",
     "output_type": "stream",
     "text": [
      "[34, 14, 22, 3, 24]\n"
     ]
    }
   ],
   "source": [
    "list1 = []\n",
    "\n",
    "for letter in str1:\n",
    "    \n",
    "    if (letter in small_dict):\n",
    "        list1.append(small_dict[letter])\n",
    "    elif (letter in caps_dict):\n",
    "        list1.append(caps_dict[letter])\n",
    "\n",
    "print(list1)"
   ]
  },
  {
   "cell_type": "code",
   "execution_count": 7,
   "id": "d61ca283",
   "metadata": {},
   "outputs": [],
   "source": [
    "## small letter (0 to 25) \n",
    "## caps letter  (27 to 52)"
   ]
  },
  {
   "cell_type": "code",
   "execution_count": 8,
   "id": "9d3beba2",
   "metadata": {},
   "outputs": [
    {
     "data": {
      "text/plain": [
       "[37, 17, 25, 6, 1]"
      ]
     },
     "execution_count": 8,
     "metadata": {},
     "output_type": "execute_result"
    }
   ],
   "source": [
    "encrypt = []\n",
    "for i in list1:\n",
    "    \n",
    "    if ((i>=0) and (i<=25)):\n",
    "        val = ((i + key)%26)\n",
    "        encrypt.append(val)\n",
    "        \n",
    "    elif ((i>=27) and (i<=52)):\n",
    "        val = ((i + key)%53)\n",
    "        encrypt.append(val)\n",
    "\n",
    "encrypt"
   ]
  },
  {
   "cell_type": "code",
   "execution_count": 9,
   "id": "a1acee6e",
   "metadata": {},
   "outputs": [
    {
     "data": {
      "text/plain": [
       "[37, 17, 25, 6, 1, 37, 17, 25, 6, 1]"
      ]
     },
     "execution_count": 9,
     "metadata": {},
     "output_type": "execute_result"
    }
   ],
   "source": [
    "decrypt = []\n",
    "for i in list1:\n",
    "    \n",
    "    if ((i>=0) and (i<=25)):\n",
    "        val = ((i + key)%26)\n",
    "        encrypt.append(val)\n",
    "        \n",
    "    elif ((i>=27) and (i<=52)):\n",
    "        val = ((i + key)%53)\n",
    "        encrypt.append(val)\n",
    "\n",
    "encrypt"
   ]
  },
  {
   "cell_type": "code",
   "execution_count": 10,
   "id": "c672a6ec",
   "metadata": {},
   "outputs": [
    {
     "data": {
      "text/plain": [
       "[34, 14, 22, 3, 24]"
      ]
     },
     "execution_count": 10,
     "metadata": {},
     "output_type": "execute_result"
    }
   ],
   "source": [
    "list1"
   ]
  },
  {
   "cell_type": "code",
   "execution_count": null,
   "id": "76faef24",
   "metadata": {},
   "outputs": [],
   "source": []
  },
  {
   "cell_type": "code",
   "execution_count": 11,
   "id": "ee5243ab",
   "metadata": {},
   "outputs": [
    {
     "data": {
      "text/plain": [
       "[10, 17, 25, 6, 27]"
      ]
     },
     "execution_count": 11,
     "metadata": {},
     "output_type": "execute_result"
    }
   ],
   "source": [
    "[10, 17, 25, 6, 27]"
   ]
  },
  {
   "cell_type": "code",
   "execution_count": 12,
   "id": "a4180237",
   "metadata": {},
   "outputs": [
    {
     "ename": "KeyboardInterrupt",
     "evalue": "Interrupted by user",
     "output_type": "error",
     "traceback": [
      "\u001b[1;31m---------------------------------------------------------------------------\u001b[0m",
      "\u001b[1;31mKeyboardInterrupt\u001b[0m                         Traceback (most recent call last)",
      "\u001b[1;32mC:\\Users\\PRASHA~1\\AppData\\Local\\Temp/ipykernel_27896/2332735091.py\u001b[0m in \u001b[0;36m<module>\u001b[1;34m\u001b[0m\n\u001b[0;32m     31\u001b[0m \u001b[1;33m\u001b[0m\u001b[0m\n\u001b[0;32m     32\u001b[0m \u001b[1;33m\u001b[0m\u001b[0m\n\u001b[1;32m---> 33\u001b[1;33m \u001b[0mtext\u001b[0m \u001b[1;33m=\u001b[0m \u001b[0minput\u001b[0m\u001b[1;33m(\u001b[0m\u001b[1;34m\"Enter you plain text: \"\u001b[0m\u001b[1;33m)\u001b[0m\u001b[1;33m\u001b[0m\u001b[1;33m\u001b[0m\u001b[0m\n\u001b[0m\u001b[0;32m     34\u001b[0m \u001b[0mkey\u001b[0m \u001b[1;33m=\u001b[0m \u001b[0mint\u001b[0m\u001b[1;33m(\u001b[0m\u001b[0minput\u001b[0m\u001b[1;33m(\u001b[0m\u001b[1;34m\"Enter your key: \"\u001b[0m\u001b[1;33m)\u001b[0m\u001b[1;33m)\u001b[0m\u001b[1;33m\u001b[0m\u001b[1;33m\u001b[0m\u001b[0m\n\u001b[0;32m     35\u001b[0m \u001b[0mcipher\u001b[0m \u001b[1;33m=\u001b[0m \u001b[0mencrpyt\u001b[0m\u001b[1;33m(\u001b[0m\u001b[0mtext\u001b[0m\u001b[1;33m,\u001b[0m \u001b[0mkey\u001b[0m\u001b[1;33m)\u001b[0m\u001b[1;33m\u001b[0m\u001b[1;33m\u001b[0m\u001b[0m\n",
      "\u001b[1;32mC:\\ProgramData\\Anaconda3\\lib\\site-packages\\ipykernel\\kernelbase.py\u001b[0m in \u001b[0;36mraw_input\u001b[1;34m(self, prompt)\u001b[0m\n\u001b[0;32m   1004\u001b[0m                 \u001b[1;34m\"raw_input was called, but this frontend does not support input requests.\"\u001b[0m\u001b[1;33m\u001b[0m\u001b[1;33m\u001b[0m\u001b[0m\n\u001b[0;32m   1005\u001b[0m             )\n\u001b[1;32m-> 1006\u001b[1;33m         return self._input_request(\n\u001b[0m\u001b[0;32m   1007\u001b[0m             \u001b[0mstr\u001b[0m\u001b[1;33m(\u001b[0m\u001b[0mprompt\u001b[0m\u001b[1;33m)\u001b[0m\u001b[1;33m,\u001b[0m\u001b[1;33m\u001b[0m\u001b[1;33m\u001b[0m\u001b[0m\n\u001b[0;32m   1008\u001b[0m             \u001b[0mself\u001b[0m\u001b[1;33m.\u001b[0m\u001b[0m_parent_ident\u001b[0m\u001b[1;33m[\u001b[0m\u001b[1;34m\"shell\"\u001b[0m\u001b[1;33m]\u001b[0m\u001b[1;33m,\u001b[0m\u001b[1;33m\u001b[0m\u001b[1;33m\u001b[0m\u001b[0m\n",
      "\u001b[1;32mC:\\ProgramData\\Anaconda3\\lib\\site-packages\\ipykernel\\kernelbase.py\u001b[0m in \u001b[0;36m_input_request\u001b[1;34m(self, prompt, ident, parent, password)\u001b[0m\n\u001b[0;32m   1049\u001b[0m             \u001b[1;32mexcept\u001b[0m \u001b[0mKeyboardInterrupt\u001b[0m\u001b[1;33m:\u001b[0m\u001b[1;33m\u001b[0m\u001b[1;33m\u001b[0m\u001b[0m\n\u001b[0;32m   1050\u001b[0m                 \u001b[1;31m# re-raise KeyboardInterrupt, to truncate traceback\u001b[0m\u001b[1;33m\u001b[0m\u001b[1;33m\u001b[0m\u001b[1;33m\u001b[0m\u001b[0m\n\u001b[1;32m-> 1051\u001b[1;33m                 \u001b[1;32mraise\u001b[0m \u001b[0mKeyboardInterrupt\u001b[0m\u001b[1;33m(\u001b[0m\u001b[1;34m\"Interrupted by user\"\u001b[0m\u001b[1;33m)\u001b[0m \u001b[1;32mfrom\u001b[0m \u001b[1;32mNone\u001b[0m\u001b[1;33m\u001b[0m\u001b[1;33m\u001b[0m\u001b[0m\n\u001b[0m\u001b[0;32m   1052\u001b[0m             \u001b[1;32mexcept\u001b[0m \u001b[0mException\u001b[0m\u001b[1;33m:\u001b[0m\u001b[1;33m\u001b[0m\u001b[1;33m\u001b[0m\u001b[0m\n\u001b[0;32m   1053\u001b[0m                 \u001b[0mself\u001b[0m\u001b[1;33m.\u001b[0m\u001b[0mlog\u001b[0m\u001b[1;33m.\u001b[0m\u001b[0mwarning\u001b[0m\u001b[1;33m(\u001b[0m\u001b[1;34m\"Invalid Message:\"\u001b[0m\u001b[1;33m,\u001b[0m \u001b[0mexc_info\u001b[0m\u001b[1;33m=\u001b[0m\u001b[1;32mTrue\u001b[0m\u001b[1;33m)\u001b[0m\u001b[1;33m\u001b[0m\u001b[1;33m\u001b[0m\u001b[0m\n",
      "\u001b[1;31mKeyboardInterrupt\u001b[0m: Interrupted by user"
     ]
    }
   ],
   "source": [
    "def a2d(text):\n",
    "    return [ord(i) for i in text]\n",
    "\n",
    "\n",
    "def encrpyt(text, key):\n",
    "    dtext = a2d(text)\n",
    "    result = []\n",
    "    for i in dtext:\n",
    "        if (i >= 65 and i <= 90):\n",
    "            result.append((((i - 65) + key) % 26) + 65)\n",
    "        elif(i >= 97 and i <= 122):\n",
    "            result.append((((i - 97) + key) % 26) + 97)\n",
    "        else:\n",
    "            result.append(i)\n",
    "    final = list(map(chr, result))\n",
    "    return ''.join(final)\n",
    "\n",
    "\n",
    "def decrypt(text, key):\n",
    "    dtext = a2d(text)\n",
    "    result = []\n",
    "    for i in dtext:\n",
    "        if (i >= 65 and i <= 90):\n",
    "            result.append((((i - 65) - key) % 26) + 65)\n",
    "        elif(i >= 97 and i <= 122):\n",
    "            result.append((((i - 97) - key) % 26) + 97)\n",
    "        else:\n",
    "            result.append(i)\n",
    "    final = list(map(chr, result))\n",
    "    return ''.join(final)\n",
    "\n",
    "\n",
    "text = input(\"Enter you plain text: \")\n",
    "key = int(input(\"Enter your key: \"))\n",
    "cipher = encrpyt(text, key)\n",
    "print(f\"Cipher text : {cipher}\")\n",
    "plain = decrypt(cipher, key)\n",
    "print(f\"Plain text : {plain}\")"
   ]
  },
  {
   "cell_type": "markdown",
   "id": "3feebac7",
   "metadata": {},
   "source": [
    "## Playfair Cipher"
   ]
  },
  {
   "cell_type": "code",
   "execution_count": null,
   "id": "ffb4780b",
   "metadata": {},
   "outputs": [],
   "source": [
    "key = \"playfairexample\"\n",
    "plain_text = \"hello\""
   ]
  },
  {
   "cell_type": "code",
   "execution_count": null,
   "id": "66174495",
   "metadata": {},
   "outputs": [],
   "source": [
    "plain_key = OrderedSet(key)\n",
    "plain_key"
   ]
  },
  {
   "cell_type": "code",
   "execution_count": null,
   "id": "b1a785c6",
   "metadata": {},
   "outputs": [],
   "source": [
    "for letter in plain_key:\n",
    "    plain_key"
   ]
  },
  {
   "cell_type": "code",
   "execution_count": null,
   "id": "13b7444d",
   "metadata": {},
   "outputs": [],
   "source": [
    "left_over_alphabets = string.ascii_lowercase - plain_key\n",
    "left_over_alphabets"
   ]
  },
  {
   "cell_type": "code",
   "execution_count": null,
   "id": "76975459",
   "metadata": {},
   "outputs": [],
   "source": [
    "left_over_alphabets.remove('j')\n",
    "left_over_alphabets"
   ]
  },
  {
   "cell_type": "code",
   "execution_count": null,
   "id": "49a9eb13",
   "metadata": {},
   "outputs": [],
   "source": [
    "list1 = [[]]\n",
    "\n"
   ]
  },
  {
   "cell_type": "code",
   "execution_count": null,
   "id": "1eb27497",
   "metadata": {},
   "outputs": [],
   "source": [
    "plain_text = 'success'"
   ]
  },
  {
   "cell_type": "code",
   "execution_count": null,
   "id": "fe39d22b",
   "metadata": {},
   "outputs": [],
   "source": [
    "list1 = [i for i in plain_text]\n",
    "list1"
   ]
  },
  {
   "cell_type": "code",
   "execution_count": null,
   "id": "e4b6f42f",
   "metadata": {},
   "outputs": [],
   "source": [
    "list1 = [ ('s','u') , ('c','c') , ('e','s') , ('s') ]\n",
    "list1"
   ]
  },
  {
   "cell_type": "code",
   "execution_count": null,
   "id": "647b716d",
   "metadata": {},
   "outputs": [],
   "source": [
    "def twodifferent(list1):\n",
    "    pass"
   ]
  },
  {
   "cell_type": "code",
   "execution_count": null,
   "id": "9ac7f6ab",
   "metadata": {},
   "outputs": [],
   "source": [
    "def nearletter(list1):\n",
    "    if twodifferent(list1):\n",
    "        pass"
   ]
  },
  {
   "cell_type": "code",
   "execution_count": null,
   "id": "fa40c8f7",
   "metadata": {},
   "outputs": [],
   "source": [
    "nearletter(list1)"
   ]
  },
  {
   "cell_type": "code",
   "execution_count": null,
   "id": "6eb1a3ad",
   "metadata": {},
   "outputs": [],
   "source": [
    "def replace(list1,plain_text):\n",
    "    for i in range(len(list1)):\n",
    "        index = list1[i] + 1\n",
    "    \n",
    "        print(\"i : \",i)\n",
    "        print(\"Len : \",len(list1)-1)\n",
    "    \n",
    "        plain_text = plain_text[:index] + \"x\" + plain_text[index:]\n",
    "        print(plain_text)    \n",
    "        \n",
    "        if (i!=len(list1)-1):\n",
    "            list1[i+1] = list1[i+1] + 1\n",
    "    return plain_text"
   ]
  },
  {
   "cell_type": "code",
   "execution_count": null,
   "id": "b2eefb47",
   "metadata": {},
   "outputs": [],
   "source": [
    "def nearletter(plain_text):\n",
    "    list1 = []\n",
    "    for i in range(0,len(plain_text)-1):\n",
    "        if (plain_text[i]==plain_text[i+1]):\n",
    "            list1.append(i)\n",
    "    print(list1)\n",
    "    replace(list1,plain_text)"
   ]
  },
  {
   "cell_type": "code",
   "execution_count": null,
   "id": "502eba65",
   "metadata": {},
   "outputs": [],
   "source": [
    "plain_text = 'maamme'        \n",
    "nearletter(plain_text)"
   ]
  },
  {
   "cell_type": "code",
   "execution_count": null,
   "id": "815c942f",
   "metadata": {},
   "outputs": [],
   "source": [
    "plain_text = 'sucess'\n",
    "list1 = [2, 5]\n",
    "for i in range(len(list1)):\n",
    "    index = list1[i] + 1\n",
    "    \n",
    "    print(\"i : \",i)\n",
    "    print(\"Len : \",len(list1)-1)\n",
    "    \n",
    "    plain_text = plain_text[:index] + \"x\" + plain_text[index:]\n",
    "    print(plain_text)    \n",
    "        \n",
    "    if (i!=len(list1)-1):\n",
    "        list1[i+1] = list1[i+1] + 1\n",
    "                "
   ]
  },
  {
   "cell_type": "code",
   "execution_count": null,
   "id": "159a3313",
   "metadata": {},
   "outputs": [],
   "source": [
    "    "
   ]
  },
  {
   "cell_type": "code",
   "execution_count": null,
   "id": "9da3923f",
   "metadata": {},
   "outputs": [],
   "source": [
    "plain_text = plain_text[:3] + \"p\" + plain_text[3:]\n",
    "plain_text"
   ]
  },
  {
   "cell_type": "code",
   "execution_count": null,
   "id": "2606193e",
   "metadata": {},
   "outputs": [],
   "source": [
    "list1 = [ ('s','u') , ('c','c') , ('e','s') , ('s') ]\n",
    "list1"
   ]
  },
  {
   "cell_type": "code",
   "execution_count": null,
   "id": "cfc9a0f2",
   "metadata": {},
   "outputs": [],
   "source": [
    "for i in list1:\n",
    "    print(i)"
   ]
  },
  {
   "cell_type": "code",
   "execution_count": null,
   "id": "e84fcc3b",
   "metadata": {},
   "outputs": [],
   "source": [
    "def fun1(plain_text,list1):  ## adding x at the last\n",
    "\n",
    "    length = len(plain_text)\n",
    "    if (length%2!=0):\n",
    "        plain_text = plain_text[:length] + \"x\" \n",
    "        \n",
    "    return fun2(plain_text,list1)"
   ]
  },
  {
   "cell_type": "code",
   "execution_count": null,
   "id": "66950250",
   "metadata": {},
   "outputs": [],
   "source": [
    "def fun2(plain_text,list1):\n",
    "    for i in range(len(plain_text)):\n",
    "        if (i%2==0):\n",
    "            index = i\n",
    "            (a,b) = plain_text[index], plain_text[index + 1]\n",
    "            list1.append((a,b))\n",
    "    return (plain_text,list1)"
   ]
  },
  {
   "cell_type": "code",
   "execution_count": null,
   "id": "f0892ba6",
   "metadata": {},
   "outputs": [],
   "source": [
    "list1 = []\n",
    "plain_text = 'success'\n",
    "\n",
    "#plain_text, list1 = fun1(plain_text,list1)\n",
    "\n",
    "print(plain_text)\n",
    "print(list1)"
   ]
  },
  {
   "cell_type": "code",
   "execution_count": null,
   "id": "3f77888a",
   "metadata": {},
   "outputs": [],
   "source": [
    "for i,j in list1:\n",
    "    if (i==j)"
   ]
  },
  {
   "cell_type": "code",
   "execution_count": null,
   "id": "40171ee3",
   "metadata": {},
   "outputs": [],
   "source": [
    "list1"
   ]
  },
  {
   "cell_type": "code",
   "execution_count": 6,
   "id": "48ddc2cd",
   "metadata": {},
   "outputs": [],
   "source": [
    "import string\n",
    "from collections import OrderedDict\n",
    "import numpy as np\n",
    "from ordered_set import OrderedSet"
   ]
  },
  {
   "cell_type": "code",
   "execution_count": 29,
   "id": "c5961455",
   "metadata": {},
   "outputs": [],
   "source": [
    "def key_text_rule(key):\n",
    "    for j in range(len(key)):\n",
    "        for i in range(len(key)):\n",
    "            if ((i%2==0) and (i+1!=len(key))):\n",
    "                if ((key[i]) == (key[i+1])): \n",
    "                    near = i+1\n",
    "                    key = key[:near] + 'x' + key[near:]\n",
    "                    break\n",
    "\n",
    "    if (len(key)%2!=0):\n",
    "        key = key[:len(key)+1] + 'z'\n",
    "        return key\n",
    "    else:\n",
    "        return key"
   ]
  },
  {
   "cell_type": "code",
   "execution_count": 30,
   "id": "6be12dc3",
   "metadata": {},
   "outputs": [],
   "source": [
    "def matrix_fill(key):\n",
    "    key = \"\".join(OrderedDict.fromkeys(key))  ## remove the repeated characters in the string\n",
    "    str1 = string.ascii_lowercase\n",
    "    for i in key:\n",
    "        if i in str1:\n",
    "            str1 = str1.replace(i,'')\n",
    "    str1 = str1.replace('j','')\n",
    "    matrix_elements = key + str1\n",
    "    \n",
    "    list1 = []\n",
    "    ind = 0\n",
    "    for i in range(5):\n",
    "        temp = []\n",
    "        for j in range(5):\n",
    "            temp.append(matrix_elements[ind])\n",
    "            ind+=1\n",
    "        list1.append(temp)\n",
    "        \n",
    "    return list1"
   ]
  },
  {
   "cell_type": "code",
   "execution_count": 58,
   "id": "a1369ee2",
   "metadata": {},
   "outputs": [
    {
     "name": "stdout",
     "output_type": "stream",
     "text": [
      "helxloez\n",
      "welcomez\n"
     ]
    }
   ],
   "source": [
    "key = key_text_rule('helloe')\n",
    "plain_text = key_text_rule('welcome')\n",
    "\n",
    "print(key)\n",
    "print(plain_text)"
   ]
  },
  {
   "cell_type": "code",
   "execution_count": 59,
   "id": "29d923c3",
   "metadata": {},
   "outputs": [
    {
     "data": {
      "text/plain": [
       "[['h', 'e', 'l', 'x', 'o'],\n",
       " ['z', 'a', 'b', 'c', 'd'],\n",
       " ['f', 'g', 'i', 'k', 'm'],\n",
       " ['n', 'p', 'q', 'r', 's'],\n",
       " ['t', 'u', 'v', 'w', 'y']]"
      ]
     },
     "execution_count": 59,
     "metadata": {},
     "output_type": "execute_result"
    }
   ],
   "source": [
    "matrix = matrix_fill(key)\n",
    "matrix"
   ]
  },
  {
   "cell_type": "code",
   "execution_count": 76,
   "id": "3e48c67d",
   "metadata": {},
   "outputs": [
    {
     "ename": "SyntaxError",
     "evalue": "unexpected EOF while parsing (Temp/ipykernel_24348/4191161180.py, line 3)",
     "output_type": "error",
     "traceback": [
      "\u001b[1;36m  File \u001b[1;32m\"C:\\Users\\PRASHA~1\\AppData\\Local\\Temp/ipykernel_24348/4191161180.py\"\u001b[1;36m, line \u001b[1;32m3\u001b[0m\n\u001b[1;33m    #print(word_2_ind)\u001b[0m\n\u001b[1;37m                      ^\u001b[0m\n\u001b[1;31mSyntaxError\u001b[0m\u001b[1;31m:\u001b[0m unexpected EOF while parsing\n"
     ]
    }
   ],
   "source": [
    "def check(word_1_ind, word_2_ind):\n",
    "    #print(word_1_ind)\n",
    "    #print(word_2_ind)"
   ]
  },
  {
   "cell_type": "code",
   "execution_count": 77,
   "id": "131bc64e",
   "metadata": {},
   "outputs": [
    {
     "name": "stdout",
     "output_type": "stream",
     "text": [
      "w\n",
      "e\n",
      "l\n",
      "c\n",
      "o\n",
      "m\n",
      "e\n",
      "z\n"
     ]
    }
   ],
   "source": [
    "i_index = []\n",
    "j_index = []\n",
    "\n",
    "for k in range(len(plain_text)):\n",
    "    if (k%2==0) and (k+1!=len(plain_text)):\n",
    "        word_1 = plain_text[k]\n",
    "        word_2 = plain_text[k+1]\n",
    "        \n",
    "        ## fiding the letters in the matrix\n",
    "        for i in range(5):\n",
    "            for j in range(5):\n",
    "                if ((word_1==matrix[i][j])) or ((word_2==matrix[i][j])):\n",
    "                    i_index.append(i)\n",
    "                    j_index.append(j)\n",
    "                    \n",
    "                    if (len(i_index)%2==0) and (len(j_index)%2==0):\n",
    "                        word_1_ind = i_index[-2],j_index[-2]\n",
    "                        word_2_ind = i_index[-1],j_index[-1]\n",
    "                        \n",
    "                        check(word_1, word_2)\n",
    "                    break\n",
    "                    "
   ]
  },
  {
   "cell_type": "code",
   "execution_count": 67,
   "id": "02db8350",
   "metadata": {},
   "outputs": [
    {
     "name": "stdout",
     "output_type": "stream",
     "text": [
      "element :  e index :  0 1\n",
      "element :  w index :  4 3\n",
      "element :  l index :  0 2\n",
      "element :  c index :  1 3\n",
      "element :  o index :  0 4\n",
      "element :  m index :  2 4\n",
      "element :  e index :  0 1\n",
      "element :  z index :  1 0\n"
     ]
    }
   ],
   "source": [
    "for ind1,ind2 in zip(i_index, j_index):\n",
    "    print(\"element : \",matrix[ind1][ind2],\"index : \",ind1,ind2)"
   ]
  },
  {
   "cell_type": "code",
   "execution_count": 68,
   "id": "4ae5410e",
   "metadata": {},
   "outputs": [
    {
     "data": {
      "text/plain": [
       "[0, 4, 0, 1, 0, 2, 0, 1]"
      ]
     },
     "execution_count": 68,
     "metadata": {},
     "output_type": "execute_result"
    }
   ],
   "source": [
    "i_index"
   ]
  },
  {
   "cell_type": "code",
   "execution_count": 69,
   "id": "703bf4fb",
   "metadata": {},
   "outputs": [
    {
     "data": {
      "text/plain": [
       "[1, 3, 2, 3, 4, 4, 1, 0]"
      ]
     },
     "execution_count": 69,
     "metadata": {},
     "output_type": "execute_result"
    }
   ],
   "source": [
    "j_index"
   ]
  },
  {
   "cell_type": "code",
   "execution_count": null,
   "id": "a9e16952",
   "metadata": {},
   "outputs": [],
   "source": []
  },
  {
   "cell_type": "code",
   "execution_count": 24,
   "id": "22833172",
   "metadata": {},
   "outputs": [
    {
     "name": "stdout",
     "output_type": "stream",
     "text": [
      "Enter a string: hello\n",
      "hello\n"
     ]
    }
   ],
   "source": [
    "my_str = input(\"Enter a string: \")  \n",
    "# breakdown the string into a list of words  \n",
    "words = my_str.split()  \n",
    "# sort the list  \n",
    "words.sort()  \n",
    "# display the sorted words  \n",
    "for word in words:  \n",
    "   print(word)  "
   ]
  },
  {
   "cell_type": "code",
   "execution_count": null,
   "id": "deca85f4",
   "metadata": {},
   "outputs": [],
   "source": []
  }
 ],
 "metadata": {
  "kernelspec": {
   "display_name": "Python 3 (ipykernel)",
   "language": "python",
   "name": "python3"
  },
  "language_info": {
   "codemirror_mode": {
    "name": "ipython",
    "version": 3
   },
   "file_extension": ".py",
   "mimetype": "text/x-python",
   "name": "python",
   "nbconvert_exporter": "python",
   "pygments_lexer": "ipython3",
   "version": "3.8.8"
  }
 },
 "nbformat": 4,
 "nbformat_minor": 5
}
