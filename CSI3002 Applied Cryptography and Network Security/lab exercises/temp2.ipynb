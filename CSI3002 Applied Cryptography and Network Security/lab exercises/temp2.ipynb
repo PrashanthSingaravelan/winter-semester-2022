{
 "cells": [
  {
   "cell_type": "markdown",
   "id": "2e940b27",
   "metadata": {},
   "source": [
    "<body style=\"background-color:powderblue;\">\n",
    "<h1 style=\"text-align:center; font-family:serif; font-size:300%\">AES Key Generation</h1>\n",
    "\n",
    "<p style=\"text-align:center; font-family:courier; font-size:160%\">Prashanth.S 19MID0020</p>"
   ]
  },
  {
   "cell_type": "markdown",
   "id": "593d84cf",
   "metadata": {},
   "source": [
    " <h1 style=\"font-family:serif; font-size:200%\">Importing the Necessary Libraries"
   ]
  },
  {
   "cell_type": "code",
   "execution_count": 1,
   "id": "f6fb60dc",
   "metadata": {},
   "outputs": [],
   "source": [
    "import numpy as np\n",
    "import pandas as pd\n",
    "import ast\n",
    "import itertools\n",
    "import collections\n",
    "import struct\n",
    "import sys"
   ]
  },
  {
   "cell_type": "markdown",
   "id": "4c1cf002",
   "metadata": {},
   "source": [
    " <h1 style=\"font-family:serif; font-size:200%\">Importing the key S-Box "
   ]
  },
  {
   "cell_type": "code",
   "execution_count": 2,
   "id": "7ab106f8",
   "metadata": {},
   "outputs": [
    {
     "data": {
      "text/html": [
       "<div>\n",
       "<style scoped>\n",
       "    .dataframe tbody tr th:only-of-type {\n",
       "        vertical-align: middle;\n",
       "    }\n",
       "\n",
       "    .dataframe tbody tr th {\n",
       "        vertical-align: top;\n",
       "    }\n",
       "\n",
       "    .dataframe thead th {\n",
       "        text-align: right;\n",
       "    }\n",
       "</style>\n",
       "<table border=\"1\" class=\"dataframe\">\n",
       "  <thead>\n",
       "    <tr style=\"text-align: right;\">\n",
       "      <th></th>\n",
       "      <th>0</th>\n",
       "      <th>1</th>\n",
       "      <th>2</th>\n",
       "      <th>3</th>\n",
       "      <th>4</th>\n",
       "      <th>5</th>\n",
       "      <th>6</th>\n",
       "      <th>7</th>\n",
       "      <th>8</th>\n",
       "      <th>9</th>\n",
       "      <th>a</th>\n",
       "      <th>b</th>\n",
       "      <th>c</th>\n",
       "      <th>d</th>\n",
       "      <th>e</th>\n",
       "      <th>f</th>\n",
       "    </tr>\n",
       "  </thead>\n",
       "  <tbody>\n",
       "    <tr>\n",
       "      <th>0</th>\n",
       "      <td>63</td>\n",
       "      <td>7c</td>\n",
       "      <td>77</td>\n",
       "      <td>7b</td>\n",
       "      <td>f2</td>\n",
       "      <td>6b</td>\n",
       "      <td>6f</td>\n",
       "      <td>c5</td>\n",
       "      <td>30</td>\n",
       "      <td>1</td>\n",
       "      <td>67</td>\n",
       "      <td>2b</td>\n",
       "      <td>fe</td>\n",
       "      <td>d7</td>\n",
       "      <td>ab</td>\n",
       "      <td>76</td>\n",
       "    </tr>\n",
       "    <tr>\n",
       "      <th>1</th>\n",
       "      <td>ca</td>\n",
       "      <td>82</td>\n",
       "      <td>c9</td>\n",
       "      <td>7d</td>\n",
       "      <td>fa</td>\n",
       "      <td>59</td>\n",
       "      <td>47</td>\n",
       "      <td>f0</td>\n",
       "      <td>ad</td>\n",
       "      <td>d4</td>\n",
       "      <td>a2</td>\n",
       "      <td>af</td>\n",
       "      <td>9c</td>\n",
       "      <td>a4</td>\n",
       "      <td>72</td>\n",
       "      <td>c0</td>\n",
       "    </tr>\n",
       "    <tr>\n",
       "      <th>2</th>\n",
       "      <td>b7</td>\n",
       "      <td>fd</td>\n",
       "      <td>93</td>\n",
       "      <td>26</td>\n",
       "      <td>36</td>\n",
       "      <td>3f</td>\n",
       "      <td>f7</td>\n",
       "      <td>cc</td>\n",
       "      <td>34</td>\n",
       "      <td>a5</td>\n",
       "      <td>e5</td>\n",
       "      <td>f1</td>\n",
       "      <td>71</td>\n",
       "      <td>d8</td>\n",
       "      <td>31</td>\n",
       "      <td>15</td>\n",
       "    </tr>\n",
       "    <tr>\n",
       "      <th>3</th>\n",
       "      <td>4</td>\n",
       "      <td>c7</td>\n",
       "      <td>23</td>\n",
       "      <td>c3</td>\n",
       "      <td>18</td>\n",
       "      <td>96</td>\n",
       "      <td>5</td>\n",
       "      <td>9a</td>\n",
       "      <td>7</td>\n",
       "      <td>12</td>\n",
       "      <td>80</td>\n",
       "      <td>e2</td>\n",
       "      <td>eb</td>\n",
       "      <td>27</td>\n",
       "      <td>b2</td>\n",
       "      <td>75</td>\n",
       "    </tr>\n",
       "    <tr>\n",
       "      <th>4</th>\n",
       "      <td>9</td>\n",
       "      <td>83</td>\n",
       "      <td>2c</td>\n",
       "      <td>1a</td>\n",
       "      <td>1b</td>\n",
       "      <td>6e</td>\n",
       "      <td>5a</td>\n",
       "      <td>a0</td>\n",
       "      <td>52</td>\n",
       "      <td>3b</td>\n",
       "      <td>d6</td>\n",
       "      <td>b3</td>\n",
       "      <td>29</td>\n",
       "      <td>e3</td>\n",
       "      <td>2f</td>\n",
       "      <td>84</td>\n",
       "    </tr>\n",
       "  </tbody>\n",
       "</table>\n",
       "</div>"
      ],
      "text/plain": [
       "    0   1   2   3   4   5   6   7   8   9   a   b   c   d   e   f\n",
       "0  63  7c  77  7b  f2  6b  6f  c5  30   1  67  2b  fe  d7  ab  76\n",
       "1  ca  82  c9  7d  fa  59  47  f0  ad  d4  a2  af  9c  a4  72  c0\n",
       "2  b7  fd  93  26  36  3f  f7  cc  34  a5  e5  f1  71  d8  31  15\n",
       "3   4  c7  23  c3  18  96   5  9a   7  12  80  e2  eb  27  b2  75\n",
       "4   9  83  2c  1a  1b  6e  5a  a0  52  3b  d6  b3  29  e3  2f  84"
      ]
     },
     "execution_count": 2,
     "metadata": {},
     "output_type": "execute_result"
    }
   ],
   "source": [
    "col_names  = ['0', '1', '2', '3', '4', '5', '6', '7', '8', '9', 'a', 'b', 'c', 'd', 'e', 'f']\n",
    "row_names = ['0', '1', '2', '3', '4', '5', '6', '7', '8', '9', 'a', 'b', 'c', 'd', 'e', 'f']\n",
    "\n",
    "enc_key_sbox = pd.read_excel('AES tables.xlsx', index_col=0)\n",
    "\n",
    "enc_key_sbox.columns = col_names ## replacing the column names \n",
    "enc_key_sbox.index = row_names    ## replacing the row names\n",
    "\n",
    "enc_key_sbox.head()"
   ]
  },
  {
   "cell_type": "markdown",
   "id": "4fa95756",
   "metadata": {},
   "source": [
    " <h1 style=\"font-family:serif; font-size:200%\">Getting inputs"
   ]
  },
  {
   "cell_type": "code",
   "execution_count": 3,
   "id": "f96870da",
   "metadata": {},
   "outputs": [],
   "source": [
    "def text_hexadecimal(text): ## all the blocks --> 16bytes\n",
    "    hex_text   = []\n",
    "    for i in text: ## character -> ascii (decimal) -> hexa-decimal\n",
    "        hex_text.append(hex(ord(i))[2:])\n",
    "    return hex_text ## 16-byte representation of the text"
   ]
  },
  {
   "cell_type": "code",
   "execution_count": 4,
   "id": "7158f0fb",
   "metadata": {},
   "outputs": [
    {
     "name": "stdout",
     "output_type": "stream",
     "text": [
      "Hexadecimal Representation :  ['54', '68', '61', '74', '73', '20', '6d', '79', '20', '4b', '75', '6e', '67', '20', '46', '75']\n"
     ]
    }
   ],
   "source": [
    "key_str = 'Thats my Kung Fu' \n",
    "hex_key = text_hexadecimal(key_str)\n",
    "print(\"Hexadecimal Representation : \",hex_key)"
   ]
  },
  {
   "cell_type": "code",
   "execution_count": 5,
   "id": "1643af77",
   "metadata": {},
   "outputs": [
    {
     "data": {
      "text/plain": [
       "[['54', '68', '61', '74'],\n",
       " ['73', '20', '6d', '79'],\n",
       " ['20', '4b', '75', '6e'],\n",
       " ['67', '20', '46', '75']]"
      ]
     },
     "execution_count": 5,
     "metadata": {},
     "output_type": "execute_result"
    }
   ],
   "source": [
    "## splitting into 4*4 matrix\n",
    "hex_key = [hex_key[i:i+4] for i in range(0, len(hex_key), 4)]\n",
    "hex_key"
   ]
  },
  {
   "cell_type": "code",
   "execution_count": 6,
   "id": "c3f853b2",
   "metadata": {},
   "outputs": [],
   "source": [
    "complete_keys = [] ## to accomodate keys\n",
    "complete_keys.append(hex_key)"
   ]
  },
  {
   "cell_type": "markdown",
   "id": "6dc8e116",
   "metadata": {},
   "source": [
    " <h1 style=\"font-family:serif; font-size:200%\">Key Generation"
   ]
  },
  {
   "cell_type": "code",
   "execution_count": 7,
   "id": "280f4d57",
   "metadata": {},
   "outputs": [],
   "source": [
    "def key_sbox(element):\n",
    "    row_index = element[0]\n",
    "    col_index  = element[1]\n",
    "    ans = enc_key_sbox.loc[[row_index],[col_index]][col_index][0]\n",
    "    return str(ans)"
   ]
  },
  {
   "cell_type": "code",
   "execution_count": 8,
   "id": "261d585d",
   "metadata": {},
   "outputs": [],
   "source": [
    "def binaryToDecimal(binary):\n",
    "    binary1 = binary\n",
    "    decimal, i, n = 0, 0, 0\n",
    "    \n",
    "    while(binary != 0):\n",
    "        dec = binary % 10\n",
    "        decimal = decimal + dec * pow(2, i)\n",
    "        binary = binary//10\n",
    "        i += 1\n",
    "        \n",
    "    hexadecimal =  hex(decimal)[-1]\n",
    "    return hexadecimal"
   ]
  },
  {
   "cell_type": "code",
   "execution_count": 9,
   "id": "a051f10d",
   "metadata": {},
   "outputs": [],
   "source": [
    "def bcd_hexadecimal(bcd_list):\n",
    "    w4 = []\n",
    "    \n",
    "    for i in range(0,len(bcd_list),2):\n",
    "        temp_str = ' '\n",
    "        temp_str = binaryToDecimal(int(bcd_list[i]))\n",
    "        temp_str = temp_str + binaryToDecimal(int(bcd_list[i+1]))\n",
    "        w4.append(temp_str)\n",
    "        \n",
    "    return w4"
   ]
  },
  {
   "cell_type": "code",
   "execution_count": 10,
   "id": "c2970a99",
   "metadata": {},
   "outputs": [],
   "source": [
    "def HexaDecimaltoBCD(str):\n",
    "    list1 = []\n",
    "    for i in range(len(str)):\n",
    "        decimal = int(str[i], 16)                                ## hexadecimal -> decimal\n",
    "        binary_num = bin(decimal).replace(\"0b\", \"\")  # decimal -> binary\n",
    "        list1.append(binary_num)\n",
    "            \n",
    "    ## binary in-terms of 4 bits\n",
    "    for i in range(len(list1)):\n",
    "        element = list1[i]\n",
    "        if len(element)<4:\n",
    "            diff = 4 - len(element)\n",
    "            for j in range(diff):\n",
    "                element = \"0\" + element\n",
    "            list1[i] = element\n",
    "            \n",
    "    return list1"
   ]
  },
  {
   "cell_type": "code",
   "execution_count": 11,
   "id": "7af0af6c",
   "metadata": {},
   "outputs": [],
   "source": [
    "def Hexaword_BCD(list1):\n",
    "    bcd = [ HexaDecimaltoBCD(i) for i in list1 ]\n",
    "    bcd = list(np.concatenate(bcd).flat)    ## 2d list to 1d list\n",
    "    return bcd"
   ]
  },
  {
   "cell_type": "code",
   "execution_count": 12,
   "id": "43ee1edd",
   "metadata": {},
   "outputs": [],
   "source": [
    "def XOR(list1, list2):\n",
    "    \n",
    "    def compare(element1, element2):\n",
    "        ans = []\n",
    "        for i,j in zip(element1,element2):\n",
    "            if (i!=j):ans.append(1)\n",
    "            else:ans.append(0)\n",
    "        return ans\n",
    "\n",
    "    main_ans = []\n",
    "    for i in range(len(list1)):\n",
    "        main_ans.append(compare(list1[i], list2[i]))\n",
    "        \n",
    "    main_ans = [ \"\".join(list(map(str, i))) for i in main_ans ]\n",
    "    return main_ans"
   ]
  },
  {
   "cell_type": "code",
   "execution_count": 13,
   "id": "d32c6ae6",
   "metadata": {},
   "outputs": [],
   "source": [
    "def rotword(word):\n",
    "    rot=word[1:]\n",
    "    rot.append(word[0])\n",
    "    return rot"
   ]
  },
  {
   "cell_type": "code",
   "execution_count": 14,
   "id": "58b2c512",
   "metadata": {},
   "outputs": [],
   "source": [
    "## round-constant table \n",
    "## key-round and value-hexadecimal\n",
    "round_constant = {1:'1', 2:'2', 3:'4', 4:'8', 5:'10', 6:'20', 7:'40', 8:'80', 9:'1B', 10:'36'}"
   ]
  },
  {
   "cell_type": "code",
   "execution_count": 15,
   "id": "270b237d",
   "metadata": {},
   "outputs": [],
   "source": [
    "def col1_generation(iteration_var, hex_key):\n",
    "\n",
    "    ## taking the last column words\n",
    "    last_col = hex_key[-1]\n",
    "\n",
    "    ## left shifting the last column words\n",
    "    #left_shift = last_col[1:] + last_col[:1] \n",
    "    left_shift = rotword(last_col)\n",
    "\n",
    "    ## sub-word generation from S-Box\n",
    "    subword = []\n",
    "    for i in left_shift:\n",
    "        val = key_sbox(i)\n",
    "        if len(val)!=2:\n",
    "            val = '0' + val\n",
    "            subword.append(val)\n",
    "        else:\n",
    "            subword.append(val)\n",
    "\n",
    "    ## subword --> hexadecimal(subword)\n",
    "    y1 = Hexaword_BCD(subword)\n",
    "\n",
    "    ## subword (XOR) Round Constant\n",
    "    element = round_constant[iteration_var]\n",
    "    initial = HexaDecimaltoBCD(element)\n",
    "    initial_length = len(initial)\n",
    "\n",
    "    if (initial_length == 1):\n",
    "        between = initial\n",
    "        temp_1 = [ [0 for j in range(4) for i in range(1)] ]\n",
    "        last = [ [0 for j in range(4)] for i in range(6) ]\n",
    "        temp_1.extend(between)\n",
    "        temp_1.extend(last)\n",
    "        final = temp_1\n",
    "        if (element==1): ## if there is a single element(0,1,2, ... ,9) from the s-box --> length=1\n",
    "            before1 = [ [0 for j in range(4) for i in range(1)] ]\n",
    "            before1.extend(final)\n",
    "            final = before1\n",
    "\n",
    "    elif (initial_length == 2):  ## if there is a two element(11, 1a, b1, ...) from the s-box --> length=2\n",
    "        last = [ [0 for j in range(4)] for i in range(6) ]\n",
    "        first = initial\n",
    "        first.extend(last)\n",
    "        final = first\n",
    "\n",
    "    final = [ \"\".join(list(map(str, i))) for i in final ]\n",
    "    round_list = final\n",
    "\n",
    "    round_ans = XOR(y1, round_list) ## --> g(col4_before)\n",
    "    print(\"y1 : \",y1)\n",
    "    # taking col1_before\n",
    "    col1_before = [ HexaDecimaltoBCD(i) for i in hex_key[0] ]\n",
    "    col1_before = list(np.concatenate(col1_before).flat)\n",
    "\n",
    "    ## col1 --> col1_before (exor) g(col4_before)\n",
    "    col1 = XOR(col1_before, round_ans)\n",
    "    col1 = bcd_hexadecimal(col1)\n",
    "\n",
    "    return col1"
   ]
  },
  {
   "cell_type": "code",
   "execution_count": 16,
   "id": "04c049e8",
   "metadata": {},
   "outputs": [
    {
     "name": "stdout",
     "output_type": "stream",
     "text": [
      "y1 :  ['1011', '0111', '0101', '1010', '1001', '1101', '1000', '0101']\n",
      "y1 :  ['1011', '0110', '0011', '1010', '1101', '1100', '1111', '0110']\n",
      "y1 :  ['1000', '0000', '0110', '1000', '0010', '1101', '1110', '0000']\n",
      "y1 :  ['0111', '1011', '0111', '0010', '0000', '1111', '0010', '1110']\n",
      "y1 :  ['0000', '0000', '0011', '1011', '0011', '1001', '1111', '1010']\n",
      "y1 :  ['0010', '1100', '0001', '0100', '1111', '1001', '1011', '0100']\n",
      "y1 :  ['0011', '0001', '1010', '1011', '0010', '1111', '1001', '0001']\n",
      "y1 :  ['1100', '0010', '1100', '0111', '0000', '0010', '0011', '0111']\n",
      "y1 :  ['0010', '1010', '1011', '0011', '0101', '0000', '1011', '0001']\n",
      "y1 :  ['1010', '0001', '0001', '1111', '0110', '0001', '0110', '1000']\n"
     ]
    }
   ],
   "source": [
    "for i in range(1,11): ## 10 times running\n",
    "    temp = []\n",
    "    \n",
    "    ## 1st col word = col_before[0] (exor) g(col_before[-1]) \n",
    "    col1_hex = col1_generation(i, hex_key)\n",
    "    col1_bin  = Hexaword_BCD(col1_hex)\n",
    "    \n",
    "    for j in range(2,5): ## each loop, 3 times running ( remaining 3 words)\n",
    "        if (j==2):  ## 2nd col words\n",
    "            col1_before_bin = Hexaword_BCD(hex_key[j-1])\n",
    "            col2_bin = XOR(col1_before_bin, col1_bin)\n",
    "            col2_hex = bcd_hexadecimal(col2_bin)\n",
    "        \n",
    "        else:  ## 3rd and 4th column words\n",
    "            col2_before_bin = Hexaword_BCD(hex_key[j-1])            \n",
    "            col3_bin = XOR(col2_before_bin, col2_bin)\n",
    "            col3_hex = bcd_hexadecimal(col3_bin)\n",
    "            col2_bin = Hexaword_BCD(col3_hex)\n",
    "            temp.append(col3_hex)\n",
    "    \n",
    "    ## once again generating the hex_key\n",
    "    hex_key = []\n",
    "    \n",
    "    hex_key.append(col1_hex)\n",
    "    hex_key.append(col2_hex)\n",
    "    hex_key.extend(temp)    \n",
    "    \n",
    "    complete_keys.append(hex_key)"
   ]
  },
  {
   "cell_type": "code",
   "execution_count": 38,
   "id": "8d2e6e13",
   "metadata": {},
   "outputs": [],
   "source": [
    "def binary_division_modulo_2(val1, val2):\n",
    "\n",
    "    def showpoly(a):\n",
    "        str1 = \"\"\n",
    "        nobits = len(a)\n",
    "        for x in range (0,nobits-2):\n",
    "            if (a[x] == '1'):\n",
    "                if (len(str1)==0):str1 +=\"x**\"+str(nobits-x-1)\t\n",
    "                else: str1 +=\"+x**\"+str(nobits-x-1)\n",
    "        if (a[nobits-2] == '1'):\n",
    "            if (len(str1)==0):str1 +=\"x\"\n",
    "            else:str1 +=\"+x\"\n",
    "\n",
    "        if (a[nobits-1] == '1'):str1 +=\"+1\"\n",
    "        print(str1)\n",
    "\n",
    "    def toList(x):\n",
    "        l = []\n",
    "        for i in range (0,len(x)):l.append(int(x[i]))\n",
    "        return (l)\n",
    "\n",
    "    def toString(x):\n",
    "        str1 =\"\"\n",
    "        for i in range (0,len(x)):str1+=str(x[i])\n",
    "        return (str1)\n",
    "\n",
    "    def divide(val1,val2):\n",
    "        a = toList(val1)\n",
    "        b = toList(val2)\n",
    "        working=\"\"\n",
    "        res=\"\"\n",
    "        \n",
    "        while len(b) <= len(a) and a:\n",
    "            if (a[0] == 1):\n",
    "                del a[0]\n",
    "                for j in range(len(b)-1):\n",
    "                    a[j] ^= b[j+1]\n",
    "                if (len(a)>0):\n",
    "                    working +=toString(a)\n",
    "                    res+= \"1\"\n",
    "                else:\n",
    "                    del a[0]\n",
    "                    working +=toString(a)\n",
    "                    res+=\"0\"\n",
    "        return res, a\n",
    "    \n",
    "    val1, val2 = divide(val1,val2)\n",
    "\n",
    "    ## checking the length\n",
    "    val2_length = len(val2)\n",
    "    if (val2_length<8):\n",
    "        for i in range(8-val2_length):val2.insert(0,0)\n",
    "    \n",
    "    ## convert 4*4 pattern\n",
    "    str1 = ''\n",
    "    for i in val2: str1 = str1 + str(i)\n",
    "    remainder = str1\n",
    "    return remainder"
   ]
  },
  {
   "cell_type": "code",
   "execution_count": null,
   "id": "c0a40d4e",
   "metadata": {},
   "outputs": [],
   "source": []
  },
  {
   "cell_type": "code",
   "execution_count": 39,
   "id": "ae24d951",
   "metadata": {},
   "outputs": [
    {
     "name": "stdout",
     "output_type": "stream",
     "text": [
      "Hexadecimal Representation :  [['54', '77', '6f', '20'], ['4f', '6e', '65', '20'], ['4e', '69', '6e', '65'], ['20', '54', '77', '6f']]\n"
     ]
    }
   ],
   "source": [
    "plain_text_str = 'Two One Nine Two' \n",
    "hex_str = text_hexadecimal(plain_text_str)\n",
    "hex_str = [hex_str[i:i+4] for i in range(0, len(hex_str), 4)]\n",
    "print(\"Hexadecimal Representation : \",hex_str)"
   ]
  },
  {
   "cell_type": "code",
   "execution_count": 40,
   "id": "6ada82aa",
   "metadata": {},
   "outputs": [
    {
     "data": {
      "text/plain": [
       "[['00', '1f', '0e', '54'],\n",
       " ['3c', '4e', '08', '59'],\n",
       " ['6e', '22', '1b', '0b'],\n",
       " ['47', '74', '31', '1a']]"
      ]
     },
     "execution_count": 40,
     "metadata": {},
     "output_type": "execute_result"
    }
   ],
   "source": [
    "add_round_key = []\n",
    "for i in range(4):\n",
    "    bin_str = Hexaword_BCD(hex_str[i])\n",
    "    bin_keys = Hexaword_BCD(complete_keys[0][i])\n",
    "    bin_xor   = XOR(bin_str, bin_keys)\n",
    "    bcd_round_key = bcd_hexadecimal(bin_xor)\n",
    "    add_round_key.append(bcd_round_key)\n",
    "add_round_key"
   ]
  },
  {
   "cell_type": "code",
   "execution_count": 41,
   "id": "5326abdf",
   "metadata": {},
   "outputs": [
    {
     "data": {
      "text/plain": [
       "[['63', 'eb', '9f', 'a0'],\n",
       " ['c0', '2f', '93', '92'],\n",
       " ['ab', '30', 'af', 'c7'],\n",
       " ['20', 'cb', '2b', 'a2']]"
      ]
     },
     "execution_count": 41,
     "metadata": {},
     "output_type": "execute_result"
    }
   ],
   "source": [
    "subword = []\n",
    "for i in range(4):\n",
    "    temp_word = []\n",
    "    for j in add_round_key:\n",
    "        val = key_sbox(j[i])\n",
    "        if len(val)!=2:\n",
    "            val = '0' + val\n",
    "            temp_word.append(val)\n",
    "        else:\n",
    "            temp_word.append(val)\n",
    "\n",
    "    ## subword --> hexadecimal(subword)\n",
    "    temp_word = Hexaword_BCD(temp_word)\n",
    "    temp_word_hexa = bcd_hexadecimal(temp_word)\n",
    "    subword.append(temp_word_hexa)\n",
    "    temp_word_hexa = []\n",
    "\n",
    "## swapping rows and columns\n",
    "#subword = [list(x) for x in zip(*subword)]\n",
    "subword"
   ]
  },
  {
   "cell_type": "code",
   "execution_count": 42,
   "id": "1e8f78de",
   "metadata": {},
   "outputs": [
    {
     "data": {
      "text/plain": [
       "[['63', 'eb', '9f', 'a0'],\n",
       " ['2f', '93', '92', 'c0'],\n",
       " ['af', 'c7', 'ab', '30'],\n",
       " ['a2', '20', 'cb', '2b']]"
      ]
     },
     "execution_count": 42,
     "metadata": {},
     "output_type": "execute_result"
    }
   ],
   "source": [
    "shift_rows = []\n",
    "subword = collections.deque(subword)\n",
    "for i in range(4):\n",
    "    temp = collections.deque(subword[i])\n",
    "    temp.rotate(-i)\n",
    "    shift_rows.append(list(temp))\n",
    "shift_rows"
   ]
  },
  {
   "cell_type": "code",
   "execution_count": 43,
   "id": "66ba4fbe",
   "metadata": {},
   "outputs": [
    {
     "data": {
      "text/plain": [
       "[['63', '2f', 'af', 'a2'],\n",
       " ['eb', '93', 'c7', '20'],\n",
       " ['9f', '92', 'ab', 'cb'],\n",
       " ['a0', 'c0', '30', '2b']]"
      ]
     },
     "execution_count": 43,
     "metadata": {},
     "output_type": "execute_result"
    }
   ],
   "source": [
    "shift_rows = [list(x) for x in zip(*shift_rows)]\n",
    "shift_rows"
   ]
  },
  {
   "cell_type": "code",
   "execution_count": 44,
   "id": "b274cd2c",
   "metadata": {},
   "outputs": [],
   "source": [
    "multiple = [['02', '03', '01', '01'],\n",
    "                 ['01', '02', '03', '01'],\n",
    "                 ['01', '01', '02', '03'],\n",
    "                 ['03', '01', '01', '02']]"
   ]
  },
  {
   "cell_type": "code",
   "execution_count": 45,
   "id": "0004dcf4",
   "metadata": {},
   "outputs": [],
   "source": [
    "def bin_product(list1, list2):\n",
    "    product = []\n",
    "    for i,j in zip(list1, list2):\n",
    "        ans = int(i,2) * int(j,2)\n",
    "        print(ans)\n",
    "        product.append(ans)\n",
    "    return product"
   ]
  },
  {
   "cell_type": "code",
   "execution_count": 46,
   "id": "0a430f0f",
   "metadata": {},
   "outputs": [
    {
     "data": {
      "text/plain": [
       "[['02', '03', '01', '01'],\n",
       " ['01', '02', '03', '01'],\n",
       " ['01', '01', '02', '03'],\n",
       " ['03', '01', '01', '02']]"
      ]
     },
     "execution_count": 46,
     "metadata": {},
     "output_type": "execute_result"
    }
   ],
   "source": [
    "multiple"
   ]
  },
  {
   "cell_type": "code",
   "execution_count": 47,
   "id": "77c4874d",
   "metadata": {},
   "outputs": [
    {
     "data": {
      "text/plain": [
       "[['63', '2f', 'af', 'a2'],\n",
       " ['eb', '93', 'c7', '20'],\n",
       " ['9f', '92', 'ab', 'cb'],\n",
       " ['a0', 'c0', '30', '2b']]"
      ]
     },
     "execution_count": 47,
     "metadata": {},
     "output_type": "execute_result"
    }
   ],
   "source": [
    "shift_rows"
   ]
  },
  {
   "cell_type": "code",
   "execution_count": null,
   "id": "0df6dcb3",
   "metadata": {},
   "outputs": [],
   "source": []
  },
  {
   "cell_type": "code",
   "execution_count": 53,
   "id": "7f87d68a",
   "metadata": {},
   "outputs": [
    {
     "name": "stdout",
     "output_type": "stream",
     "text": [
      "num1 : 02 and num2: 63 \n",
      "num1 : 03 and num2: 2f \n",
      "num1 : 01 and num2: af \n",
      "num1 : 01 and num2: a2 \n",
      "46\n",
      "\n",
      "\n",
      "num1 : 01 and num2: eb \n",
      "num1 : 02 and num2: 93 \n",
      "num1 : 03 and num2: c7 \n",
      "num1 : 01 and num2: 20 \n",
      "f9\n",
      "\n",
      "\n",
      "num1 : 01 and num2: 9f \n",
      "num1 : 01 and num2: 92 \n",
      "num1 : 02 and num2: ab \n",
      "num1 : 03 and num2: cb \n",
      "cd\n",
      "\n",
      "\n",
      "num1 : 03 and num2: a0 \n",
      "num1 : 01 and num2: c0 \n",
      "num1 : 01 and num2: 30 \n",
      "num1 : 02 and num2: 2b \n",
      "fb\n",
      "\n",
      "\n"
     ]
    }
   ],
   "source": [
    "final_prod_ans = []    \n",
    "prod_ans = []\n",
    "\n",
    "for i,j in zip(multiple, shift_rows):\n",
    "\n",
    "    for k in range(4):\n",
    "        \n",
    "        ## hexadecimal to BCD\n",
    "        num1 = Hexaword_BCD(i[k])\n",
    "        num2 = Hexaword_BCD(j[k])\n",
    "        print(\"num1 : {} and num2: {} \".format(i[k], j[k]))\n",
    "        \n",
    "        ## Product operation\n",
    "        ## concatenating the 1st and 2nd index of the list\n",
    "        num1_join = int( (str(num1[0]) + str(num1[1])) ,2)  ## concatenated bcd to decimal\n",
    "        num2_join = int( (str(num2[0]) + str(num2[1])) ,2)  ## concatenated bcd to decimal\n",
    "        \n",
    "        ans = bin(num1_join * num2_join)[2:]   ## decimal product and back to bcd\n",
    "        \n",
    "        if (len(ans)>8): ## Not in the limit of GF(2^8) --> So Divide by an ir-reducible polynomial\n",
    "            irreducible_polynomial = '100011011'\n",
    "            ans = binary_division_modulo_2(irreducible_polynomial, ans)\n",
    "            prod_ans.append(ans)\n",
    "        elif len(ans)==8: ## Within the limit of GF(2^8) --> No Need to divide by an ir-reducible polynomial\n",
    "            prod_ans.append(ans)\n",
    "    \n",
    "    #print(\"prod_ans : \",prod_ans)\n",
    "    #print(\"\\n\")\n",
    "        \n",
    "    ## XOR operation\n",
    "    xor_ans = []\n",
    "    temp_ans = []\n",
    "    \n",
    "    ans34 = XOR(prod_ans[-4], prod_ans[-3])\n",
    "    ans12 = XOR(prod_ans[-2], prod_ans[-1])\n",
    "    temp_ans.append(XOR(ans12, ans34))\n",
    "    \n",
    "    ## flattening the list  now the list of individual 8 elements\n",
    "    temp_ans = [item for sublist in temp_ans for item in sublist] \n",
    "    \n",
    "    ## separating 4,4 pattern\n",
    "    xor_ans.append(''.join(temp_ans)[:4])\n",
    "    xor_ans.append(''.join(temp_ans)[4:])\n",
    "    final_prod_ans.append(bcd_hexadecimal(xor_ans))\n",
    "    \n",
    "    print(*bcd_hexadecimal(xor_ans))\n",
    "    print(\"\\n\")"
   ]
  },
  {
   "cell_type": "code",
   "execution_count": 28,
   "id": "5ff9c8c3",
   "metadata": {},
   "outputs": [
    {
     "data": {
      "text/plain": [
       "[['46'], ['f9'], ['cd'], ['fb']]"
      ]
     },
     "execution_count": 28,
     "metadata": {},
     "output_type": "execute_result"
    }
   ],
   "source": [
    "final_prod_ans"
   ]
  },
  {
   "cell_type": "code",
   "execution_count": 58,
   "id": "3c489e16",
   "metadata": {},
   "outputs": [
    {
     "name": "stdout",
     "output_type": "stream",
     "text": [
      "num1 : 02 and num2: 63 \n",
      "num1 : 03 and num2: 2f \n",
      "num1 : 01 and num2: af \n",
      "num1 : 01 and num2: a2 \n",
      "\n",
      "\n",
      "num1 : 01 and num2: eb \n",
      "num1 : 02 and num2: 93 \n",
      "num1 : 03 and num2: c7 \n",
      "num1 : 01 and num2: 20 \n",
      "\n",
      "\n",
      "num1 : 01 and num2: 9f \n",
      "num1 : 01 and num2: 92 \n",
      "num1 : 02 and num2: ab \n",
      "num1 : 03 and num2: cb \n",
      "\n",
      "\n",
      "num1 : 03 and num2: a0 \n",
      "num1 : 01 and num2: c0 \n",
      "num1 : 01 and num2: 30 \n",
      "num1 : 02 and num2: 2b \n",
      "\n",
      "\n"
     ]
    }
   ],
   "source": [
    "for i,j in zip(multiple, shift_rows):\n",
    "    for k in range(4):\n",
    "        print(\"num1 : {} and num2: {} \".format(i[k], j[k]))\n",
    "    print(\"\\n\")"
   ]
  },
  {
   "cell_type": "code",
   "execution_count": 55,
   "id": "f0988a9d",
   "metadata": {},
   "outputs": [
    {
     "data": {
      "text/plain": [
       "[['63', '2f', 'af', 'a2'],\n",
       " ['eb', '93', 'c7', '20'],\n",
       " ['9f', '92', 'ab', 'cb'],\n",
       " ['a0', 'c0', '30', '2b']]"
      ]
     },
     "execution_count": 55,
     "metadata": {},
     "output_type": "execute_result"
    }
   ],
   "source": [
    "shift_rows"
   ]
  },
  {
   "cell_type": "code",
   "execution_count": 56,
   "id": "f92f2443",
   "metadata": {},
   "outputs": [
    {
     "data": {
      "text/plain": [
       "[['02', '03', '01', '01'],\n",
       " ['01', '02', '03', '01'],\n",
       " ['01', '01', '02', '03'],\n",
       " ['03', '01', '01', '02']]"
      ]
     },
     "execution_count": 56,
     "metadata": {},
     "output_type": "execute_result"
    }
   ],
   "source": [
    "multiple"
   ]
  },
  {
   "cell_type": "code",
   "execution_count": 29,
   "id": "780eb112",
   "metadata": {},
   "outputs": [
    {
     "name": "stdout",
     "output_type": "stream",
     "text": [
      "00111101\n"
     ]
    }
   ],
   "source": [
    "val1 = '100011011'\n",
    "val2 = '100100110'\n",
    "\n",
    "remainder = binary_division_modulo_2(val1, val2)\n",
    "\n",
    "#print(quotient)\n",
    "print(remainder)"
   ]
  },
  {
   "cell_type": "markdown",
   "id": "1aab9ace",
   "metadata": {},
   "source": [
    " <h1 style=\"font-family:serif; font-size:200%\">Keys for all rounds"
   ]
  },
  {
   "cell_type": "code",
   "execution_count": 30,
   "id": "89fb438b",
   "metadata": {},
   "outputs": [
    {
     "name": "stdout",
     "output_type": "stream",
     "text": [
      "Round - 1 keys -->  54 68 61 74 73 20 6d 79 20 4b 75 6e 67 20 46 75\n",
      "Round - 2 keys -->  e2 32 fc f1 91 12 91 88 b1 59 e4 e6 d6 79 a2 93\n",
      "Round - 3 keys -->  56 08 20 07 c7 1a b1 8f 76 43 55 69 a0 3a f7 fa\n",
      "Round - 4 keys -->  d2 60 0d e7 15 7a bc 68 63 39 e9 01 c3 03 1e fb\n",
      "Round - 5 keys -->  a1 12 02 c9 b4 68 be a1 d7 51 57 a0 14 52 49 5b\n",
      "Round - 6 keys -->  b1 29 3b 33 05 41 85 92 d2 10 d2 32 c6 42 9b 69\n",
      "Round - 7 keys -->  bd 3d c2 87 b8 7c 47 15 6a 6c 95 27 ac 2e 0e 4e\n",
      "Round - 8 keys -->  cc 96 ed 16 74 ea aa 03 1e 86 3f 24 b2 a8 31 6a\n",
      "Round - 9 keys -->  8e 51 ef 21 fa bb 45 22 e4 3d 7a 06 56 95 4b 6c\n",
      "Round - 10 keys -->  bf e2 bf 90 45 59 fa b2 a1 64 80 b4 f7 f1 cb d8\n",
      "Round - 11 keys -->  28 fd de f8 6d a4 24 4a cc c0 a4 fe 3b 31 6f 26\n"
     ]
    }
   ],
   "source": [
    "for i in range(len(complete_keys)):\n",
    "    print(\"Round - {} keys --> \".format(i+1),end=' ')\n",
    "    print(*list(itertools.chain(*complete_keys[i])))"
   ]
  },
  {
   "cell_type": "code",
   "execution_count": null,
   "id": "a5e6fe84",
   "metadata": {},
   "outputs": [],
   "source": []
  },
  {
   "cell_type": "code",
   "execution_count": 31,
   "id": "41c70b98",
   "metadata": {},
   "outputs": [
    {
     "data": {
      "text/plain": [
       "[['54', '68', '61', '74'],\n",
       " ['73', '20', '6d', '79'],\n",
       " ['20', '4b', '75', '6e'],\n",
       " ['67', '20', '46', '75']]"
      ]
     },
     "execution_count": 31,
     "metadata": {},
     "output_type": "execute_result"
    }
   ],
   "source": [
    "complete_keys[0]"
   ]
  },
  {
   "cell_type": "code",
   "execution_count": null,
   "id": "d3ea27be",
   "metadata": {},
   "outputs": [],
   "source": []
  },
  {
   "cell_type": "code",
   "execution_count": null,
   "id": "eca490a3",
   "metadata": {},
   "outputs": [],
   "source": []
  },
  {
   "cell_type": "code",
   "execution_count": 32,
   "id": "fd0b5fac",
   "metadata": {},
   "outputs": [],
   "source": [
    "def add_round_key(hex_str, hex_key): ## exor with plain text and key\n",
    "    \n",
    "    add_round_key = []\n",
    "    for i in range(4):\n",
    "        bin_str = Hexaword_BCD(hex_str[i])\n",
    "        bin_keys = Hexaword_BCD(complete_keys[0][i])\n",
    "        bin_xor   = XOR(bin_str, bin_keys)\n",
    "        bcd_round_key = bcd_hexadecimal(bin_xor)\n",
    "        add_round_key.append(bcd_round_key)\n",
    "\n",
    "        return add_round_key"
   ]
  },
  {
   "cell_type": "code",
   "execution_count": 33,
   "id": "5a6e48e8",
   "metadata": {},
   "outputs": [],
   "source": [
    "def subtitute_box(add_round_key):  ## output from add_round_key\n",
    "    subword = []\n",
    "    for i in range(4):\n",
    "        temp_word = []\n",
    "        for j in add_round_key:\n",
    "            val = key_sbox(j[i])\n",
    "            if len(val)!=2:\n",
    "                val = '0' + val\n",
    "                temp_word.append(val)\n",
    "            else:\n",
    "                temp_word.append(val)\n",
    "\n",
    "        ## subword --> hexadecimal(subword)\n",
    "        temp_word = Hexaword_BCD(temp_word)\n",
    "        temp_word_hexa = bcd_hexadecimal(temp_word)\n",
    "        subword.append(temp_word_hexa)\n",
    "        temp_word_hexa = []\n",
    "\n",
    "    ## swapping rows and columns\n",
    "    subword = [list(x) for x in zip(*subword)]\n",
    "    return subword"
   ]
  },
  {
   "cell_type": "code",
   "execution_count": 34,
   "id": "2c7a82b5",
   "metadata": {},
   "outputs": [],
   "source": [
    "def shift_rows(subword):\n",
    "    shift_rows = []\n",
    "    subword = collections.deque(subword)\n",
    "    for i in range(4):\n",
    "        temp = collections.deque(subword[i])\n",
    "        temp.rotate(-i)\n",
    "        shift_rows.append(list(temp))\n",
    "    return shift_rows"
   ]
  },
  {
   "cell_type": "code",
   "execution_count": 35,
   "id": "215211eb",
   "metadata": {},
   "outputs": [
    {
     "ename": "IndentationError",
     "evalue": "expected an indented block (3303023366.py, line 1)",
     "output_type": "error",
     "traceback": [
      "\u001b[0;36m  File \u001b[0;32m\"/var/folders/gq/nsqxf83n1813yysq2l8vvtxc0000gn/T/ipykernel_5017/3303023366.py\"\u001b[0;36m, line \u001b[0;32m1\u001b[0m\n\u001b[0;31m    def mix_columns():\u001b[0m\n\u001b[0m                      ^\u001b[0m\n\u001b[0;31mIndentationError\u001b[0m\u001b[0;31m:\u001b[0m expected an indented block\n"
     ]
    }
   ],
   "source": [
    "def mix_columns():"
   ]
  },
  {
   "cell_type": "code",
   "execution_count": null,
   "id": "d5ae9a66",
   "metadata": {},
   "outputs": [],
   "source": [
    "def main():\n",
    "    round_num = 0"
   ]
  },
  {
   "cell_type": "code",
   "execution_count": null,
   "id": "a7afa8f9",
   "metadata": {},
   "outputs": [],
   "source": [
    "print(hex_str)"
   ]
  },
  {
   "cell_type": "code",
   "execution_count": null,
   "id": "09e93cd5",
   "metadata": {},
   "outputs": [],
   "source": [
    "print(complete_keys[0])"
   ]
  },
  {
   "cell_type": "code",
   "execution_count": null,
   "id": "e5019193",
   "metadata": {},
   "outputs": [],
   "source": [
    "XOR(hex_str,complete_keys[0])"
   ]
  },
  {
   "cell_type": "code",
   "execution_count": null,
   "id": "37e84c21",
   "metadata": {},
   "outputs": [],
   "source": [
    "for i,j in zip(hex_str, complete_keys[0]):\n",
    "    print(i[0],j[0])\n",
    "    #print(XOR(i[0],j[0]))\n",
    "    \n",
    "    #print(Hexaword_BCD(i[0]))\n",
    "    \n",
    "    col1_before = [ HexaDecimaltoBCD(element) for element in i[0] ]\n",
    "    col1_before = list(np.concatenate(col1_before).flat)\n",
    "    \n",
    "    print(col1_before)\n",
    "    break"
   ]
  },
  {
   "cell_type": "code",
   "execution_count": null,
   "id": "603980f8",
   "metadata": {},
   "outputs": [],
   "source": [
    "#col1_hex = col1_generation(i, hex_key)\n",
    "col1_bin  = Hexaword_BCD(hex_str)\n",
    "print(col1_bin)"
   ]
  },
  {
   "cell_type": "code",
   "execution_count": null,
   "id": "3d89712a",
   "metadata": {},
   "outputs": [],
   "source": [
    "col1_before = [ HexaDecimaltoBCD(i) for i in hex_key[0] ]\n",
    "col1_before = list(np.concatenate(col1_before).flat)"
   ]
  },
  {
   "cell_type": "code",
   "execution_count": null,
   "id": "218c72f8",
   "metadata": {},
   "outputs": [],
   "source": [
    "    col1_before = [ HexaDecimaltoBCD(element) for element in i ]\n",
    "    col1_before = list(np.concatenate(col1_before).flat)\n",
    "    print(col1_before)"
   ]
  },
  {
   "cell_type": "code",
   "execution_count": null,
   "id": "8b3874ff",
   "metadata": {},
   "outputs": [],
   "source": []
  },
  {
   "cell_type": "markdown",
   "id": "42e969e6",
   "metadata": {},
   "source": [
    "<h1 style=\"font-family:serif; font-size:150%\">Mam, I have included my code here\n"
   ]
  },
  {
   "cell_type": "markdown",
   "id": "5fb714c3",
   "metadata": {},
   "source": [
    "https://github.com/PrashanthSingaravelan/winter_semester-2022-assignments/tree/main/CSI3002%20Applied%20Cryptography%20and%20Network%20Security/lab%20assignment/assignment_3"
   ]
  },
  {
   "cell_type": "code",
   "execution_count": null,
   "id": "c37ae81f",
   "metadata": {},
   "outputs": [],
   "source": [
    "'''\n",
    "https://asecuritysite.com/comms/mod_div?a=10011&b=11\n",
    "'''"
   ]
  }
 ],
 "metadata": {
  "kernelspec": {
   "display_name": "Python 3.9.7 ('base')",
   "language": "python",
   "name": "python397jvsc74a57bd0b7a2a0b4f94735ea31e77398a02d224ee82f8658043a15390cdd4e6a2ed959b7"
  },
  "language_info": {
   "codemirror_mode": {
    "name": "ipython",
    "version": 3
   },
   "file_extension": ".py",
   "mimetype": "text/x-python",
   "name": "python",
   "nbconvert_exporter": "python",
   "pygments_lexer": "ipython3",
   "version": "3.9.7"
  }
 },
 "nbformat": 4,
 "nbformat_minor": 5
}
