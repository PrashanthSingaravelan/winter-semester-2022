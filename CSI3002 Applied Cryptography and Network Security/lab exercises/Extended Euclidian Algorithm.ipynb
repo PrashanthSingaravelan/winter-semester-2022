{
 "cells": [
  {
   "cell_type": "code",
   "execution_count": 1,
   "id": "cf662023",
   "metadata": {},
   "outputs": [],
   "source": [
    "import numpy as np"
   ]
  },
  {
   "cell_type": "markdown",
   "id": "7a325d4f",
   "metadata": {},
   "source": [
    "# Euclidian Algorithm"
   ]
  },
  {
   "cell_type": "markdown",
   "id": "dbb795f8",
   "metadata": {},
   "source": [
    "## Iterative Method"
   ]
  },
  {
   "cell_type": "code",
   "execution_count": 4,
   "id": "4b20bcb7",
   "metadata": {},
   "outputs": [
    {
     "name": "stdout",
     "output_type": "stream",
     "text": [
      "Enter 1st number : 750\n",
      "Enter 2nd number : 900\n",
      "GCD of (750 , 900): 150 \n"
     ]
    }
   ],
   "source": [
    "num1 = int(input(\"Enter 1st number : \"))\n",
    "num2 = int(input(\"Enter 2nd number : \"))\n",
    "\n",
    "if num1>num2: r_one, r_tow = num1, num2\n",
    "else: r_one, r_two = num2, num1\n",
    "\n",
    "while (r_two!=0):\n",
    "    q = int(r_one / r_two)\n",
    "    r = int(r_one % r_two)\n",
    "    \n",
    "    r_one = r_two\n",
    "    r_two = r\n",
    "\n",
    "print(\"GCD of ({} , {}): {} \".format(num1, num2, r_one))"
   ]
  },
  {
   "cell_type": "markdown",
   "id": "abf9b3b5",
   "metadata": {},
   "source": [
    "## Recursive Method"
   ]
  },
  {
   "cell_type": "code",
   "execution_count": 7,
   "id": "8b43222e",
   "metadata": {},
   "outputs": [
    {
     "name": "stdout",
     "output_type": "stream",
     "text": [
      "Enter 1st number : 83\n",
      "Enter 2nd number : 19\n",
      "GCD of (83 , 19): 1 \n"
     ]
    }
   ],
   "source": [
    "def GCD(r_one, r_two):\n",
    "    if (r_two == 0):\n",
    "        return r_one\n",
    "    else:\n",
    "        return GCD(r_two, int(r_one % r_two))\n",
    "    \n",
    "if __name__ == '__main__':\n",
    "\n",
    "    num1 = int(input(\"Enter 1st number : \"))\n",
    "    num2 = int(input(\"Enter 2nd number : \"))\n",
    "\n",
    "    if num1>num2: r_one, r_tow = num1, num2\n",
    "    else: r_one, r_two = num2, num1\n",
    "\n",
    "    print(\"GCD of ({} , {}): {} \".format(num1, num2, GCD(r_one, r_two)))"
   ]
  },
  {
   "cell_type": "markdown",
   "id": "5ca8884d",
   "metadata": {},
   "source": [
    "# Extended Euclidian Algorithm"
   ]
  },
  {
   "cell_type": "code",
   "execution_count": 43,
   "id": "c0936beb",
   "metadata": {},
   "outputs": [
    {
     "name": "stdout",
     "output_type": "stream",
     "text": [
      "Enter 1st number : 161\n",
      "Enter 2nd number : 28\n"
     ]
    },
    {
     "data": {
      "text/html": [
       "<div>\n",
       "<style scoped>\n",
       "    .dataframe tbody tr th:only-of-type {\n",
       "        vertical-align: middle;\n",
       "    }\n",
       "\n",
       "    .dataframe tbody tr th {\n",
       "        vertical-align: top;\n",
       "    }\n",
       "\n",
       "    .dataframe thead th {\n",
       "        text-align: right;\n",
       "    }\n",
       "</style>\n",
       "<table border=\"1\" class=\"dataframe\">\n",
       "  <thead>\n",
       "    <tr style=\"text-align: right;\">\n",
       "      <th></th>\n",
       "      <th>q</th>\n",
       "      <th>r1</th>\n",
       "      <th>r2</th>\n",
       "      <th>r</th>\n",
       "      <th>x1</th>\n",
       "      <th>x2</th>\n",
       "      <th>x</th>\n",
       "      <th>y1</th>\n",
       "      <th>y2</th>\n",
       "      <th>y</th>\n",
       "    </tr>\n",
       "  </thead>\n",
       "  <tbody>\n",
       "    <tr>\n",
       "      <th>0</th>\n",
       "      <td>5</td>\n",
       "      <td>161</td>\n",
       "      <td>28</td>\n",
       "      <td>21</td>\n",
       "      <td>1</td>\n",
       "      <td>0</td>\n",
       "      <td>1</td>\n",
       "      <td>0</td>\n",
       "      <td>1</td>\n",
       "      <td>-5</td>\n",
       "    </tr>\n",
       "    <tr>\n",
       "      <th>1</th>\n",
       "      <td>1</td>\n",
       "      <td>28</td>\n",
       "      <td>21</td>\n",
       "      <td>7</td>\n",
       "      <td>0</td>\n",
       "      <td>1</td>\n",
       "      <td>-1</td>\n",
       "      <td>1</td>\n",
       "      <td>-5</td>\n",
       "      <td>6</td>\n",
       "    </tr>\n",
       "    <tr>\n",
       "      <th>2</th>\n",
       "      <td>3</td>\n",
       "      <td>21</td>\n",
       "      <td>7</td>\n",
       "      <td>0</td>\n",
       "      <td>1</td>\n",
       "      <td>-1</td>\n",
       "      <td>4</td>\n",
       "      <td>-5</td>\n",
       "      <td>6</td>\n",
       "      <td>-23</td>\n",
       "    </tr>\n",
       "  </tbody>\n",
       "</table>\n",
       "</div>"
      ],
      "text/plain": [
       "   q   r1  r2   r  x1  x2  x  y1  y2   y\n",
       "0  5  161  28  21   1   0  1   0   1  -5\n",
       "1  1   28  21   7   0   1 -1   1  -5   6\n",
       "2  3   21   7   0   1  -1  4  -5   6 -23"
      ]
     },
     "metadata": {},
     "output_type": "display_data"
    },
    {
     "name": "stdout",
     "output_type": "stream",
     "text": [
      "GCD of (161 , 28): 7 \n"
     ]
    }
   ],
   "source": [
    "num1 = int(input(\"Enter 1st number : \"))\n",
    "num2 = int(input(\"Enter 2nd number : \"))\n",
    "\n",
    "x1 = 1\n",
    "x2 = 0\n",
    "y1 = 0\n",
    "y2 = 1\n",
    "\n",
    "list1 = []\n",
    "\n",
    "if num1>num2: \n",
    "    r_one, r_two = num1, num2\n",
    "else: \n",
    "    r_one, r_two = num2, num1\n",
    "    \n",
    "list1 = []\n",
    "while (r_two!=0):\n",
    "    \n",
    "    temp = []\n",
    "    \n",
    "    q = int(r_one / r_two)\n",
    "    r = int(r_one % r_two)\n",
    "    \n",
    "    x = x1 - (q*x2)\n",
    "    y = y1 - (q*y2)\n",
    "    \n",
    "    temp.append((q,r_one,r_two,r,x1,x2,x,y1,y2,y))\n",
    "    list1.append(temp)\n",
    "    \n",
    "    r_one = r_two\n",
    "    r_two = r\n",
    "    \n",
    "    x1 = x2\n",
    "    x2 = x\n",
    "    \n",
    "    y1 = y2\n",
    "    y2 = y\n",
    "    \n",
    "list1 = [list(list1[i][0]) for i in range(len(list1))]\n",
    "df = pd.DataFrame(list1, columns = ['q', 'r1', 'r2', 'r', 'x1', 'x2', 'x', 'y1', 'y2', 'y'])    \n",
    "\n",
    "display(df.head())\n",
    "print(\"GCD of ({} , {}): {} \".format(num1, num2, r_one))"
   ]
  },
  {
   "cell_type": "code",
   "execution_count": null,
   "id": "3b0d4d85",
   "metadata": {},
   "outputs": [],
   "source": []
  }
 ],
 "metadata": {
  "kernelspec": {
   "display_name": "Python 3 (ipykernel)",
   "language": "python",
   "name": "python3"
  },
  "language_info": {
   "codemirror_mode": {
    "name": "ipython",
    "version": 3
   },
   "file_extension": ".py",
   "mimetype": "text/x-python",
   "name": "python",
   "nbconvert_exporter": "python",
   "pygments_lexer": "ipython3",
   "version": "3.9.7"
  }
 },
 "nbformat": 4,
 "nbformat_minor": 5
}
