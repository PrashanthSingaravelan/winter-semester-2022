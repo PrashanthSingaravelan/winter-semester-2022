{
 "cells": [
  {
   "cell_type": "code",
   "execution_count": 1,
   "id": "a2a61b53",
   "metadata": {},
   "outputs": [],
   "source": [
    "str1 = \"HelloVitWelcome!\""
   ]
  },
  {
   "cell_type": "code",
   "execution_count": 2,
   "id": "695e0f39",
   "metadata": {},
   "outputs": [],
   "source": [
    "half_one = str1[:8]\n",
    "half_two = str1[8:16]"
   ]
  },
  {
   "cell_type": "code",
   "execution_count": 3,
   "id": "dc0197d2",
   "metadata": {},
   "outputs": [
    {
     "data": {
      "text/plain": [
       "'HelloVit'"
      ]
     },
     "execution_count": 3,
     "metadata": {},
     "output_type": "execute_result"
    }
   ],
   "source": [
    "half_one"
   ]
  },
  {
   "cell_type": "code",
   "execution_count": 4,
   "id": "fe780197",
   "metadata": {},
   "outputs": [
    {
     "data": {
      "text/plain": [
       "'Welcome!'"
      ]
     },
     "execution_count": 4,
     "metadata": {},
     "output_type": "execute_result"
    }
   ],
   "source": [
    "half_two"
   ]
  },
  {
   "cell_type": "code",
   "execution_count": 6,
   "id": "b46aa433",
   "metadata": {},
   "outputs": [
    {
     "data": {
      "text/plain": [
       "72"
      ]
     },
     "execution_count": 6,
     "metadata": {},
     "output_type": "execute_result"
    }
   ],
   "source": [
    "deci = ord(half_one[0]) ## decimal representation\n",
    "deci"
   ]
  },
  {
   "cell_type": "code",
   "execution_count": 7,
   "id": "ae7e01f0",
   "metadata": {},
   "outputs": [
    {
     "data": {
      "text/plain": [
       "'48'"
      ]
     },
     "execution_count": 7,
     "metadata": {},
     "output_type": "execute_result"
    }
   ],
   "source": [
    "hexi = hex(ord(half_one[0]))[-2:] ## hexidecimal representation\n",
    "hexi"
   ]
  },
  {
   "cell_type": "code",
   "execution_count": 1,
   "id": "40c03d5e",
   "metadata": {},
   "outputs": [],
   "source": [
    "def BCDConversion(n) :\n",
    "\n",
    "    # Base Case\n",
    "    if (n == 0) :\n",
    "        print(\"0000\")\n",
    "        return\n",
    "\n",
    "    # To store the reverse of n\n",
    "    rev = 0\n",
    "\n",
    "    # Reversing the digits\n",
    "    while (n > 0) :\n",
    "        rev = rev * 10 + (n % 10)\n",
    "        n = n // 10\n",
    "\n",
    "    # Iterate through all digits in rev\n",
    "    while (rev > 0) :\n",
    "        \n",
    "        # Find Binary for each digit using bitset\n",
    "        b = str(rev % 10)\n",
    "\n",
    "        # Print the Binary conversion for current digit\n",
    "        number  = int(b, 16)\n",
    "\n",
    "        # Divide rev by 10 for next digit\n",
    "        rev = rev // 10\n",
    "        \n",
    "        return number"
   ]
  },
  {
   "cell_type": "code",
   "execution_count": 2,
   "id": "85365ea4",
   "metadata": {},
   "outputs": [
    {
     "data": {
      "text/plain": [
       "7"
      ]
     },
     "execution_count": 2,
     "metadata": {},
     "output_type": "execute_result"
    }
   ],
   "source": [
    "BCDConversion(73)"
   ]
  },
  {
   "cell_type": "code",
   "execution_count": 10,
   "id": "63724b5e",
   "metadata": {},
   "outputs": [
    {
     "name": "stdout",
     "output_type": "stream",
     "text": [
      "1000 "
     ]
    }
   ],
   "source": [
    "BCDConversion(int(hexi[1]))"
   ]
  },
  {
   "cell_type": "code",
   "execution_count": null,
   "id": "69d1dfb3",
   "metadata": {},
   "outputs": [],
   "source": []
  },
  {
   "cell_type": "code",
   "execution_count": null,
   "id": "6b967794",
   "metadata": {},
   "outputs": [],
   "source": []
  },
  {
   "cell_type": "code",
   "execution_count": null,
   "id": "513ab655",
   "metadata": {},
   "outputs": [],
   "source": []
  },
  {
   "cell_type": "code",
   "execution_count": null,
   "id": "ed6793c6",
   "metadata": {},
   "outputs": [],
   "source": []
  },
  {
   "cell_type": "code",
   "execution_count": null,
   "id": "1a3f1826",
   "metadata": {},
   "outputs": [],
   "source": []
  }
 ],
 "metadata": {
  "kernelspec": {
   "display_name": "Python 3 (ipykernel)",
   "language": "python",
   "name": "python3"
  },
  "language_info": {
   "codemirror_mode": {
    "name": "ipython",
    "version": 3
   },
   "file_extension": ".py",
   "mimetype": "text/x-python",
   "name": "python",
   "nbconvert_exporter": "python",
   "pygments_lexer": "ipython3",
   "version": "3.9.7"
  }
 },
 "nbformat": 4,
 "nbformat_minor": 5
}
