{
 "cells": [
  {
   "cell_type": "markdown",
   "id": "73b07e82",
   "metadata": {},
   "source": [
    "<body style=\"background-color:FFFF33;\">\n",
    "<h1 style=\"text-align:center; font-family:serif; font-size:300%\">Elgamal Based Digital Signature</h1>\n",
    "<h1 style=\"text-align:right; font-family:serif; font-size:150%\">Prashanth.S 19MID0020</h1>"
   ]
  },
  {
   "cell_type": "markdown",
   "id": "e07b276e",
   "metadata": {},
   "source": [
    "<body style=\"background-color:FFFF33;\">\n",
    "<h1 style=\"text-align:left; font-family:serif; font-size:200%\">Importing the Libraries</h1>"
   ]
  },
  {
   "cell_type": "code",
   "execution_count": 1,
   "id": "8cba4994",
   "metadata": {},
   "outputs": [],
   "source": [
    "import numpy as np\n",
    "import random"
   ]
  },
  {
   "cell_type": "markdown",
   "id": "92934f11",
   "metadata": {},
   "source": [
    "<body style=\"background-color:FFFF33;\">\n",
    "<h1 style=\"text-align:left; font-family:serif; font-size:200%\">Getting inputs from the user</h1>"
   ]
  },
  {
   "cell_type": "code",
   "execution_count": 2,
   "id": "070975af",
   "metadata": {},
   "outputs": [],
   "source": [
    "prime_number = 11\n",
    "generator = 2\n",
    "Message = 5"
   ]
  },
  {
   "cell_type": "markdown",
   "id": "d6488f83",
   "metadata": {},
   "source": [
    "<body style=\"background-color:FFFF33;\">\n",
    "<h1 style=\"text-align:left; font-family:serif; font-size:200%\">Checking the validity of Generator and Prime Number</h1>"
   ]
  },
  {
   "cell_type": "code",
   "execution_count": 3,
   "id": "547d2a28",
   "metadata": {},
   "outputs": [],
   "source": [
    "if (generator < prime_number):\n",
    "    if (np.gcd(prime_number, generator) == 1):\n",
    "        pass"
   ]
  },
  {
   "cell_type": "markdown",
   "id": "461e51c7",
   "metadata": {},
   "source": [
    "<body style=\"background-color:FFFF33;\">\n",
    "<h1 style=\"text-align:left; font-family:serif; font-size:200%\">Private Key Generation</h1>"
   ]
  },
  {
   "cell_type": "code",
   "execution_count": 4,
   "id": "26210cd0",
   "metadata": {},
   "outputs": [
    {
     "name": "stdout",
     "output_type": "stream",
     "text": [
      "Private Key :  2\n"
     ]
    }
   ],
   "source": [
    "if (generator < prime_number):\n",
    "    private_key = random.randint(2, prime_number-2)\n",
    "\n",
    "print(\"Private Key : \",private_key)"
   ]
  },
  {
   "cell_type": "markdown",
   "id": "9883cc3b",
   "metadata": {},
   "source": [
    "<body style=\"background-color:FFFF33;\">\n",
    "<h1 style=\"text-align:left; font-family:serif; font-size:200%\">Public Key Generation</h1>"
   ]
  },
  {
   "cell_type": "code",
   "execution_count": 5,
   "id": "fddd7180",
   "metadata": {},
   "outputs": [
    {
     "name": "stdout",
     "output_type": "stream",
     "text": [
      "Public Key :  4\n"
     ]
    }
   ],
   "source": [
    "public_key = (generator**private_key) % prime_number\n",
    "print(\"Public Key : \",public_key)"
   ]
  },
  {
   "cell_type": "markdown",
   "id": "7d1e6e4b",
   "metadata": {},
   "source": [
    "<body style=\"background-color:FFFF33;\">\n",
    "<h1 style=\"text-align:center; font-family:serif; font-size:300%\">Digital Signature Generation</h1>"
   ]
  },
  {
   "cell_type": "code",
   "execution_count": 6,
   "id": "27e7170d",
   "metadata": {},
   "outputs": [
    {
     "name": "stdout",
     "output_type": "stream",
     "text": [
      "Hash Value :  5\n"
     ]
    }
   ],
   "source": [
    "hash_value = hash(Message)\n",
    "print(\"Hash Value : \",hash_value)"
   ]
  },
  {
   "cell_type": "markdown",
   "id": "b567a6a9",
   "metadata": {},
   "source": [
    "<body style=\"background-color:FFFF33;\">\n",
    "<h1 style=\"text-align:left; font-family:serif; font-size:200%\"> Select the secret-key (random number)</h1>"
   ]
  },
  {
   "cell_type": "code",
   "execution_count": 7,
   "id": "5bd3e999",
   "metadata": {},
   "outputs": [
    {
     "name": "stdout",
     "output_type": "stream",
     "text": [
      "Secret Key :  3\n"
     ]
    }
   ],
   "source": [
    "\n",
    "for i in range(2, prime_number):\n",
    "    if np.gcd(i, prime_number - 1) == 1:\n",
    "        secret_key = i\n",
    "        break\n",
    "\n",
    "print(\"Secret Key : \",secret_key)"
   ]
  },
  {
   "cell_type": "code",
   "execution_count": 8,
   "id": "b7ffeee2",
   "metadata": {},
   "outputs": [],
   "source": [
    "def inverse_value_generate(secret_key, prime_number):\n",
    "    condition = True\n",
    "    cnt = 0\n",
    "    \n",
    "    while condition:\n",
    "        cnt+=1\n",
    "        if ( (secret_key  * cnt) % prime_number == 1):\n",
    "            condition = False\n",
    "\n",
    "    return cnt"
   ]
  },
  {
   "cell_type": "markdown",
   "id": "c410798e",
   "metadata": {},
   "source": [
    "<body style=\"background-color:FFFF33;\">\n",
    "<h1 style=\"text-align:left; font-family:serif; font-size:200%\">Computing the digital signature</h1>"
   ]
  },
  {
   "cell_type": "code",
   "execution_count": 9,
   "id": "1c6f7d92",
   "metadata": {},
   "outputs": [
    {
     "name": "stdout",
     "output_type": "stream",
     "text": [
      "Digital Signature Y1 = 8 and Y2 = 3\n"
     ]
    }
   ],
   "source": [
    " inv_secret_key = inverse_value_generate(secret_key, prime_number - 1)\n",
    "\n",
    "y1 = (generator ** secret_key) % prime_number\n",
    "y2 = ((inv_secret_key) * (hash_value - (private_key * y1))) % (prime_number - 1)\n",
    "\n",
    "print(\"Digital Signature Y1 = {} and Y2 = {}\".format(y1, y2))"
   ]
  },
  {
   "cell_type": "markdown",
   "id": "1f6849fd",
   "metadata": {},
   "source": [
    "<body style=\"background-color:FFFF33;\">\n",
    "<h1 style=\"text-align:left; font-family:serif; font-size:200%\">User-X to User-Y</h1>"
   ]
  },
  {
   "cell_type": "code",
   "execution_count": 10,
   "id": "41757dd4",
   "metadata": {},
   "outputs": [
    {
     "name": "stdout",
     "output_type": "stream",
     "text": [
      "User-X sending ---\n",
      "Message : 5 and Digital Signature Y1 = 8 and Y2 = 3\n"
     ]
    }
   ],
   "source": [
    "print(\"User-X sending ---\")\n",
    "Message = 5\n",
    "print(\"Message : {} and Digital Signature Y1 = {} and Y2 = {}\".format(Message, y1, y2))"
   ]
  },
  {
   "cell_type": "markdown",
   "id": "2c19ca32",
   "metadata": {},
   "source": [
    "<body style=\"background-color:FFFF33;\">\n",
    "    <h1 style=\"text-align:center; font-family:serif; font-size:300%\">User-Y</h1>"
   ]
  },
  {
   "cell_type": "code",
   "execution_count": 11,
   "id": "5a7855b7",
   "metadata": {},
   "outputs": [
    {
     "name": "stdout",
     "output_type": "stream",
     "text": [
      "Hash Value :  5\n"
     ]
    }
   ],
   "source": [
    "hash_value = hash(Message)\n",
    "print(\"Hash Value : \",hash_value)"
   ]
  },
  {
   "cell_type": "code",
   "execution_count": 12,
   "id": "10843d19",
   "metadata": {},
   "outputs": [
    {
     "name": "stdout",
     "output_type": "stream",
     "text": [
      "V1 :  10\n",
      "V2 :  10\n"
     ]
    }
   ],
   "source": [
    "V1 = (generator ** hash_value) % prime_number\n",
    "V2 = ( (public_key ** y1) * (y1 ** y2) ) % prime_number\n",
    "\n",
    "print(\"V1 : \",V1)\n",
    "print(\"V2 : \",V2)"
   ]
  },
  {
   "cell_type": "code",
   "execution_count": 13,
   "id": "26881335",
   "metadata": {},
   "outputs": [
    {
     "name": "stdout",
     "output_type": "stream",
     "text": [
      "Successful\n"
     ]
    }
   ],
   "source": [
    "if (V1 == V2):\n",
    "    print(\"Successful\")"
   ]
  }
 ],
 "metadata": {
  "kernelspec": {
   "display_name": "Python 3.9.7 ('base')",
   "language": "python",
   "name": "python397jvsc74a57bd0b7a2a0b4f94735ea31e77398a02d224ee82f8658043a15390cdd4e6a2ed959b7"
  },
  "language_info": {
   "codemirror_mode": {
    "name": "ipython",
    "version": 3
   },
   "file_extension": ".py",
   "mimetype": "text/x-python",
   "name": "python",
   "nbconvert_exporter": "python",
   "pygments_lexer": "ipython3",
   "version": "3.9.7"
  }
 },
 "nbformat": 4,
 "nbformat_minor": 5
}
