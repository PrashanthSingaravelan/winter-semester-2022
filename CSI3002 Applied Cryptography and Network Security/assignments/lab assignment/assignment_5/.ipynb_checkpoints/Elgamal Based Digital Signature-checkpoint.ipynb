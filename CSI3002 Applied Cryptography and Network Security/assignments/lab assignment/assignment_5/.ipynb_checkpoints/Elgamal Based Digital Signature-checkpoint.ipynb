{
 "cells": [
  {
   "cell_type": "markdown",
   "id": "95b30bc2",
   "metadata": {},
   "source": [
    "<body style=\"background-color:FFFF33;\">\n",
    "<h1 style=\"text-align:center; font-family:serif; font-size:300%\">Elgamal Based Digital Signature</h1>\n",
    "<h1 style=\"text-align:right; font-family:serif; font-size:150%\">Prashanth.S 19MID0020</h1>"
   ]
  },
  {
   "cell_type": "markdown",
   "id": "f8cd058c",
   "metadata": {},
   "source": [
    "<body style=\"background-color:FFFF33;\">\n",
    "<h1 style=\"text-align:left; font-family:serif; font-size:200%\">Importing the Libraries</h1>"
   ]
  },
  {
   "cell_type": "code",
   "execution_count": 1,
   "id": "0dd22952",
   "metadata": {},
   "outputs": [],
   "source": [
    "import numpy as np\n",
    "import random"
   ]
  },
  {
   "cell_type": "markdown",
   "id": "80d09ec3",
   "metadata": {},
   "source": [
    "<body style=\"background-color:FFFF33;\">\n",
    "<h1 style=\"text-align:left; font-family:serif; font-size:200%\">Getting inputs from the user</h1>"
   ]
  },
  {
   "cell_type": "code",
   "execution_count": 2,
   "id": "9886e820",
   "metadata": {},
   "outputs": [],
   "source": [
    "prime_number = 11\n",
    "generator = 2\n",
    "Message = 5"
   ]
  },
  {
   "cell_type": "markdown",
   "id": "ca8c39cc",
   "metadata": {},
   "source": [
    "<body style=\"background-color:FFFF33;\">\n",
    "<h1 style=\"text-align:left; font-family:serif; font-size:200%\">Checking the validity of Generator and Prime Number</h1>"
   ]
  },
  {
   "cell_type": "code",
   "execution_count": 3,
   "id": "cbc990e3",
   "metadata": {},
   "outputs": [],
   "source": [
    "if (generator < prime_number):\n",
    "    if (np.gcd(prime_number, generator) == 1):\n",
    "        pass"
   ]
  },
  {
   "cell_type": "markdown",
   "id": "8b110eaa",
   "metadata": {},
   "source": [
    "<body style=\"background-color:FFFF33;\">\n",
    "<h1 style=\"text-align:left; font-family:serif; font-size:200%\">Private Key Generation</h1>"
   ]
  },
  {
   "cell_type": "code",
   "execution_count": 4,
   "id": "116a92cd",
   "metadata": {},
   "outputs": [
    {
     "name": "stdout",
     "output_type": "stream",
     "text": [
      "Private Key :  2\n"
     ]
    }
   ],
   "source": [
    "if (generator < prime_number):\n",
    "    private_key = random.randint(2, prime_number-2)\n",
    "\n",
    "print(\"Private Key : \",private_key)"
   ]
  },
  {
   "cell_type": "markdown",
   "id": "8a7dc862",
   "metadata": {},
   "source": [
    "<body style=\"background-color:FFFF33;\">\n",
    "<h1 style=\"text-align:left; font-family:serif; font-size:200%\">Public Key Generation</h1>"
   ]
  },
  {
   "cell_type": "code",
   "execution_count": 5,
   "id": "35079c8c",
   "metadata": {},
   "outputs": [
    {
     "name": "stdout",
     "output_type": "stream",
     "text": [
      "Public Key :  4\n"
     ]
    }
   ],
   "source": [
    "public_key = (generator**private_key) % prime_number\n",
    "print(\"Public Key : \",public_key)"
   ]
  },
  {
   "cell_type": "markdown",
   "id": "198d08d4",
   "metadata": {},
   "source": [
    "<body style=\"background-color:FFFF33;\">\n",
    "<h1 style=\"text-align:center; font-family:serif; font-size:300%\">Digital Signature Generation</h1>"
   ]
  },
  {
   "cell_type": "code",
   "execution_count": 6,
   "id": "af65fcd3",
   "metadata": {},
   "outputs": [
    {
     "name": "stdout",
     "output_type": "stream",
     "text": [
      "Hash Value :  5\n"
     ]
    }
   ],
   "source": [
    "hash_value = hash(Message)\n",
    "print(\"Hash Value : \",hash_value)"
   ]
  },
  {
   "cell_type": "markdown",
   "id": "8d8514a2",
   "metadata": {},
   "source": [
    "<body style=\"background-color:FFFF33;\">\n",
    "<h1 style=\"text-align:left; font-family:serif; font-size:200%\"> Select the secret-key (random number)</h1>"
   ]
  },
  {
   "cell_type": "code",
   "execution_count": 7,
   "id": "98ed2aa0",
   "metadata": {},
   "outputs": [
    {
     "name": "stdout",
     "output_type": "stream",
     "text": [
      "Secret Key :  3\n"
     ]
    }
   ],
   "source": [
    "\n",
    "for i in range(2, prime_number):\n",
    "    if np.gcd(i, prime_number - 1) == 1:\n",
    "        secret_key = i\n",
    "        break\n",
    "\n",
    "print(\"Secret Key : \",secret_key)"
   ]
  },
  {
   "cell_type": "code",
   "execution_count": 8,
   "id": "78649391",
   "metadata": {},
   "outputs": [],
   "source": [
    "def inverse_value_generate(secret_key, prime_number):\n",
    "    condition = True\n",
    "    cnt = 0\n",
    "    \n",
    "    while condition:\n",
    "        cnt+=1\n",
    "        if ( (secret_key  * cnt) % prime_number == 1):\n",
    "            condition = False\n",
    "\n",
    "    return cnt"
   ]
  },
  {
   "cell_type": "markdown",
   "id": "a580c986",
   "metadata": {},
   "source": [
    "<body style=\"background-color:FFFF33;\">\n",
    "<h1 style=\"text-align:left; font-family:serif; font-size:200%\">Computing the digital signature</h1>"
   ]
  },
  {
   "cell_type": "code",
   "execution_count": 9,
   "id": "5f9c2818",
   "metadata": {},
   "outputs": [
    {
     "name": "stdout",
     "output_type": "stream",
     "text": [
      "Digital Signature Y1 = 8 and Y2 = 3\n"
     ]
    }
   ],
   "source": [
    " inv_secret_key = inverse_value_generate(secret_key, prime_number - 1)\n",
    "\n",
    "y1 = (generator ** secret_key) % prime_number\n",
    "y2 = ((inv_secret_key) * (hash_value - (private_key * y1))) % (prime_number - 1)\n",
    "\n",
    "print(\"Digital Signature Y1 = {} and Y2 = {}\".format(y1, y2))"
   ]
  },
  {
   "cell_type": "markdown",
   "id": "f11eb457",
   "metadata": {},
   "source": [
    "<body style=\"background-color:FFFF33;\">\n",
    "<h1 style=\"text-align:left; font-family:serif; font-size:200%\">User-X to User-Y</h1>"
   ]
  },
  {
   "cell_type": "code",
   "execution_count": 10,
   "id": "9f069fe7",
   "metadata": {},
   "outputs": [
    {
     "name": "stdout",
     "output_type": "stream",
     "text": [
      "User-X sending ---\n",
      "Message : 5 and Digital Signature Y1 = 8 and Y2 = 3\n"
     ]
    }
   ],
   "source": [
    "print(\"User-X sending ---\")\n",
    "Message = 5\n",
    "print(\"Message : {} and Digital Signature Y1 = {} and Y2 = {}\".format(Message, y1, y2))"
   ]
  },
  {
   "cell_type": "markdown",
   "id": "f4e252f4",
   "metadata": {},
   "source": [
    "<body style=\"background-color:FFFF33;\">\n",
    "    <h1 style=\"text-align:center; font-family:serif; font-size:300%\">User-Y</h1>"
   ]
  },
  {
   "cell_type": "code",
   "execution_count": 11,
   "id": "c750de91",
   "metadata": {},
   "outputs": [
    {
     "name": "stdout",
     "output_type": "stream",
     "text": [
      "Hash Value :  5\n"
     ]
    }
   ],
   "source": [
    "hash_value = hash(Message)\n",
    "print(\"Hash Value : \",hash_value)"
   ]
  },
  {
   "cell_type": "code",
   "execution_count": 12,
   "id": "26ed0dd0",
   "metadata": {},
   "outputs": [
    {
     "name": "stdout",
     "output_type": "stream",
     "text": [
      "V1 :  10\n",
      "V2 :  10\n"
     ]
    }
   ],
   "source": [
    "V1 = (generator ** hash_value) % prime_number\n",
    "V2 = ( (public_key ** y1) * (y1 ** y2) ) % prime_number\n",
    "\n",
    "print(\"V1 : \",V1)\n",
    "print(\"V2 : \",V2)"
   ]
  },
  {
   "cell_type": "code",
   "execution_count": 13,
   "id": "7556ea5b",
   "metadata": {},
   "outputs": [
    {
     "name": "stdout",
     "output_type": "stream",
     "text": [
      "Successful\n"
     ]
    }
   ],
   "source": [
    "if (V1 == V2):\n",
    "    print(\"Successful\")"
   ]
  }
 ],
 "metadata": {
  "kernelspec": {
   "display_name": "Python 3.9.7 ('base')",
   "language": "python",
   "name": "python397jvsc74a57bd0b7a2a0b4f94735ea31e77398a02d224ee82f8658043a15390cdd4e6a2ed959b7"
  },
  "language_info": {
   "codemirror_mode": {
    "name": "ipython",
    "version": 3
   },
   "file_extension": ".py",
   "mimetype": "text/x-python",
   "name": "python",
   "nbconvert_exporter": "python",
   "pygments_lexer": "ipython3",
   "version": "3.9.7"
  }
 },
 "nbformat": 4,
 "nbformat_minor": 5
}
