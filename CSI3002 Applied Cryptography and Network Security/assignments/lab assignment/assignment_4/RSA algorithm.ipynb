{
 "cells": [
  {
   "cell_type": "markdown",
   "metadata": {},
   "source": [
    "<body style=\"background-color:FFFF33;\">\n",
    "<h1 style=\"text-align:center; font-family:serif; font-size:300%\">Rivest-Shamir-Adleman Encryption Algorithm</h1>\n",
    "\n",
    "<p style=\"text-align:center; font-family:courier; font-size:160%\">Prashanth.S 19MID0020</p>"
   ]
  },
  {
   "cell_type": "markdown",
   "metadata": {},
   "source": [
    " <h1 style=\"font-family:serif; font-size:200%\">Importing the Necessary Libraries"
   ]
  },
  {
   "cell_type": "code",
   "execution_count": 1,
   "metadata": {},
   "outputs": [],
   "source": [
    "import numpy as np\n",
    "import random"
   ]
  },
  {
   "cell_type": "markdown",
   "metadata": {},
   "source": [
    " <h1 style=\"font-family:serif; font-size:200%\">Operational Functions"
   ]
  },
  {
   "cell_type": "code",
   "execution_count": 2,
   "metadata": {},
   "outputs": [],
   "source": [
    "def si(n): return n-1    "
   ]
  },
  {
   "cell_type": "code",
   "execution_count": 3,
   "metadata": {},
   "outputs": [],
   "source": [
    "def num_check(num1, num2,condition):\n",
    "    while condition:\n",
    "        random_num = random.randint(2, (si(num1) * si(num2)) - 1)\n",
    "        if (np.gcd(random_num, (si(num1) * si(num2))) == 1):\n",
    "            break\n",
    "        else:\n",
    "            continue\n",
    "\n",
    "    return random_num"
   ]
  },
  {
   "cell_type": "code",
   "execution_count": 4,
   "metadata": {},
   "outputs": [],
   "source": [
    "def modulo_multiplicative_inverse(e, si_n):\n",
    "    for x in range(1, si_n):\n",
    "        if (((e%si_n) * (x%si_n)) % si_n == 1):return x\n",
    "    return -1"
   ]
  },
  {
   "cell_type": "code",
   "execution_count": 5,
   "metadata": {},
   "outputs": [],
   "source": [
    "## {e,n}\n",
    "public_key = []\n",
    "\n",
    "## {d,n}\n",
    "private_key = []\n",
    "\n",
    "prime_1 = 3\n",
    "prime_2 = 11\n",
    "\n",
    "public_key.append(num_check(prime_1, prime_2, True))\n",
    "public_key.append(prime_1 * prime_2)\n",
    "\n",
    "\n",
    "modulo_ans = modulo_multiplicative_inverse(public_key[0], (si(prime_1) * si(prime_2)))\n",
    "private_key.append(modulo_ans)\n",
    "private_key.append(public_key[1])"
   ]
  },
  {
   "cell_type": "code",
   "execution_count": 6,
   "metadata": {},
   "outputs": [
    {
     "name": "stdout",
     "output_type": "stream",
     "text": [
      "[17, 33]\n",
      "[13, 33]\n"
     ]
    }
   ],
   "source": [
    "print(public_key)\n",
    "print(private_key)"
   ]
  },
  {
   "cell_type": "code",
   "execution_count": 7,
   "metadata": {},
   "outputs": [],
   "source": [
    "e = public_key[0]\n",
    "#e = 7\n",
    "d = private_key[0]\n",
    "n = public_key[1]"
   ]
  },
  {
   "cell_type": "markdown",
   "metadata": {},
   "source": [
    " <h1 style=\"font-family:serif; font-size:200%\">Encryption"
   ]
  },
  {
   "cell_type": "code",
   "execution_count": 8,
   "metadata": {},
   "outputs": [
    {
     "name": "stdout",
     "output_type": "stream",
     "text": [
      "14\n"
     ]
    }
   ],
   "source": [
    "message=5\n",
    "if (message < n):\n",
    "    cipher_text = (message**e % n)\n",
    "print(cipher_text)"
   ]
  },
  {
   "cell_type": "markdown",
   "metadata": {},
   "source": [
    " <h1 style=\"font-family:serif; font-size:200%\">Decryption"
   ]
  },
  {
   "cell_type": "code",
   "execution_count": 9,
   "metadata": {},
   "outputs": [
    {
     "data": {
      "text/plain": [
       "5"
      ]
     },
     "execution_count": 9,
     "metadata": {},
     "output_type": "execute_result"
    }
   ],
   "source": [
    "decrypt_text = (cipher_text**d % n)\n",
    "decrypt_text"
   ]
  },
  {
   "cell_type": "code",
   "execution_count": 10,
   "metadata": {},
   "outputs": [
    {
     "name": "stdout",
     "output_type": "stream",
     "text": [
      "Successful Transmission\n"
     ]
    }
   ],
   "source": [
    "if (message == decrypt_text):\n",
    "    print(\"Successful Transmission\")\n",
    "else:\n",
    "    print(\"Not Successful Transmission\")"
   ]
  },
  {
   "cell_type": "code",
   "execution_count": null,
   "metadata": {},
   "outputs": [],
   "source": []
  },
  {
   "cell_type": "code",
   "execution_count": null,
   "metadata": {},
   "outputs": [],
   "source": []
  }
 ],
 "metadata": {
  "kernelspec": {
   "display_name": "Python 3 (ipykernel)",
   "language": "python",
   "name": "python3"
  },
  "language_info": {
   "codemirror_mode": {
    "name": "ipython",
    "version": 3
   },
   "file_extension": ".py",
   "mimetype": "text/x-python",
   "name": "python",
   "nbconvert_exporter": "python",
   "pygments_lexer": "ipython3",
   "version": "3.9.7"
  }
 },
 "nbformat": 4,
 "nbformat_minor": 4
}
