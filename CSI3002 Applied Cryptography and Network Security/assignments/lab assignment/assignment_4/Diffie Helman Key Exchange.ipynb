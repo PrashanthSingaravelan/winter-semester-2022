{
 "cells": [
  {
   "cell_type": "markdown",
   "id": "e391b383",
   "metadata": {},
   "source": [
    "<body style=\"background-color:FFFF33;\">\n",
    "<h1 style=\"text-align:center; font-family:serif; font-size:300%\">Diffie Helman Key Exchange</h1>\n",
    "\n",
    "<p style=\"text-align:center; font-family:courier; font-size:160%\">Prashanth.S 19MID0020</p>"
   ]
  },
  {
   "cell_type": "markdown",
   "id": "4a837230",
   "metadata": {},
   "source": [
    " <h1 style=\"font-family:serif; font-size:200%\">Importing the Necessary Libraries"
   ]
  },
  {
   "cell_type": "code",
   "execution_count": 1,
   "id": "f964c701",
   "metadata": {},
   "outputs": [],
   "source": [
    "import numpy as np\n",
    "import random\n",
    "import warnings\n",
    "warnings.filterwarnings(\"ignore\")"
   ]
  },
  {
   "cell_type": "code",
   "execution_count": 2,
   "id": "5abbdb76",
   "metadata": {},
   "outputs": [
    {
     "data": {
      "text/plain": [
       "'\\nXa = 3 ## private key of Agent-X\\nYa = 7 ## private key of Agent-Y\\nA = ## public key of Agent-X (shared to Agent-Y)\\nB = ## public key of Agent-Y (shared to Agent-X)\\nS = ## shared key \\ng = generator (unique values after the finding the primitive root of the prime modulo)\\n'"
      ]
     },
     "execution_count": 2,
     "metadata": {},
     "output_type": "execute_result"
    }
   ],
   "source": [
    "'''\n",
    "Xa = 3 ## private key of Agent-X\n",
    "Ya = 7 ## private key of Agent-Y\n",
    "A = ## public key of Agent-X (shared to Agent-Y)\n",
    "B = ## public key of Agent-Y (shared to Agent-X)\n",
    "S = ## shared key \n",
    "g = generator (unique values after the finding the primitive root of the prime modulo)\n",
    "'''"
   ]
  },
  {
   "cell_type": "markdown",
   "id": "8c6a4be4",
   "metadata": {},
   "source": [
    " <h1 style=\"font-family:serif; font-size:200%\">Primitive Roots Creation"
   ]
  },
  {
   "cell_type": "code",
   "execution_count": 3,
   "id": "47fb0cf7",
   "metadata": {},
   "outputs": [],
   "source": [
    "def primitive_roots_table_creation(m):\n",
    "    list1 = []\n",
    "    b = 1\n",
    "    for i in range(1,m-1):\n",
    "        temp = []\n",
    "        b+=1\n",
    "        for j in range(1,m):\n",
    "            temp.append(np.power(b,j) % (m))\n",
    "        list1.append(temp)\n",
    "    return list1"
   ]
  },
  {
   "cell_type": "code",
   "execution_count": 4,
   "id": "41d2b8ac",
   "metadata": {},
   "outputs": [],
   "source": [
    "def primitive_roots_value(primitive_roots_table, m):\n",
    "    \n",
    "    # np.unique() --> returns the number bo unique values\n",
    "    primitive_roots = []\n",
    "    \n",
    "    for i in primitive_roots_table:\n",
    "        if (len(np.unique(i)) == m-1):\n",
    "            primitive_roots.append(i[0])\n",
    "    return primitive_roots"
   ]
  },
  {
   "cell_type": "code",
   "execution_count": 5,
   "id": "3968a55b",
   "metadata": {},
   "outputs": [],
   "source": [
    "def public_key_generation(generator, private_key, primitive_root):\n",
    "    return ((generator**private_key) % primitive_root)\n",
    "\n",
    "def sharing(pub1, pub2):\n",
    "    return (pub2, pub1)\n",
    "\n",
    "def share_secret_key(shared_key, private_key, primitive_root):\n",
    "    return ((shared_key**private_key) % primitive_root)"
   ]
  },
  {
   "cell_type": "code",
   "execution_count": 6,
   "id": "740c9125",
   "metadata": {},
   "outputs": [],
   "source": [
    "def isPrime(num):\n",
    "    cnt = 0\n",
    "    \n",
    "    for i in range(2, np.int(np.sqrt(num))):\n",
    "        \n",
    "        ## composite number\n",
    "        if ((num%i) == 0):\n",
    "            cnt = 1\n",
    "            return False \n",
    "\n",
    "        ## prime number\n",
    "        if (cnt==0):\n",
    "            return True "
   ]
  },
  {
   "cell_type": "markdown",
   "id": "ebce7e28",
   "metadata": {},
   "source": [
    "<h1 style=\"font-family:serif; font-size:200%\">Sharing the Secret Key"
   ]
  },
  {
   "cell_type": "code",
   "execution_count": 7,
   "id": "9cac3f86",
   "metadata": {},
   "outputs": [],
   "source": [
    "def start():\n",
    "\n",
    "    ## Alice portion\n",
    "    Xa = 3\n",
    "    Ya = public_key_generation(generator, Xa, prime_number)\n",
    "    print(\"Alice's public key : \",Ya)\n",
    "\n",
    "    ## Bob portion\n",
    "    Xb = 7\n",
    "    Yb = public_key_generation(generator, Xb, prime_number)\n",
    "    \n",
    "    Ya, Yb = sharing(Yb, Ya)\n",
    "    print(\"\\nAfter sharing\")\n",
    "    print(\"Alice's public key : \",Ya)\n",
    "    print(\"Bob's public key : \",Yb)\n",
    "    \n",
    "    alice_K = share_secret_key(Yb, Xa, prime_number)\n",
    "    print(\"\\nAlice's shared key : \",alice_K)\n",
    "    \n",
    "    bob_K = share_secret_key(Ya, Xb, prime_number)\n",
    "    print(\"Bob's shared key : \",bob_K)\n",
    "    \n",
    "    if (alice_K == bob_K): return alice_K\n",
    "    else: return 0"
   ]
  },
  {
   "cell_type": "markdown",
   "id": "129463f9",
   "metadata": {},
   "source": [
    "<h1 style=\"font-family:serif; font-size:200%\">Selection of Primitive Root"
   ]
  },
  {
   "cell_type": "code",
   "execution_count": 8,
   "id": "bdf70ed9",
   "metadata": {},
   "outputs": [
    {
     "data": {
      "text/plain": [
       "[2, 6, 7, 11]"
      ]
     },
     "execution_count": 8,
     "metadata": {},
     "output_type": "execute_result"
    }
   ],
   "source": [
    "primitive_roots_table = primitive_roots_table_creation(13)\n",
    "\n",
    "primitive_roots = primitive_roots_value(primitive_roots_table,13)\n",
    "primitive_roots"
   ]
  },
  {
   "cell_type": "code",
   "execution_count": 9,
   "id": "80b36904",
   "metadata": {},
   "outputs": [
    {
     "data": {
      "text/plain": [
       "[[2, 4, 8, 3, 6, 12, 11, 9, 5, 10, 7, 1],\n",
       " [3, 9, 1, 3, 9, 1, 3, 9, 1, 3, 9, 1],\n",
       " [4, 3, 12, 9, 10, 1, 4, 3, 12, 9, 10, 1],\n",
       " [5, 12, 8, 1, 5, 12, 8, 1, 5, 12, 8, 1],\n",
       " [6, 10, 8, 9, 2, 12, 7, 3, 5, 4, 11, 1],\n",
       " [7, 10, 5, 9, 11, 12, 6, 3, 8, 4, 2, 1],\n",
       " [8, 12, 5, 1, 8, 12, 5, 1, 8, 12, 5, 1],\n",
       " [9, 3, 1, 9, 3, 1, 9, 3, 1, 9, 3, 1],\n",
       " [10, 9, 12, 3, 4, 1, 10, 9, 12, 3, 4, 1],\n",
       " [11, 4, 5, 3, 7, 12, 2, 9, 8, 10, 6, 1],\n",
       " [12, 1, 12, 1, 12, 1, 12, 1, 12, 1, 12, 1]]"
      ]
     },
     "execution_count": 9,
     "metadata": {},
     "output_type": "execute_result"
    }
   ],
   "source": [
    "primitive_roots_table"
   ]
  },
  {
   "cell_type": "code",
   "execution_count": 10,
   "id": "16a7cac5",
   "metadata": {},
   "outputs": [],
   "source": [
    "m = 13\n",
    "primitive_roots = []\n",
    "for i in primitive_roots_table:\n",
    "    \n",
    "    ## the number of unique values must be equal = m-1\n",
    "    if (len(np.unique(i)) == m-1): \n",
    "        primitive_roots.append(i[0])"
   ]
  },
  {
   "cell_type": "code",
   "execution_count": 11,
   "id": "3ae2b400",
   "metadata": {},
   "outputs": [
    {
     "data": {
      "text/plain": [
       "[2, 6, 7, 11]"
      ]
     },
     "execution_count": 11,
     "metadata": {},
     "output_type": "execute_result"
    }
   ],
   "source": [
    "primitive_roots\n",
    "## For a = b^i mod m where b is the primitive root for the prime modulo m\n",
    "## For unique value of i --> b should be the primitive root of the prime modulo m.\n",
    "## For unique value of i (generator) --> (2 or 6 or 7 or11) is the primitive root of the prime modulo 13."
   ]
  },
  {
   "cell_type": "markdown",
   "id": "e10352ea",
   "metadata": {},
   "source": [
    "<h1 style=\"font-family:serif; font-size:200%\">Actual Program Starts"
   ]
  },
  {
   "cell_type": "code",
   "execution_count": 12,
   "id": "184d20bb",
   "metadata": {
    "scrolled": true
   },
   "outputs": [
    {
     "name": "stdout",
     "output_type": "stream",
     "text": [
      "Continue\n",
      "Alice's public key :  8\n",
      "\n",
      "After sharing\n",
      "Alice's public key :  8\n",
      "Bob's public key :  7\n",
      "\n",
      "Alice's shared key :  5\n",
      "Bob's shared key :  5\n"
     ]
    }
   ],
   "source": [
    "## So we came to know that the primitive roots\n",
    "prime_number = 13\n",
    "\n",
    "## taking a random value from the generator\n",
    "if isPrime(prime_number):\n",
    "    generator = random.choice(primitive_roots)\n",
    "    \n",
    "if (generator < prime_number):\n",
    "    print(\"Continue\")\n",
    "    key_match = start() ## key_match will have the 'shared secret key' , if there is a primitive root for the prime modulo m (or) 0.\n",
    "    \n",
    "else:\n",
    "    print(\"Discontinue\")"
   ]
  },
  {
   "cell_type": "code",
   "execution_count": 13,
   "id": "5c087dd6",
   "metadata": {},
   "outputs": [],
   "source": [
    "## After the secret keys are matched"
   ]
  },
  {
   "cell_type": "code",
   "execution_count": 14,
   "id": "7083e606",
   "metadata": {},
   "outputs": [],
   "source": [
    "def shift_characters(str1, n):\n",
    "     return ''.join(chr((ord(char) - 97 - n) % 26 + 97) for char in str1)"
   ]
  },
  {
   "cell_type": "markdown",
   "id": "e5264380",
   "metadata": {},
   "source": [
    " <h1 style=\"font-family:serif; font-size:200%\">Encryption"
   ]
  },
  {
   "cell_type": "code",
   "execution_count": 15,
   "id": "78c08b32",
   "metadata": {
    "scrolled": true
   },
   "outputs": [],
   "source": [
    "def encryption(plain_text):\n",
    "    shared_secret_key = key_match \n",
    "    return shift_characters(plain_text, shared_secret_key)"
   ]
  },
  {
   "cell_type": "markdown",
   "id": "0327e953",
   "metadata": {},
   "source": [
    " <h1 style=\"font-family:serif; font-size:200%\">Decryption"
   ]
  },
  {
   "cell_type": "code",
   "execution_count": 16,
   "id": "953e4f32",
   "metadata": {},
   "outputs": [],
   "source": [
    "def decryption(cipher_text):\n",
    "    shared_secret_key = -key_match\n",
    "    return shift_characters(cipher_text, shared_secret_key)"
   ]
  },
  {
   "cell_type": "code",
   "execution_count": 17,
   "id": "54849f18",
   "metadata": {},
   "outputs": [
    {
     "name": "stdout",
     "output_type": "stream",
     "text": [
      "kmvncvioc\n"
     ]
    }
   ],
   "source": [
    "plain_text = \"prashanth\"\n",
    "cipher_text = encryption(plain_text)\n",
    "print(cipher_text)"
   ]
  },
  {
   "cell_type": "code",
   "execution_count": 18,
   "id": "e4d7ffd2",
   "metadata": {
    "scrolled": true
   },
   "outputs": [
    {
     "name": "stdout",
     "output_type": "stream",
     "text": [
      "prashanth\n"
     ]
    }
   ],
   "source": [
    "decrypt_text = decryption(cipher_text)\n",
    "print(decrypt_text)"
   ]
  }
 ],
 "metadata": {
  "kernelspec": {
   "display_name": "Python 3.9.7 ('base')",
   "language": "python",
   "name": "python397jvsc74a57bd0b7a2a0b4f94735ea31e77398a02d224ee82f8658043a15390cdd4e6a2ed959b7"
  },
  "language_info": {
   "codemirror_mode": {
    "name": "ipython",
    "version": 3
   },
   "file_extension": ".py",
   "mimetype": "text/x-python",
   "name": "python",
   "nbconvert_exporter": "python",
   "pygments_lexer": "ipython3",
   "version": "3.9.7"
  }
 },
 "nbformat": 4,
 "nbformat_minor": 5
}
