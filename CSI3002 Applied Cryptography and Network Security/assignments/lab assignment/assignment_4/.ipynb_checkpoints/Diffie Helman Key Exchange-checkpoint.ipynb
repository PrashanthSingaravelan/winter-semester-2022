{
 "cells": [
  {
   "cell_type": "code",
   "execution_count": 8,
   "id": "89474f52",
   "metadata": {},
   "outputs": [],
   "source": [
    "import numpy as np"
   ]
  },
  {
   "cell_type": "code",
   "execution_count": 9,
   "id": "5abbdb76",
   "metadata": {},
   "outputs": [
    {
     "ename": "SyntaxError",
     "evalue": "invalid syntax (696149723.py, line 3)",
     "output_type": "error",
     "traceback": [
      "\u001b[0;36m  File \u001b[0;32m\"/var/folders/gq/nsqxf83n1813yysq2l8vvtxc0000gn/T/ipykernel_2059/696149723.py\"\u001b[0;36m, line \u001b[0;32m3\u001b[0m\n\u001b[0;31m    A = ## public key of Agent-X (shared to Agent-Y)\u001b[0m\n\u001b[0m        ^\u001b[0m\n\u001b[0;31mSyntaxError\u001b[0m\u001b[0;31m:\u001b[0m invalid syntax\n"
     ]
    }
   ],
   "source": [
    "Xa = 3 ## private key of Agent-X\n",
    "Ya = 7 ## private key of Agent-Y\n",
    "A = ## public key of Agent-X (shared to Agent-Y)\n",
    "B = ## public key of Agent-Y (shared to Agent-X)\n",
    "S = ## shared key \n"
   ]
  },
  {
   "cell_type": "code",
   "execution_count": null,
   "id": "54863362",
   "metadata": {},
   "outputs": [],
   "source": [
    "def public_key_generation(generator, private_key, premitive_root):\n",
    "    return ((generator**private_key) % premitive_root)\n",
    "def sharing(pub1, pub2):\n",
    "    return (pub2, pub1)\n",
    "def share_secret_key(shared_key, private_key, premitive_root):\n",
    "    return ((shared_key**private_key) % premitive_root)"
   ]
  },
  {
   "cell_type": "code",
   "execution_count": 10,
   "id": "0dc343d1",
   "metadata": {},
   "outputs": [],
   "source": [
    "def isPrime(num):\n",
    "    cnt = 0\n",
    "    for i in range(2, np.int(np.sqrt(num))):\n",
    "        if ((num%i) == 0):\n",
    "            cnt = 1\n",
    "            return False ## composite number\n",
    "        if (cnt==0):\n",
    "            return True ## prime number"
   ]
  },
  {
   "cell_type": "code",
   "execution_count": 14,
   "id": "c2adcb47",
   "metadata": {},
   "outputs": [],
   "source": [
    "def start():\n",
    "    ## Alice portion\n",
    "    Xa = 3\n",
    "    Ya = public_key_generation(generator, Xa, premitive_root)\n",
    "    print(\"Alice's public key : \",Ya)\n",
    "\n",
    "    ## Bob portion\n",
    "    Xb = 7\n",
    "    Yb = public_key_generation(generator, Xb, premitive_root)\n",
    "    Ya, Yb = sharing(Yb, Ya)\n",
    "    print(\"\\nAfter sharing\")\n",
    "    print(\"Alice's public key : \",Ya)\n",
    "    print(\"Bob's public key : \",Yb)\n",
    "    alice_K = share_secret_key(Yb, Xa, premitive_root)\n",
    "    print(\"\\nAlice's shared key : \",alice_K)\n",
    "    bob_K = share_secret_key(Ya, Xb, premitive_root)\n",
    "    print(\"Bob's shared key : \",bob_K)"
   ]
  },
  {
   "cell_type": "code",
   "execution_count": 15,
   "id": "2f3c6d1e",
   "metadata": {},
   "outputs": [
    {
     "name": "stdout",
     "output_type": "stream",
     "text": [
      "Continue\n",
      "Alice's public key :  8\n",
      "\n",
      "After sharing\n",
      "Alice's public key :  8\n",
      "Bob's public key :  11\n",
      "\n",
      "Alice's shared key :  5\n",
      "Bob's shared key :  5\n"
     ]
    },
    {
     "name": "stderr",
     "output_type": "stream",
     "text": [
      "/var/folders/gq/nsqxf83n1813yysq2l8vvtxc0000gn/T/ipykernel_2059/2137807101.py:3: DeprecationWarning: `np.int` is a deprecated alias for the builtin `int`. To silence this warning, use `int` by itself. Doing this will not modify any behavior and is safe. When replacing `np.int`, you may wish to use e.g. `np.int64` or `np.int32` to specify the precision. If you wish to review your current use, check the release note link for additional information.\n",
      "Deprecated in NumPy 1.20; for more details and guidance: https://numpy.org/devdocs/release/1.20.0-notes.html#deprecations\n",
      "  for i in range(2, np.int(np.sqrt(num))):\n"
     ]
    }
   ],
   "source": [
    "premitive_root = 13\n",
    "if isPrime(premitive_root):\n",
    "    generator = 2\n",
    "if (generator < premitive_root):\n",
    "    print(\"Continue\")\n",
    "    start()\n",
    "else:\n",
    "    print(\"Disontinue\")"
   ]
  },
  {
   "cell_type": "code",
   "execution_count": null,
   "id": "2dcfc4cb",
   "metadata": {},
   "outputs": [],
   "source": [
    "def encryption():"
   ]
  },
  {
   "cell_type": "code",
   "execution_count": null,
   "id": "6aa3ebbe",
   "metadata": {},
   "outputs": [],
   "source": [
    "def decryption():"
   ]
  },
  {
   "cell_type": "code",
   "execution_count": 16,
   "id": "69ba92dc",
   "metadata": {},
   "outputs": [],
   "source": [
    "str1 = \"Prashanth\""
   ]
  },
  {
   "cell_type": "code",
   "execution_count": 24,
   "id": "20e61cc7",
   "metadata": {},
   "outputs": [
    {
     "name": "stdout",
     "output_type": "stream",
     "text": [
      "U\n",
      "w\n",
      "f\n",
      "x\n",
      "m\n",
      "f\n",
      "s\n",
      "y\n",
      "m\n"
     ]
    }
   ],
   "source": [
    "for i in str1:\n",
    "    print(chr(ord(i) + 5))"
   ]
  },
  {
   "cell_type": "code",
   "execution_count": 23,
   "id": "8002b470",
   "metadata": {},
   "outputs": [
    {
     "data": {
      "text/plain": [
       "'2'"
      ]
     },
     "execution_count": 23,
     "metadata": {},
     "output_type": "execute_result"
    }
   ],
   "source": [
    "chr(50)"
   ]
  },
  {
   "cell_type": "code",
   "execution_count": 25,
   "id": "49cc1dfc",
   "metadata": {},
   "outputs": [
    {
     "data": {
      "text/plain": [
       "90"
      ]
     },
     "execution_count": 25,
     "metadata": {},
     "output_type": "execute_result"
    }
   ],
   "source": [
    "ord('Z')"
   ]
  },
  {
   "cell_type": "code",
   "execution_count": 26,
   "id": "7ed56df1",
   "metadata": {},
   "outputs": [
    {
     "data": {
      "text/plain": [
       "122"
      ]
     },
     "execution_count": 26,
     "metadata": {},
     "output_type": "execute_result"
    }
   ],
   "source": [
    "ord('z')"
   ]
  },
  {
   "cell_type": "code",
   "execution_count": 35,
   "id": "7162851a",
   "metadata": {},
   "outputs": [],
   "source": [
    "def shift_characters(str1, n):\n",
    "     return ''.join(chr((ord(char) - 97 - n) % 26 + 97) for char in str1)"
   ]
  },
  {
   "cell_type": "code",
   "execution_count": 37,
   "id": "5c778e27",
   "metadata": {},
   "outputs": [
    {
     "name": "stdout",
     "output_type": "stream",
     "text": [
      "kmvncvioc\n"
     ]
    }
   ],
   "source": [
    "str1 = \"prashanth\"\n",
    "n = 5\n",
    "print(shift_characters(str1, n))"
   ]
  },
  {
   "cell_type": "code",
   "execution_count": 45,
   "id": "639d643a",
   "metadata": {},
   "outputs": [
    {
     "name": "stdout",
     "output_type": "stream",
     "text": [
      "[2, 4, 8, 3, 6, 12, 11, 9, 5, 10, 7, 1]\n",
      "[3, 9, 1, 3, 9, 1, 3, 9, 1, 3, 9, 1]\n",
      "[4, 3, 12, 9, 10, 1, 4, 3, 12, 9, 10, 1]\n",
      "[5, 12, 8, 1, 5, 12, 8, 1, 5, 12, 8, 1]\n",
      "[6, 10, 8, 9, 2, 12, 7, 3, 5, 4, 11, 1]\n",
      "[7, 10, 5, 9, 11, 12, 6, 3, 8, 4, 2, 1]\n",
      "[8, 12, 5, 1, 8, 12, 5, 1, 8, 12, 5, 1]\n",
      "[9, 3, 1, 9, 3, 1, 9, 3, 1, 9, 3, 1]\n",
      "[10, 9, 12, 3, 4, 1, 10, 9, 12, 3, 4, 1]\n",
      "[11, 4, 5, 3, 7, 12, 2, 9, 8, 10, 6, 1]\n",
      "[12, 1, 12, 1, 12, 1, 12, 1, 12, 1, 12, 1]\n"
     ]
    }
   ],
   "source": [
    "def primitive_roots(m):\n",
    "    list1 = []\n",
    "    b = 1\n",
    "    for i in range(1,m-1):\n",
    "        temp = []\n",
    "        b+=1\n",
    "        for j in range(1,m):\n",
    "            temp.append(np.power(b,j) % (m))\n",
    "        print(temp)\n",
    "        list1.append(temp)"
   ]
  },
  {
   "cell_type": "code",
   "execution_count": 48,
   "id": "429d81b6",
   "metadata": {},
   "outputs": [
    {
     "name": "stdout",
     "output_type": "stream",
     "text": [
      "[2, 4, 8, 3, 6, 12, 11, 9, 5, 10, 7, 1]\n",
      "[3, 9, 1, 3, 9, 1, 3, 9, 1, 3, 9, 1]\n",
      "[4, 3, 12, 9, 10, 1, 4, 3, 12, 9, 10, 1]\n",
      "[5, 12, 8, 1, 5, 12, 8, 1, 5, 12, 8, 1]\n",
      "[6, 10, 8, 9, 2, 12, 7, 3, 5, 4, 11, 1]\n",
      "[7, 10, 5, 9, 11, 12, 6, 3, 8, 4, 2, 1]\n",
      "[8, 12, 5, 1, 8, 12, 5, 1, 8, 12, 5, 1]\n",
      "[9, 3, 1, 9, 3, 1, 9, 3, 1, 9, 3, 1]\n",
      "[10, 9, 12, 3, 4, 1, 10, 9, 12, 3, 4, 1]\n",
      "[11, 4, 5, 3, 7, 12, 2, 9, 8, 10, 6, 1]\n",
      "[12, 1, 12, 1, 12, 1, 12, 1, 12, 1, 12, 1]\n"
     ]
    }
   ],
   "source": [
    "list1 = []\n",
    "m = 13\n",
    "b = 1\n",
    "for i in range(1,m-1):\n",
    "    temp = []\n",
    "    b+=1\n",
    "    for j in range(1,m):\n",
    "        temp.append(np.power(b,j) % (m))\n",
    "    print(temp)\n",
    "    list1.append(temp)"
   ]
  },
  {
   "cell_type": "code",
   "execution_count": 54,
   "id": "4d0637ed",
   "metadata": {},
   "outputs": [
    {
     "name": "stdout",
     "output_type": "stream",
     "text": [
      "{1, 2, 3, 4, 5, 6, 7, 8, 9, 10, 11, 12}\n",
      "{9, 3, 1}\n",
      "{1, 3, 4, 9, 10, 12}\n",
      "{8, 1, 12, 5}\n",
      "{1, 2, 3, 4, 5, 6, 7, 8, 9, 10, 11, 12}\n",
      "{1, 2, 3, 4, 5, 6, 7, 8, 9, 10, 11, 12}\n",
      "{8, 1, 12, 5}\n",
      "{9, 3, 1}\n",
      "{1, 3, 4, 9, 10, 12}\n",
      "{1, 2, 3, 4, 5, 6, 7, 8, 9, 10, 11, 12}\n",
      "{1, 12}\n"
     ]
    }
   ],
   "source": [
    "for i in list1:\n",
    "    print(set(i))"
   ]
  },
  {
   "cell_type": "code",
   "execution_count": 53,
   "id": "4b06b090",
   "metadata": {},
   "outputs": [
    {
     "data": {
      "text/plain": [
       "[[6, 10, 8, 9, 2, 12, 7, 3, 5, 4, 11, 1],\n",
       " [12, 1, 12, 1, 12, 1, 12, 1, 12, 1, 12, 1],\n",
       " [4, 3, 12, 9, 10, 1, 4, 3, 12, 9, 10, 1],\n",
       " [11, 4, 5, 3, 7, 12, 2, 9, 8, 10, 6, 1],\n",
       " [10, 9, 12, 3, 4, 1, 10, 9, 12, 3, 4, 1],\n",
       " [2, 4, 8, 3, 6, 12, 11, 9, 5, 10, 7, 1],\n",
       " [3, 9, 1, 3, 9, 1, 3, 9, 1, 3, 9, 1],\n",
       " [7, 10, 5, 9, 11, 12, 6, 3, 8, 4, 2, 1],\n",
       " [5, 12, 8, 1, 5, 12, 8, 1, 5, 12, 8, 1],\n",
       " [8, 12, 5, 1, 8, 12, 5, 1, 8, 12, 5, 1],\n",
       " [9, 3, 1, 9, 3, 1, 9, 3, 1, 9, 3, 1]]"
      ]
     },
     "execution_count": 53,
     "metadata": {},
     "output_type": "execute_result"
    }
   ],
   "source": [
    "new_data = [list(y) for y in set([tuple(x) for x in list1])]\n",
    "new_data"
   ]
  },
  {
   "cell_type": "code",
   "execution_count": null,
   "id": "46ac922e",
   "metadata": {},
   "outputs": [],
   "source": []
  }
 ],
 "metadata": {
  "kernelspec": {
   "display_name": "Python 3.9.7 ('base')",
   "language": "python",
   "name": "python397jvsc74a57bd0b7a2a0b4f94735ea31e77398a02d224ee82f8658043a15390cdd4e6a2ed959b7"
  },
  "language_info": {
   "codemirror_mode": {
    "name": "ipython",
    "version": 3
   },
   "file_extension": ".py",
   "mimetype": "text/x-python",
   "name": "python",
   "nbconvert_exporter": "python",
   "pygments_lexer": "ipython3",
   "version": "3.9.7"
  }
 },
 "nbformat": 4,
 "nbformat_minor": 5
}
