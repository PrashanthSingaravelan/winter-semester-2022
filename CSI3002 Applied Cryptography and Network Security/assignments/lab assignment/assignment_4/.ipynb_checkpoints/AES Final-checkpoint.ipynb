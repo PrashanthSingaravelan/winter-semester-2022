{
 "cells": [
  {
   "cell_type": "code",
   "execution_count": 1,
   "id": "58e07651",
   "metadata": {},
   "outputs": [],
   "source": [
    "import numpy as np\n",
    "import pandas as pd\n",
    "import ast\n",
    "import itertools\n",
    "import collections\n",
    "import struct\n",
    "import sys\n",
    "from sympy import poly, var\n",
    "from collections import Counter"
   ]
  },
  {
   "cell_type": "code",
   "execution_count": 2,
   "id": "15f128c9",
   "metadata": {},
   "outputs": [
    {
     "data": {
      "text/html": [
       "<div>\n",
       "<style scoped>\n",
       "    .dataframe tbody tr th:only-of-type {\n",
       "        vertical-align: middle;\n",
       "    }\n",
       "\n",
       "    .dataframe tbody tr th {\n",
       "        vertical-align: top;\n",
       "    }\n",
       "\n",
       "    .dataframe thead th {\n",
       "        text-align: right;\n",
       "    }\n",
       "</style>\n",
       "<table border=\"1\" class=\"dataframe\">\n",
       "  <thead>\n",
       "    <tr style=\"text-align: right;\">\n",
       "      <th></th>\n",
       "      <th>0</th>\n",
       "      <th>1</th>\n",
       "      <th>2</th>\n",
       "      <th>3</th>\n",
       "      <th>4</th>\n",
       "      <th>5</th>\n",
       "      <th>6</th>\n",
       "      <th>7</th>\n",
       "      <th>8</th>\n",
       "      <th>9</th>\n",
       "      <th>a</th>\n",
       "      <th>b</th>\n",
       "      <th>c</th>\n",
       "      <th>d</th>\n",
       "      <th>e</th>\n",
       "      <th>f</th>\n",
       "    </tr>\n",
       "  </thead>\n",
       "  <tbody>\n",
       "    <tr>\n",
       "      <th>0</th>\n",
       "      <td>63</td>\n",
       "      <td>7c</td>\n",
       "      <td>77</td>\n",
       "      <td>7b</td>\n",
       "      <td>f2</td>\n",
       "      <td>6b</td>\n",
       "      <td>6f</td>\n",
       "      <td>c5</td>\n",
       "      <td>30</td>\n",
       "      <td>1</td>\n",
       "      <td>67</td>\n",
       "      <td>2b</td>\n",
       "      <td>fe</td>\n",
       "      <td>d7</td>\n",
       "      <td>ab</td>\n",
       "      <td>76</td>\n",
       "    </tr>\n",
       "    <tr>\n",
       "      <th>1</th>\n",
       "      <td>ca</td>\n",
       "      <td>82</td>\n",
       "      <td>c9</td>\n",
       "      <td>7d</td>\n",
       "      <td>fa</td>\n",
       "      <td>59</td>\n",
       "      <td>47</td>\n",
       "      <td>f0</td>\n",
       "      <td>ad</td>\n",
       "      <td>d4</td>\n",
       "      <td>a2</td>\n",
       "      <td>af</td>\n",
       "      <td>9c</td>\n",
       "      <td>a4</td>\n",
       "      <td>72</td>\n",
       "      <td>c0</td>\n",
       "    </tr>\n",
       "    <tr>\n",
       "      <th>2</th>\n",
       "      <td>b7</td>\n",
       "      <td>fd</td>\n",
       "      <td>93</td>\n",
       "      <td>26</td>\n",
       "      <td>36</td>\n",
       "      <td>3f</td>\n",
       "      <td>f7</td>\n",
       "      <td>cc</td>\n",
       "      <td>34</td>\n",
       "      <td>a5</td>\n",
       "      <td>e5</td>\n",
       "      <td>f1</td>\n",
       "      <td>71</td>\n",
       "      <td>d8</td>\n",
       "      <td>31</td>\n",
       "      <td>15</td>\n",
       "    </tr>\n",
       "    <tr>\n",
       "      <th>3</th>\n",
       "      <td>4</td>\n",
       "      <td>c7</td>\n",
       "      <td>23</td>\n",
       "      <td>c3</td>\n",
       "      <td>18</td>\n",
       "      <td>96</td>\n",
       "      <td>5</td>\n",
       "      <td>9a</td>\n",
       "      <td>7</td>\n",
       "      <td>12</td>\n",
       "      <td>80</td>\n",
       "      <td>e2</td>\n",
       "      <td>eb</td>\n",
       "      <td>27</td>\n",
       "      <td>b2</td>\n",
       "      <td>75</td>\n",
       "    </tr>\n",
       "    <tr>\n",
       "      <th>4</th>\n",
       "      <td>9</td>\n",
       "      <td>83</td>\n",
       "      <td>2c</td>\n",
       "      <td>1a</td>\n",
       "      <td>1b</td>\n",
       "      <td>6e</td>\n",
       "      <td>5a</td>\n",
       "      <td>a0</td>\n",
       "      <td>52</td>\n",
       "      <td>3b</td>\n",
       "      <td>d6</td>\n",
       "      <td>b3</td>\n",
       "      <td>29</td>\n",
       "      <td>e3</td>\n",
       "      <td>2f</td>\n",
       "      <td>84</td>\n",
       "    </tr>\n",
       "  </tbody>\n",
       "</table>\n",
       "</div>"
      ],
      "text/plain": [
       "    0   1   2   3   4   5   6   7   8   9   a   b   c   d   e   f\n",
       "0  63  7c  77  7b  f2  6b  6f  c5  30   1  67  2b  fe  d7  ab  76\n",
       "1  ca  82  c9  7d  fa  59  47  f0  ad  d4  a2  af  9c  a4  72  c0\n",
       "2  b7  fd  93  26  36  3f  f7  cc  34  a5  e5  f1  71  d8  31  15\n",
       "3   4  c7  23  c3  18  96   5  9a   7  12  80  e2  eb  27  b2  75\n",
       "4   9  83  2c  1a  1b  6e  5a  a0  52  3b  d6  b3  29  e3  2f  84"
      ]
     },
     "execution_count": 2,
     "metadata": {},
     "output_type": "execute_result"
    }
   ],
   "source": [
    "col_names  = ['0', '1', '2', '3', '4', '5', '6', '7', '8', '9', 'a', 'b', 'c', 'd', 'e', 'f']\n",
    "row_names = ['0', '1', '2', '3', '4', '5', '6', '7', '8', '9', 'a', 'b', 'c', 'd', 'e', 'f']\n",
    "\n",
    "enc_key_sbox = pd.read_excel('AES tables.xlsx', index_col=0)\n",
    "\n",
    "enc_key_sbox.columns = col_names ## replacing the column names \n",
    "enc_key_sbox.index = row_names    ## replacing the row names\n",
    "\n",
    "enc_key_sbox.head()"
   ]
  },
  {
   "cell_type": "markdown",
   "id": "40948502",
   "metadata": {},
   "source": [
    "## Key Generation"
   ]
  },
  {
   "cell_type": "code",
   "execution_count": 3,
   "id": "f2fdd239",
   "metadata": {},
   "outputs": [],
   "source": [
    "def key_sbox(element):\n",
    "    row_index = element[0]\n",
    "    col_index  = element[1]\n",
    "    ans = enc_key_sbox.loc[[row_index],[col_index]][col_index][0]\n",
    "    return str(ans)"
   ]
  },
  {
   "cell_type": "code",
   "execution_count": 4,
   "id": "8af8cbe2",
   "metadata": {},
   "outputs": [],
   "source": [
    "def binaryToDecimal(binary):\n",
    "    binary1 = binary\n",
    "    decimal, i, n = 0, 0, 0\n",
    "    \n",
    "    while(binary != 0):\n",
    "        dec = binary % 10\n",
    "        decimal = decimal + dec * pow(2, i)\n",
    "        binary = binary//10\n",
    "        i += 1\n",
    "        \n",
    "    hexadecimal =  hex(decimal)[-1]\n",
    "    return hexadecimal"
   ]
  },
  {
   "cell_type": "code",
   "execution_count": 5,
   "id": "4d2d3b05",
   "metadata": {},
   "outputs": [],
   "source": [
    "def bcd_hexadecimal(bcd_list):\n",
    "    w4 = []\n",
    "    \n",
    "    for i in range(0,len(bcd_list),2):\n",
    "        temp_str = ' '\n",
    "        temp_str = binaryToDecimal(int(bcd_list[i]))\n",
    "        temp_str = temp_str + binaryToDecimal(int(bcd_list[i+1]))\n",
    "        w4.append(temp_str)\n",
    "        \n",
    "    return w4"
   ]
  },
  {
   "cell_type": "code",
   "execution_count": 6,
   "id": "ca05c515",
   "metadata": {},
   "outputs": [],
   "source": [
    "def HexaDecimaltoBCD(str):\n",
    "    list1 = []\n",
    "    for i in range(len(str)):\n",
    "        decimal = int(str[i], 16)                                ## hexadecimal -> decimal\n",
    "        binary_num = bin(decimal).replace(\"0b\", \"\")  # decimal -> binary\n",
    "        list1.append(binary_num)\n",
    "            \n",
    "    ## binary in-terms of 4 bits\n",
    "    for i in range(len(list1)):\n",
    "        element = list1[i]\n",
    "        if len(element)<4:\n",
    "            diff = 4 - len(element)\n",
    "            for j in range(diff):\n",
    "                element = \"0\" + element\n",
    "            list1[i] = element\n",
    "            \n",
    "    return list1"
   ]
  },
  {
   "cell_type": "code",
   "execution_count": 7,
   "id": "6c4f8120",
   "metadata": {},
   "outputs": [],
   "source": [
    "def Hexaword_BCD(list1):\n",
    "    bcd = [ HexaDecimaltoBCD(i) for i in list1 ]\n",
    "    bcd = list(np.concatenate(bcd).flat)    ## 2d list to 1d list\n",
    "    return bcd"
   ]
  },
  {
   "cell_type": "code",
   "execution_count": 8,
   "id": "40244f88",
   "metadata": {},
   "outputs": [],
   "source": [
    "def XOR(list1, list2):\n",
    "    \n",
    "    def compare(element1, element2):\n",
    "        ans = []\n",
    "        for i,j in zip(element1,element2):\n",
    "            if (i!=j):ans.append(1)\n",
    "            else:ans.append(0)\n",
    "        return ans\n",
    "\n",
    "    main_ans = []\n",
    "    for i in range(len(list1)):\n",
    "        main_ans.append(compare(list1[i], list2[i]))\n",
    "        \n",
    "    main_ans = [ \"\".join(list(map(str, i))) for i in main_ans ]\n",
    "    return main_ans"
   ]
  },
  {
   "cell_type": "code",
   "execution_count": 9,
   "id": "63a769c0",
   "metadata": {},
   "outputs": [],
   "source": [
    "def binary_to_polynomial(a):\n",
    "    str1 = \"\"\n",
    "    nobits = len(a)\n",
    "    for x in range (0,nobits-2):\n",
    "        if (a[x] == '1'):\n",
    "            if (len(str1)==0):str1 +=\"x^\"+str(nobits-x-1)\n",
    "            else: str1 +=\" + x^\"+str(nobits-x-1)\n",
    "    if (a[nobits-2] == '1'):\n",
    "        if (len(str1)==0):str1 +=\"x\"\n",
    "        else:str1 +=\" + x\"\n",
    "\n",
    "    if (a[nobits-1] == '1'):str1 +=\"+1\"\n",
    "    print(str1)"
   ]
  },
  {
   "cell_type": "code",
   "execution_count": 10,
   "id": "0a8ff8c2",
   "metadata": {},
   "outputs": [],
   "source": [
    "def binary_division_modulo_2(val1, val2):\n",
    "    \n",
    "    def xor(a, b):\n",
    "        result = []\n",
    "        for i in range(1, len(b)):\n",
    "            if a[i] == b[i]:result.append('0')\n",
    "            else:result.append('1')\n",
    "        return ''.join(result)\n",
    "\n",
    "    def showpoly(a):\n",
    "        str1 = \"\"\n",
    "        nobits = len(a)\n",
    "        for x in range (0,nobits-2):\n",
    "            if (a[x] == '1'):\n",
    "                if (len(str1)==0):str1 +=\"x**\"+str(nobits-x-1)\t\n",
    "                else: str1 +=\"+x**\"+str(nobits-x-1)\n",
    "        if (a[nobits-2] == '1'):\n",
    "            if (len(str1)==0):str1 +=\"x\"\n",
    "            else:str1 +=\"+x\"\n",
    "\n",
    "        if (a[nobits-1] == '1'):str1 +=\"+1\"\n",
    "        print(str1)\n",
    "        \n",
    "    def divide(dividend, divisor):\n",
    "        pick = len(divisor)\n",
    "        tmp = dividend[0 : pick]\n",
    "\n",
    "        while (pick < len(dividend)):\n",
    "\n",
    "            if tmp[0] == '1':tmp = xor(divisor, tmp) + dividend[pick]\n",
    "            else: tmp = xor('0'*pick, tmp) + dividend[pick]\n",
    "            pick += 1\n",
    "\n",
    "        if tmp[0] == '1':tmp = xor(divisor, tmp)\n",
    "        else:tmp = xor('0'*pick, tmp)\n",
    "\n",
    "        checkword = tmp\n",
    "        return checkword\n",
    "\n",
    "    val1= divide(val1,val2)\n",
    "    return val1"
   ]
  },
  {
   "cell_type": "code",
   "execution_count": 11,
   "id": "a237983e",
   "metadata": {},
   "outputs": [],
   "source": [
    "def bcd_to_hexadecimal(list1):\n",
    "        hexadecimal_ans = bcdToHexaDecimal(list1)\n",
    "        hexadecimal_ans.reverse()   ## reversing the list\n",
    "        hexadecimal_ans = [ i.lower() for i in hexadecimal_ans]  ## upper-case alphabets to lower-case\n",
    "        hexadecimal_ans = ''.join(hexadecimal_ans)\n",
    "        return hexadecimal_ans"
   ]
  },
  {
   "cell_type": "code",
   "execution_count": 12,
   "id": "e8d79cf6",
   "metadata": {},
   "outputs": [],
   "source": [
    "# Function to convert BCD to hexadecimal\n",
    "def bcdToHexaDecimal(s):\n",
    "    len1 = len(s)\n",
    "    check = 0\n",
    "    num = 0\n",
    "    sum = 0\n",
    "    mul = 1\n",
    "    ans = []\n",
    "\n",
    "# Iterating through the bits backwards\n",
    "    i = len1 - 1\n",
    "     \n",
    "    while(i >= 0):\n",
    "        sum += (ord(s[i]) - ord('0')) * mul\n",
    "        mul *= 2\n",
    "        check += 1\n",
    " \n",
    "        # Computing the hexadecimal number formed\n",
    "        # so far and storing it in a vector.\n",
    "        if (check == 4 or i == 0):\n",
    "             \n",
    "            if (sum <= 9):\n",
    "                ans.append(chr(sum + ord('0')))\n",
    "            else:\n",
    "                ans.append(chr(sum + 55));\n",
    " \n",
    "            # Reinitializing all variables for next group.\n",
    "            check = 0\n",
    "            sum = 0\n",
    "            mul = 1\n",
    "        i -= 1\n",
    "         \n",
    "    len1 = len(ans)\n",
    " \n",
    "    # Printing the hexadecimal\n",
    "    # number formed so far.\n",
    "    i = len1 - 1\n",
    "     \n",
    "    while(i >= 0):\n",
    "        return ans"
   ]
  },
  {
   "cell_type": "code",
   "execution_count": 13,
   "id": "5d6334b1",
   "metadata": {},
   "outputs": [],
   "source": [
    "def rotword(word):\n",
    "    rot=word[1:]\n",
    "    rot.append(word[0])\n",
    "    return rot"
   ]
  },
  {
   "cell_type": "code",
   "execution_count": 14,
   "id": "203b59eb",
   "metadata": {},
   "outputs": [],
   "source": [
    "def col1_generation(iteration_var, hex_key):\n",
    "    \n",
    "    ## round-constant table \n",
    "    ## key-round and value-hexadecimal\n",
    "    round_constant = {1:'1', 2:'2', 3:'4', 4:'8', 5:'10', 6:'20', 7:'40', 8:'80', 9:'1B', 10:'36'}\n",
    "\n",
    "    ## taking the last column words\n",
    "    last_col = hex_key[-1]\n",
    "\n",
    "    ## left shifting the last column words\n",
    "    #left_shift = last_col[1:] + last_col[:1] \n",
    "    left_shift = rotword(last_col)\n",
    "\n",
    "    ## sub-word generation from S-Box\n",
    "    subword = []\n",
    "    for i in left_shift:\n",
    "        val = key_sbox(i)\n",
    "        if len(val)!=2:\n",
    "            val = '0' + val\n",
    "            subword.append(val)\n",
    "        else:\n",
    "            subword.append(val)\n",
    "\n",
    "    ## subword --> hexadecimal(subword)\n",
    "    y1 = Hexaword_BCD(subword)\n",
    "\n",
    "    ## subword (XOR) Round Constant\n",
    "    element = round_constant[iteration_var]\n",
    "    initial = HexaDecimaltoBCD(element)\n",
    "    initial_length = len(initial)\n",
    "\n",
    "    if (initial_length == 1):\n",
    "        between = initial\n",
    "        temp_1 = [ [0 for j in range(4) for i in range(1)] ]\n",
    "        last = [ [0 for j in range(4)] for i in range(6) ]\n",
    "        temp_1.extend(between)\n",
    "        temp_1.extend(last)\n",
    "        final = temp_1\n",
    "        if (element==1): ## if there is a single element(0,1,2, ... ,9) from the s-box --> length=1\n",
    "            before1 = [ [0 for j in range(4) for i in range(1)] ]\n",
    "            before1.extend(final)\n",
    "            final = before1\n",
    "\n",
    "    elif (initial_length == 2):  ## if there is a two element(11, 1a, b1, ...) from the s-box --> length=2\n",
    "        last = [ [0 for j in range(4)] for i in range(6) ]\n",
    "        first = initial\n",
    "        first.extend(last)\n",
    "        final = first\n",
    "\n",
    "    final = [ \"\".join(list(map(str, i))) for i in final ]\n",
    "    round_list = final\n",
    "\n",
    "    round_ans = XOR(y1, round_list) ## --> g(col4_before)\n",
    "    #print(\"y1 : \",y1)\n",
    "    # taking col1_before\n",
    "    col1_before = [ HexaDecimaltoBCD(i) for i in hex_key[0] ]\n",
    "    col1_before = list(np.concatenate(col1_before).flat)\n",
    "\n",
    "    ## col1 --> col1_before (exor) g(col4_before)\n",
    "    col1 = XOR(col1_before, round_ans)\n",
    "    col1 = bcd_hexadecimal(col1)\n",
    "\n",
    "    return col1"
   ]
  },
  {
   "cell_type": "code",
   "execution_count": 15,
   "id": "457b6ffc",
   "metadata": {},
   "outputs": [],
   "source": [
    "def key_generation(hex_key):\n",
    "    complete_keys = []\n",
    "    for i in range(1,11): ## 10 times running\n",
    "        temp = []\n",
    "\n",
    "        ## 1st col word = col_before[0] (exor) g(col_before[-1]) \n",
    "        col1_hex = col1_generation(i, hex_key)\n",
    "        col1_bin  = Hexaword_BCD(col1_hex)\n",
    "\n",
    "        for j in range(2,5): ## each loop, 3 times running ( remaining 3 words)\n",
    "            if (j==2):  ## 2nd col words\n",
    "                col1_before_bin = Hexaword_BCD(hex_key[j-1])\n",
    "                col2_bin = XOR(col1_before_bin, col1_bin)\n",
    "                col2_hex = bcd_hexadecimal(col2_bin)\n",
    "\n",
    "            else:  ## 3rd and 4th column words\n",
    "                col2_before_bin = Hexaword_BCD(hex_key[j-1])            \n",
    "                col3_bin = XOR(col2_before_bin, col2_bin)\n",
    "                col3_hex = bcd_hexadecimal(col3_bin)\n",
    "                col2_bin = Hexaword_BCD(col3_hex)\n",
    "                temp.append(col3_hex)\n",
    "\n",
    "        ## once again generating the hex_key\n",
    "        hex_key = []\n",
    "\n",
    "        hex_key.append(col1_hex)\n",
    "        hex_key.append(col2_hex)\n",
    "        hex_key.extend(temp)    \n",
    "        hex_key = pd.DataFrame(hex_key).T.values.tolist()\n",
    "\n",
    "        complete_keys.append(hex_key)\n",
    "    return complete_keys"
   ]
  },
  {
   "cell_type": "markdown",
   "id": "fd78a4db",
   "metadata": {},
   "source": [
    "## Round Operation"
   ]
  },
  {
   "cell_type": "code",
   "execution_count": 16,
   "id": "b2851373",
   "metadata": {},
   "outputs": [],
   "source": [
    "def add_round_key(hex_str, complete_keys,round_num): ## exor with plain text and key\n",
    "    add_round_key = []\n",
    "    for i in range(4):\n",
    "        bin_str = Hexaword_BCD(hex_str[i])\n",
    "        bin_keys = Hexaword_BCD(complete_keys[round_num][i])\n",
    "        bin_xor   = XOR(bin_str, bin_keys)\n",
    "        bcd_round_key = bcd_hexadecimal(bin_xor)\n",
    "        add_round_key.append(bcd_round_key)\n",
    "    return pd.DataFrame(add_round_key).T.values.tolist()"
   ]
  },
  {
   "cell_type": "markdown",
   "id": "fbf51183",
   "metadata": {},
   "source": [
    "## Substitution Box"
   ]
  },
  {
   "cell_type": "code",
   "execution_count": 17,
   "id": "041be6d9",
   "metadata": {},
   "outputs": [],
   "source": [
    "def subtitute_box(add_round_key):  ## output from add_round_key\n",
    "    subword = []\n",
    "    for i in range(4):\n",
    "        temp_word = []\n",
    "        for j in add_round_key:\n",
    "            val = key_sbox(j[i])\n",
    "            if len(val)!=2:\n",
    "                val = '0' + val\n",
    "                temp_word.append(val)\n",
    "            else:\n",
    "                temp_word.append(val)\n",
    "\n",
    "        ## subword --> hexadecimal(subword)\n",
    "        temp_word = Hexaword_BCD(temp_word)\n",
    "        temp_word_hexa = bcd_hexadecimal(temp_word)\n",
    "        subword.append(temp_word_hexa)\n",
    "        temp_word_hexa = []\n",
    "\n",
    "    ## swapping rows and columns\n",
    "    #subword = [list(x) for x in zip(*subword)]\n",
    "    return subword"
   ]
  },
  {
   "cell_type": "markdown",
   "id": "515b07b1",
   "metadata": {},
   "source": [
    "## Shift Rows"
   ]
  },
  {
   "cell_type": "code",
   "execution_count": 18,
   "id": "1187e1e0",
   "metadata": {},
   "outputs": [],
   "source": [
    "def shift_rows(subtitute_box_ans):\n",
    "    ## shifting rows and columns\n",
    "    shift_rows = []\n",
    "    subword = collections.deque(subtitute_box_ans)\n",
    "    for i in range(4):\n",
    "        temp = collections.deque(subtitute_box_ans[i])\n",
    "        temp.rotate(-i)\n",
    "        shift_rows.append(list(temp))\n",
    "    return shift_rows"
   ]
  },
  {
   "cell_type": "markdown",
   "id": "aacaec06",
   "metadata": {},
   "source": [
    "## Mix Columns"
   ]
  },
  {
   "cell_type": "code",
   "execution_count": 19,
   "id": "5b98299e",
   "metadata": {},
   "outputs": [],
   "source": [
    "def mix_columns_each_round(shift_rows):\n",
    "    \n",
    "    multiple = [['02', '03', '01', '01'],\n",
    "                 ['01', '02', '03', '01'],\n",
    "                 ['01', '01', '02', '03'],\n",
    "                 ['03', '01', '01', '02']]\n",
    "\n",
    "    prod_ans1 = []\n",
    "    row_ans = []\n",
    "    final_ans  = []\n",
    "\n",
    "    for i in range(4):\n",
    "        for j in range(4):\n",
    "            for k in range(4):\n",
    "\n",
    "                ## hexadecimal to BCD\n",
    "                num1 = Hexaword_BCD(multiple[i][k])\n",
    "                num2 = Hexaword_BCD(shift_rows[j][k])\n",
    "                #print(\"\\nHexadecimal Format : num-1 : {} and num-2 : {} \".format(multiple[i][k], shift_rows[j][k]))\n",
    "                #print(\"BCD Format : num-1 : {} and num-2 : {} \".format(num1, num2))\n",
    "\n",
    "                ## Product operation\n",
    "                num1_list = [int(item) for sublist in num1 for item in sublist]\n",
    "                num2_list = [int(item) for sublist in num2 for item in sublist]\n",
    "                ans = list(np.poly1d(num1_list) * np.poly1d(num2_list))\n",
    "                prod_ans1.append(ans)\n",
    "\n",
    "            max_length = max([len(p) for p in prod_ans1])\n",
    "\n",
    "           ## adding 0's \n",
    "            temp_match_len = []\n",
    "            for a in prod_ans1:\n",
    "                for b in range(max_length - len(a)):\n",
    "                    a.insert(0, 0)\n",
    "                element = ''.join(map(str, a))\n",
    "                #binary_to_polynomial(element)\n",
    "                temp_match_len.append(a)\n",
    "            prod_ans1 = temp_match_len\n",
    "\n",
    "            ## summing up the polynomials\n",
    "            temp_sum = []\n",
    "            for c in range(max_length):\n",
    "                temp_sum.append(sum([sub[c] for sub in prod_ans1]))\n",
    "            for d in range(len(temp_sum)):\n",
    "                if (temp_sum[d] %2!= 0): temp_sum[d] = 1  ## sum is odd number put 1\n",
    "                else:  temp_sum[d] = 0                               ## sum is even number put 0\n",
    "            prod_ans1 = temp_sum\n",
    "\n",
    "            prod_ans1= ''.join(map(str, prod_ans1))\n",
    "           #binary_to_polynomial(prod_ans1)\n",
    "\n",
    "            if len(prod_ans1)>8:\n",
    "                irreducible_polynomial = '100011011'\n",
    "                ir_ans = binary_division_modulo_2(prod_ans1, irreducible_polynomial)\n",
    "                prod_ans1= ir_ans\n",
    "                hexadecimal_ans = bcd_to_hexadecimal(prod_ans1)\n",
    "                row_ans.append(hexadecimal_ans)\n",
    "            else:\n",
    "                hexadecimal_ans = bcd_to_hexadecimal(prod_ans1)\n",
    "                row_ans.append(hexadecimal_ans)\n",
    "                \n",
    "            prod_ans1 = []\n",
    "        final_ans.append(row_ans)\n",
    "        row_ans = []\n",
    "    return final_ans"
   ]
  },
  {
   "cell_type": "code",
   "execution_count": 20,
   "id": "887e78ff",
   "metadata": {},
   "outputs": [],
   "source": [
    "def main():\n",
    "    round_num = 0\n",
    "    add_round_key\n",
    "    subtitute_box\n",
    "    shift_rows\n",
    "    mix_columns_each_round"
   ]
  },
  {
   "cell_type": "markdown",
   "id": "5fc18e82",
   "metadata": {},
   "source": [
    "## Getting the user inputs"
   ]
  },
  {
   "cell_type": "code",
   "execution_count": 21,
   "id": "03922e11",
   "metadata": {},
   "outputs": [],
   "source": [
    "def text_hexadecimal(text): ## all the blocks --> 16bytes\n",
    "    hex_text   = []\n",
    "    for i in text: ## character -> ascii (decimal) -> hexa-decimal\n",
    "        hex_text.append(hex(ord(i))[2:])\n",
    "    return hex_text ## 16-byte representation of the text"
   ]
  },
  {
   "cell_type": "code",
   "execution_count": 22,
   "id": "5935f93c",
   "metadata": {},
   "outputs": [
    {
     "name": "stdout",
     "output_type": "stream",
     "text": [
      "Text Hexadecimal Representation :  ['54', '77', '6f', '20', '4f', '6e', '65', '20', '4e', '69', '6e', '65', '20', '54', '77', '6f']\n",
      "Key Hexadecimal Representation :  ['54', '68', '61', '74', '73', '20', '6d', '79', '20', '4b', '75', '6e', '67', '20', '46', '75']\n"
     ]
    }
   ],
   "source": [
    "plain_text = \"Two One Nine Two\"\n",
    "plain_key = 'Thats my Kung Fu' \n",
    "\n",
    "hex_str = text_hexadecimal(plain_text)\n",
    "hex_key = text_hexadecimal(plain_key)\n",
    "\n",
    "print(\"Text Hexadecimal Representation : \",hex_str)\n",
    "print(\"Key Hexadecimal Representation : \",hex_key)"
   ]
  },
  {
   "cell_type": "markdown",
   "id": "1fda36ec",
   "metadata": {},
   "source": [
    "## Key Generation"
   ]
  },
  {
   "cell_type": "code",
   "execution_count": 23,
   "id": "86c63dd0",
   "metadata": {},
   "outputs": [
    {
     "data": {
      "text/plain": [
       "[['54', '68', '61', '74'],\n",
       " ['73', '20', '6d', '79'],\n",
       " ['20', '4b', '75', '6e'],\n",
       " ['67', '20', '46', '75']]"
      ]
     },
     "execution_count": 23,
     "metadata": {},
     "output_type": "execute_result"
    }
   ],
   "source": [
    "## splitting into 4*4 matrix\n",
    "hex_key = [hex_key[i:i+4] for i in range(0, len(hex_key), 4)]\n",
    "hex_key"
   ]
  },
  {
   "cell_type": "code",
   "execution_count": 24,
   "id": "42df6915",
   "metadata": {},
   "outputs": [
    {
     "data": {
      "text/plain": [
       "[['54', '68', '61', '74'],\n",
       " ['73', '20', '6d', '79'],\n",
       " ['20', '4b', '75', '6e'],\n",
       " ['67', '20', '46', '75']]"
      ]
     },
     "execution_count": 24,
     "metadata": {},
     "output_type": "execute_result"
    }
   ],
   "source": [
    "r0_key = [] ## to accomodate Round-0th key\n",
    "r0_key.extend(hex_key)\n",
    "r0_key"
   ]
  },
  {
   "cell_type": "code",
   "execution_count": 25,
   "id": "e636dcdf",
   "metadata": {},
   "outputs": [
    {
     "name": "stdout",
     "output_type": "stream",
     "text": [
      "Round - 0 keys -->  54 68 61 74 73 20 6d 79 20 4b 75 6e 67 20 46 75\n",
      "Round - 1 keys -->  e2 91 b1 d6 32 12 59 79 fc 91 e4 a2 f1 88 e6 93\n",
      "Round - 2 keys -->  24 16 ea 1b 1f 0d 9c 14 6d 34 d0 36 77 0e ac 3f\n",
      "Round - 3 keys -->  8b 94 f9 8e 87 8a be b0 9f 03 d3 7f ee fa cc f3\n",
      "Round - 4 keys -->  ae 29 b6 58 df 55 56 ac f4 4a 99 55 a6 16 69 9a\n",
      "Round - 5 keys -->  f9 26 d2 74 d0 85 cf d9 0e 58 c1 a8 7c d0 85 1f\n",
      "Round - 6 keys -->  a9 79 77 0b b1 34 6c bc 12 dd 1c 99 64 bd 15 0a\n",
      "Round - 7 keys -->  93 22 30 54 20 14 c9 74 10 7c 60 75 48 f4 6d 67\n",
      "Round - 8 keys -->  ac 8c 9c d4 1e 0a 76 82 b5 7c 1c 71 06 72 07 60\n",
      "Round - 9 keys -->  f7 e9 5c 5a 49 43 3f 4d 4c 3a 26 21 bb 39 48 28\n",
      "Round - 10 keys -->  d3 9a d6 6d bb f8 c2 fb 68 57 71 39 b0 fd dc f4\n"
     ]
    }
   ],
   "source": [
    "r1_r10_keys = key_generation(hex_key)\n",
    "r1_r10_keys.insert(0,(r0_key))\n",
    "complete_keys = r1_r10_keys\n",
    "\n",
    "for i in range(len(complete_keys)):\n",
    "    print(\"Round - {} keys --> \".format(i),end=' ')\n",
    "    print(*list(itertools.chain(*complete_keys[i])))"
   ]
  },
  {
   "cell_type": "markdown",
   "id": "cc377a2f",
   "metadata": {},
   "source": [
    "## Making the string ready"
   ]
  },
  {
   "cell_type": "code",
   "execution_count": 26,
   "id": "65d7fe4d",
   "metadata": {},
   "outputs": [
    {
     "name": "stdout",
     "output_type": "stream",
     "text": [
      "Hexadecimal Representation :  [['54', '77', '6f', '20'], ['4f', '6e', '65', '20'], ['4e', '69', '6e', '65'], ['20', '54', '77', '6f']]\n"
     ]
    }
   ],
   "source": [
    "hex_str = [hex_str[i:i+4] for i in range(0, len(hex_str), 4)]\n",
    "print(\"Hexadecimal Representation : \",hex_str)"
   ]
  },
  {
   "cell_type": "markdown",
   "id": "9935053b",
   "metadata": {},
   "source": [
    "## Main Function"
   ]
  },
  {
   "cell_type": "markdown",
   "id": "1ce56901",
   "metadata": {},
   "source": [
    "## Round-1"
   ]
  },
  {
   "cell_type": "code",
   "execution_count": 27,
   "id": "834613f0",
   "metadata": {},
   "outputs": [
    {
     "data": {
      "text/plain": [
       "[['00', '3c', '6e', '47'],\n",
       " ['1f', '4e', '22', '74'],\n",
       " ['0e', '08', '1b', '31'],\n",
       " ['54', '59', '0b', '1a']]"
      ]
     },
     "execution_count": 27,
     "metadata": {},
     "output_type": "execute_result"
    }
   ],
   "source": [
    "rnd_cnt = 0\n",
    "add_round_key_ans = add_round_key(hex_str, complete_keys,rnd_cnt)\n",
    "add_round_key_ans"
   ]
  },
  {
   "cell_type": "code",
   "execution_count": 28,
   "id": "b058b2cb",
   "metadata": {},
   "outputs": [],
   "source": [
    "subtitute_box_ans = subtitute_box(add_round_key_ans)\n",
    "shift_rows_ans = [['63', '2f', 'af', 'a2'],\n",
    "                            ['eb', '93', 'c7', '20'],\n",
    "                            ['9f', '92', 'ab', 'cb'],\n",
    "                            ['a0', 'c0', '30', '2b']]\n",
    "mix_columns_ans = mix_columns_each_round(shift_rows_ans)"
   ]
  },
  {
   "cell_type": "code",
   "execution_count": 29,
   "id": "7b5b4367",
   "metadata": {},
   "outputs": [
    {
     "data": {
      "text/plain": [
       "[['ba', '84', 'e8', '1b'],\n",
       " ['75', 'a4', '8d', '40'],\n",
       " ['f4', '8d', '06', '7d'],\n",
       " ['7a', '32', '0e', '5d']]"
      ]
     },
     "execution_count": 29,
     "metadata": {},
     "output_type": "execute_result"
    }
   ],
   "source": [
    "mix_columns_ans"
   ]
  },
  {
   "cell_type": "code",
   "execution_count": 30,
   "id": "0ad42e80",
   "metadata": {},
   "outputs": [
    {
     "data": {
      "text/plain": [
       "[['e2', '91', 'b1', 'd6'],\n",
       " ['32', '12', '59', '79'],\n",
       " ['fc', '91', 'e4', 'a2'],\n",
       " ['f1', '88', 'e6', '93']]"
      ]
     },
     "execution_count": 30,
     "metadata": {},
     "output_type": "execute_result"
    }
   ],
   "source": [
    "complete_keys[1]"
   ]
  },
  {
   "cell_type": "code",
   "execution_count": 31,
   "id": "d6b66a34",
   "metadata": {},
   "outputs": [
    {
     "name": "stdout",
     "output_type": "stream",
     "text": [
      "Add Round Key :  [['58', '47', '08', '8b'], ['15', 'b6', '1c', 'ba'], ['59', 'd4', 'e2', 'e8'], ['cd', '39', 'df', 'ce']]\n"
     ]
    }
   ],
   "source": [
    "rnd_cnt = 1\n",
    "add_round_key_ans = add_round_key(mix_columns_ans, complete_keys,rnd_cnt)\n",
    "\n",
    "#add_round_key_ans = pd.DataFrame(add_round_key_ans).T.values.tolist()\n",
    "print(\"Add Round Key : \",add_round_key_ans)"
   ]
  },
  {
   "cell_type": "markdown",
   "id": "ee5a8913",
   "metadata": {},
   "source": [
    "## Round-2 to 9"
   ]
  },
  {
   "cell_type": "code",
   "execution_count": 32,
   "id": "cf14ac6d",
   "metadata": {},
   "outputs": [
    {
     "name": "stdout",
     "output_type": "stream",
     "text": [
      "\n",
      "\n",
      "Sibstitute Box :  [['6a', '59', 'cb', 'bd'], ['a0', '4e', '48', '12'], ['30', '9c', '98', '9e'], ['3d', 'f4', '9b', '8b']]\n",
      "Shift Rows      :  [['6a', '4e', '98', '8b'], ['59', '48', '9e', '3d'], ['cb', '12', '30', 'f4'], ['bd', 'a0', '9c', '9b']]\n",
      "Mix Columns   :  [['15', 'c9', '7f', '9d'], ['ce', '4d', '4b', 'c2'], ['89', '71', 'be', '88'], ['65', '47', '97', 'cd']]\n",
      "Keys               :  [['24', '16', 'ea', '1b'], ['1f', '0d', '9c', '14'], ['6d', '34', 'd0', '36'], ['77', '0e', 'ac', '3f']]\n",
      "Add Round Key :  [['31', 'd1', 'e4', '12'], ['df', '40', '45', '49'], ['95', 'd7', '6e', '3b'], ['86', 'd6', 'be', 'f2']]\n",
      "\n",
      "\n",
      "Sibstitute Box :  [['c7', '9e', '2a', '44'], ['3e', '09', '0e', 'f6'], ['69', '6e', '9f', 'ae'], ['c9', '3b', 'e2', '89']]\n",
      "Shift Rows      :  [['c7', '09', '9f', '89'], ['9e', '0e', 'ae', 'c9'], ['2a', 'f6', '69', '3b'], ['44', '3e', '6e', 'e2']]\n",
      "Mix Columns   :  [['98', '52', '07', '46'], ['e6', 'a2', '5d', '68'], ['6b', '97', '43', '9b'], ['cd', '90', '97', '43']]\n",
      "Keys               :  [['8b', '94', 'f9', '8e'], ['87', '8a', 'be', 'b0'], ['9f', '03', 'd3', '7f'], ['ee', 'fa', 'cc', 'f3']]\n",
      "Add Round Key :  [['13', '61', 'f4', '23'], ['c6', '28', '94', '6a'], ['fe', 'e3', '90', '5b'], ['c8', 'd8', 'e4', 'b0']]\n",
      "\n",
      "\n",
      "Sibstitute Box :  [['7d', 'b4', 'bb', 'e8'], ['ef', '34', '11', '61'], ['bf', '22', '60', '69'], ['26', '02', '39', 'e7']]\n",
      "Shift Rows      :  [['7d', '34', '60', 'e7'], ['b4', '11', '69', '26'], ['bb', '61', 'bf', '02'], ['e8', 'ef', '22', '39']]\n",
      "Mix Columns   :  [['21', '0f', '73', 'fa'], ['52', '0b', 'a1', '72'], ['bb', '1d', 'b9', '08'], ['06', 'f3', '0c', '9c']]\n",
      "Keys               :  [['ae', '29', 'b6', '58'], ['df', '55', '56', 'ac'], ['f4', '4a', '99', '55'], ['a6', '16', '69', '9a']]\n",
      "Add Round Key :  [['8f', '8d', '4f', 'a0'], ['26', '5e', '57', 'e5'], ['c5', 'f7', '20', '65'], ['a2', 'de', '5d', '06']]\n",
      "\n",
      "\n",
      "Sibstitute Box :  [['73', 'f7', 'a6', '3a'], ['5d', '58', '68', '1d'], ['84', '5b', 'b7', '4c'], ['e0', 'd9', '4d', '6f']]\n",
      "Shift Rows      :  [['73', '58', 'b7', '6f'], ['f7', '68', '4c', 'e0'], ['a6', '1d', '84', 'd9'], ['3a', '5d', '5b', '4d']]\n",
      "Mix Columns   :  [['d6', 'e1', '2d', '85'], ['6e', '13', 'd2', '20'], ['ef', '3c', 'd8', '06'], ['a4', 'fd', 'c1', 'd2']]\n",
      "Keys               :  [['f9', '26', 'd2', '74'], ['d0', '85', 'cf', 'd9'], ['0e', '58', 'c1', 'a8'], ['7c', 'd0', '85', '1f']]\n",
      "Add Round Key :  [['2f', 'be', 'e1', 'd8'], ['c7', '96', '64', '2d'], ['ff', '1d', '19', '44'], ['f1', 'f9', 'ae', 'cd']]\n",
      "\n",
      "\n",
      "Sibstitute Box :  [['15', 'c6', '16', 'a1'], ['ae', '90', 'a4', '99'], ['f8', '43', 'd4', 'e4'], ['61', 'd8', '1b', 'bd']]\n",
      "Shift Rows      :  [['15', '90', 'd4', 'bd'], ['c6', 'a4', 'e4', '61'], ['16', '99', 'f8', 'd8'], ['a1', 'ae', '43', '1b']]\n",
      "Mix Columns   :  [['e8', 'e5', 'bc', 'e8'], ['f4', 'c3', 'f4', '38'], ['ea', '12', '17', 'a4'], ['1a', 'd3', 'f0', '23']]\n",
      "Keys               :  [['a9', '79', '77', '0b'], ['b1', '34', '6c', 'bc'], ['12', 'dd', '1c', '99'], ['64', 'bd', '15', '0a']]\n",
      "Add Round Key :  [['41', '45', 'f8', '7e'], ['9c', 'f7', 'cf', '6e'], ['cb', '98', '0b', 'e5'], ['e3', '84', '3d', '29']]\n",
      "\n",
      "\n",
      "Sibstitute Box :  [['83', 'de', '1f', '11'], ['6e', '68', '46', '5f'], ['41', '8a', '2b', '27'], ['f3', '9f', 'd9', 'a5']]\n",
      "Shift Rows      :  [['83', '68', '2b', 'a5'], ['de', '46', '27', 'f3'], ['1f', '5f', '41', '9f'], ['11', '6e', '8a', 'd9']]\n",
      "Mix Columns   :  [['2b', 'b9', '01', 'c3'], ['8b', 'c8', 'fd', '91'], ['49', 'd8', '78', '00'], ['8c', 'e5', '1a', '7e']]\n",
      "Keys               :  [['93', '22', '30', '54'], ['20', '14', 'c9', '74'], ['10', '7c', '60', '75'], ['48', 'f4', '6d', '67']]\n",
      "Add Round Key :  [['b8', 'ab', '59', 'c4'], ['9b', 'dc', 'a4', '11'], ['31', '34', '18', '77'], ['97', 'e5', '75', '19']]\n",
      "\n",
      "\n",
      "Sibstitute Box :  [['6c', '14', 'c7', '88'], ['62', '86', '18', 'd9'], ['cb', '49', 'ad', '9d'], ['1c', '82', 'f5', 'd4']]\n",
      "Shift Rows      :  [['6c', '86', 'ad', 'd4'], ['14', '18', '9d', '1c'], ['c7', 'd9', 'cb', '82'], ['88', '62', '49', 'f5']]\n",
      "Mix Columns   :  [['30', '81', 'ac', '11'], ['43', '84', 'aa', '62'], ['cc', '09', '0e', '7c'], ['2c', '81', '5f', '59']]\n",
      "Keys               :  [['ac', '8c', '9c', 'd4'], ['1e', '0a', '76', '82'], ['b5', '7c', '1c', '71'], ['06', '72', '07', '60']]\n",
      "Add Round Key :  [['9c', '5d', '79', '2a'], ['0d', '8e', '75', 'f3'], ['30', 'dc', '12', '58'], ['c5', 'e0', '0d', '39']]\n",
      "\n",
      "\n",
      "Sibstitute Box :  [['de', 'd7', '04', 'a6'], ['4c', '19', '86', 'e1'], ['b6', '9d', 'c9', 'd7'], ['e5', '0d', '6a', '12']]\n",
      "Shift Rows      :  [['de', '19', 'c9', '12'], ['d7', '86', 'd7', 'e5'], ['04', 'e1', 'b6', '0d'], ['a6', '4c', '9d', '6a']]\n",
      "Mix Columns   :  [['57', '16', '8b', '74'], ['be', '47', '11', 'e8'], ['78', 'd0', '85', '75'], ['8d', 'e2', '41', 'f4']]\n",
      "Keys               :  [['f7', 'e9', '5c', '5a'], ['49', '43', '3f', '4d'], ['4c', '3a', '26', '21'], ['bb', '39', '48', '28']]\n",
      "Add Round Key :  [['a0', 'f7', '34', '36'], ['ff', '04', 'ea', 'db'], ['d7', '2e', 'a3', '09'], ['2e', 'a5', '54', 'dc']]\n"
     ]
    }
   ],
   "source": [
    "for i in range(2,10):  ## from Round-1 to Round-2\n",
    "    print(\"\\n\")\n",
    "    rnd_cnt = i\n",
    "    subtitute_box_ans = subtitute_box(add_round_key_ans)\n",
    "    \n",
    "    shift_rows_ans     = shift_rows(subtitute_box_ans)\n",
    "    shift_rows_ans = pd.DataFrame(shift_rows_ans).T.values.tolist()\n",
    "    \n",
    "    mix_columns_ans = mix_columns_each_round(shift_rows_ans)\n",
    "    add_round_key_ans = add_round_key(mix_columns_ans, complete_keys, rnd_cnt)\n",
    "    \n",
    "    print(\"Sibstitute Box : \",subtitute_box_ans)\n",
    "    print(\"Shift Rows      : \",shift_rows_ans)\n",
    "    print(\"Mix Columns   : \",mix_columns_ans)\n",
    "    print(\"Keys               : \",complete_keys[rnd_cnt])\n",
    "    print(\"Add Round Key : \",add_round_key_ans)"
   ]
  },
  {
   "cell_type": "markdown",
   "id": "38126dbf",
   "metadata": {},
   "source": [
    "## Round-10"
   ]
  },
  {
   "cell_type": "code",
   "execution_count": 33,
   "id": "5a1f05e2",
   "metadata": {},
   "outputs": [
    {
     "name": "stdout",
     "output_type": "stream",
     "text": [
      "Sibstitute Box :  [['e0', '16', '0e', '31'], ['68', 'f2', '31', '06'], ['18', '87', '0a', '20'], ['05', 'b9', '01', '86']]\n",
      "Shift Rows      :  [['e0', '16', '0e', '31'], ['f2', '31', '06', '68'], ['0a', '20', '18', '87'], ['86', '05', 'b9', '01']]\n",
      "Add Round Key :  [['87', 'f4', '26', '90'], ['ed', '96', '3e', 'a9'], ['b9', 'a7', '1f', 'ab'], ['4d', 'db', '5c', '9b']]\n"
     ]
    }
   ],
   "source": [
    "rnd_cnt = 10\n",
    "\n",
    "subtitute_box_ans = subtitute_box(add_round_key_ans)\n",
    "shift_rows_ans = shift_rows(subtitute_box_ans)\n",
    "add_round_key_ans = add_round_key(hex_str, complete_keys,rnd_cnt)\n",
    "print(\"Sibstitute Box : \",subtitute_box_ans)\n",
    "print(\"Shift Rows      : \",shift_rows_ans)\n",
    "print(\"Add Round Key : \",add_round_key_ans)"
   ]
  },
  {
   "cell_type": "code",
   "execution_count": null,
   "id": "ccbb1dde",
   "metadata": {},
   "outputs": [],
   "source": []
  }
 ],
 "metadata": {
  "kernelspec": {
   "display_name": "Python 3.9.7 ('base')",
   "language": "python",
   "name": "python397jvsc74a57bd0b7a2a0b4f94735ea31e77398a02d224ee82f8658043a15390cdd4e6a2ed959b7"
  },
  "language_info": {
   "codemirror_mode": {
    "name": "ipython",
    "version": 3
   },
   "file_extension": ".py",
   "mimetype": "text/x-python",
   "name": "python",
   "nbconvert_exporter": "python",
   "pygments_lexer": "ipython3",
   "version": "3.9.7"
  }
 },
 "nbformat": 4,
 "nbformat_minor": 5
}
