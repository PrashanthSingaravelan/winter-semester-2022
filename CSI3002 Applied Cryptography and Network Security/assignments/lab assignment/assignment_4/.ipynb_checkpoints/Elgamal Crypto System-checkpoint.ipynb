{
 "cells": [
  {
   "cell_type": "markdown",
   "id": "64bb7513",
   "metadata": {},
   "source": [
    "<body style=\"background-color:FFFF33;\">\n",
    "<h1 style=\"text-align:center; font-family:serif; font-size:300%\">Elgamal Crypto System</h1>\n",
    "\n",
    "<p style=\"text-align:center; font-family:courier; font-size:160%\">Prashanth.S 19MID0020</p>"
   ]
  },
  {
   "cell_type": "code",
   "execution_count": 1,
   "id": "36e55722",
   "metadata": {},
   "outputs": [],
   "source": [
    "import pandas as pd\n",
    "import numpy as np"
   ]
  },
  {
   "cell_type": "code",
   "execution_count": 2,
   "id": "e98bffbd",
   "metadata": {},
   "outputs": [],
   "source": [
    "## Alice\n",
    "Xa = 50 ## private_key \n",
    "Ya = 14 ## public key\n",
    "\n",
    "## Bob\n",
    "Xb = 39 ## private_key \n",
    "Yb = 53 ## public key\n",
    "\n",
    "## general\n",
    "prime_number = 61\n",
    "generator = 6\n",
    "\n",
    "message = 4"
   ]
  },
  {
   "cell_type": "code",
   "execution_count": 3,
   "id": "4137876a",
   "metadata": {},
   "outputs": [
    {
     "data": {
      "text/plain": [
       "57"
      ]
     },
     "execution_count": 3,
     "metadata": {},
     "output_type": "execute_result"
    }
   ],
   "source": [
    "## Bob sends message to Alice\n",
    "cipher_text = ( ( (Ya**Xb) * message )  % prime_number)\n",
    "cipher_text"
   ]
  },
  {
   "cell_type": "code",
   "execution_count": 4,
   "id": "ec906b8e",
   "metadata": {},
   "outputs": [
    {
     "data": {
      "text/plain": [
       "10"
      ]
     },
     "execution_count": 4,
     "metadata": {},
     "output_type": "execute_result"
    }
   ],
   "source": [
    "Xa = -1 * Xa\n",
    "if (Xa<=0):\n",
    "    Xa = prime_number - 1 + Xa\n",
    "Xa"
   ]
  },
  {
   "cell_type": "code",
   "execution_count": 5,
   "id": "12fec7ff",
   "metadata": {},
   "outputs": [],
   "source": [
    "decrypt_text = ((cipher_text%prime_number) * (Yb**Xa)%prime_number)%prime_number"
   ]
  },
  {
   "cell_type": "code",
   "execution_count": 6,
   "id": "422784be",
   "metadata": {},
   "outputs": [
    {
     "name": "stdout",
     "output_type": "stream",
     "text": [
      "Plain Text :  4\n",
      "Encrypted Plain Text    :  57\n",
      "Decrypted Cipher Text :  4\n"
     ]
    }
   ],
   "source": [
    "print(\"Plain Text : \", message)\n",
    "print(\"Encrypted Plain Text    : \", cipher_text)\n",
    "print(\"Decrypted Cipher Text : \",decrypt_text)"
   ]
  }
 ],
 "metadata": {
  "kernelspec": {
   "display_name": "Python 3.9.7 ('base')",
   "language": "python",
   "name": "python397jvsc74a57bd0b7a2a0b4f94735ea31e77398a02d224ee82f8658043a15390cdd4e6a2ed959b7"
  },
  "language_info": {
   "codemirror_mode": {
    "name": "ipython",
    "version": 3
   },
   "file_extension": ".py",
   "mimetype": "text/x-python",
   "name": "python",
   "nbconvert_exporter": "python",
   "pygments_lexer": "ipython3",
   "version": "3.9.7"
  }
 },
 "nbformat": 4,
 "nbformat_minor": 5
}
