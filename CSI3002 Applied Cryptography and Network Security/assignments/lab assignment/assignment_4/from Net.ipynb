{
 "cells": [
  {
   "cell_type": "code",
   "execution_count": 1,
   "id": "5c87a8b3",
   "metadata": {},
   "outputs": [],
   "source": [
    "import hashlib\n",
    "from Crypto import Random\n",
    "from Crypto.Cipher import AES\n",
    "from base64 import b64encode, b64decode\n",
    "\n",
    "class AESCipher(object):\n",
    "    def __init__(self, key):\n",
    "        self.block_size = AES.block_size\n",
    "        self.key = hashlib.sha256(key.encode()).digest()\n",
    "\n",
    "    def encrypt(self, plain_text):\n",
    "        plain_text = self.__pad(plain_text)\n",
    "        iv = Random.new().read(self.block_size)\n",
    "        cipher = AES.new(self.key, AES.MODE_CBC, iv)\n",
    "        encrypted_text = cipher.encrypt(plain_text.encode())\n",
    "        return b64encode(iv + encrypted_text).decode(\"utf-8\")\n",
    "\n",
    "    def decrypt(self, encrypted_text):\n",
    "        encrypted_text = b64decode(encrypted_text)\n",
    "        iv = encrypted_text[:self.block_size]\n",
    "        cipher = AES.new(self.key, AES.MODE_CBC, iv)\n",
    "        plain_text = cipher.decrypt(encrypted_text[self.block_size:]).decode(\"utf-8\")\n",
    "        return self.__unpad(plain_text)\n",
    "\n",
    "    def __pad(self, plain_text):\n",
    "        number_of_bytes_to_pad = self.block_size - len(plain_text) % self.block_size\n",
    "        ascii_string = chr(number_of_bytes_to_pad)\n",
    "        padding_str = number_of_bytes_to_pad * ascii_string\n",
    "        padded_plain_text = plain_text + padding_str\n",
    "        return padded_plain_text\n",
    "\n",
    "    @staticmethod\n",
    "    def __unpad(plain_text):\n",
    "        last_character = plain_text[len(plain_text) - 1:]\n",
    "        return plain_text[:-ord(last_character)]"
   ]
  },
  {
   "cell_type": "code",
   "execution_count": null,
   "id": "d99d7ef9",
   "metadata": {},
   "outputs": [],
   "source": []
  }
 ],
 "metadata": {
  "kernelspec": {
   "display_name": "Python 3.9.7 ('base')",
   "language": "python",
   "name": "python397jvsc74a57bd0b7a2a0b4f94735ea31e77398a02d224ee82f8658043a15390cdd4e6a2ed959b7"
  },
  "language_info": {
   "codemirror_mode": {
    "name": "ipython",
    "version": 3
   },
   "file_extension": ".py",
   "mimetype": "text/x-python",
   "name": "python",
   "nbconvert_exporter": "python",
   "pygments_lexer": "ipython3",
   "version": "3.9.7"
  }
 },
 "nbformat": 4,
 "nbformat_minor": 5
}
