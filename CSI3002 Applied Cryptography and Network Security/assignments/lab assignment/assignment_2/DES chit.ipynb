{
 "cells": [
  {
   "cell_type": "code",
   "execution_count": 1,
   "id": "532145a4",
   "metadata": {},
   "outputs": [],
   "source": [
    "def display_8(list1):\n",
    "    for i in range(len(list1)):\n",
    "        if (i%9==0):\n",
    "            print(\"   \",end='')\n",
    "        else:\n",
    "            print(list1[i],end='')"
   ]
  },
  {
   "cell_type": "code",
   "execution_count": 2,
   "id": "bee25b90",
   "metadata": {},
   "outputs": [],
   "source": [
    "def display_7(list1):\n",
    "    for i in range(len(list1)):\n",
    "        if (i%7==0 and i!=0):\n",
    "            print(\"   \",end='')\n",
    "        print(list1[i],end='')"
   ]
  },
  {
   "cell_type": "code",
   "execution_count": 3,
   "id": "fd121782",
   "metadata": {},
   "outputs": [],
   "source": [
    "def left_right_split(matrix, cnt):\n",
    "    left_str  = matrix[:cnt]\n",
    "    right_str = matrix[cnt:]\n",
    "    \n",
    "    return (left_str, right_str)"
   ]
  },
  {
   "cell_type": "code",
   "execution_count": 4,
   "id": "045cabaa",
   "metadata": {},
   "outputs": [],
   "source": [
    "def expansion_permutation(elements):\n",
    "    \n",
    "    ## input(right_str) --> 32 bits\n",
    "    ## output           --> 48 bits\n",
    "    \n",
    "    ## initial_perm_matrix --> 1 to 64 bits\n",
    "    ## 64bit key           --> 0 to 63 bits\n",
    "    \n",
    "    expansion_matrix = [32, 1 , 2 , 3 , 4 , 5 , 4 , 5,\n",
    "                        6 , 7 , 8 , 9 , 8 , 9 , 10, 11,\n",
    "                        12, 13, 12, 13, 14, 15, 16, 17,\n",
    "                        16, 17, 18, 19, 20, 21, 20, 21,\n",
    "                        22, 23, 24, 25, 24, 25, 26, 27,\n",
    "                        28, 29, 28, 29, 30, 31, 32, 1 ]\n",
    "\n",
    "    expanded_matrix = [0 for i in range(48)]\n",
    "    \n",
    "    for i in range(0, len(expanded_matrix)):\n",
    "        index              = expansion_matrix[i] - 1\n",
    "        expanded_matrix[i] = elements[index]\n",
    "        \n",
    "    return expanded_matrix"
   ]
  },
  {
   "cell_type": "code",
   "execution_count": 5,
   "id": "a71b9de6",
   "metadata": {},
   "outputs": [],
   "source": [
    "def initial_permutation(elements):\n",
    "    \n",
    "    ## input  --> 64bits\n",
    "    ## output --> 64bits\n",
    "    \n",
    "    ## initial_perm_matrix --> 1 to 64 bits\n",
    "    ## 64bit plain text    --> 0 to 63 bits\n",
    "    \n",
    "    str_permutation_matrix = [58, 50, 42, 34, 26, 18, 10, 2,\n",
    "                              60, 52, 44, 36, 28, 20, 12, 4,\n",
    "                              62, 54, 46, 38, 30, 22, 14, 6,\n",
    "                              64, 56, 48, 40, 32, 24, 16, 8,\n",
    "                              57, 49, 41, 33, 25, 17, 9, 1,\n",
    "                              59, 51, 43, 35, 27, 19, 11, 3,\n",
    "                              61, 53, 45, 37, 29, 21, 13, 5,\n",
    "                              63, 55, 47, 39, 31, 23, 15, 7]\n",
    "\n",
    "    permuted_matrix = [0 for i in range(64)]\n",
    "    for i in range(0, len(str_permutation_matrix)):\n",
    "        index              = str_permutation_matrix[i] - 1   ## so subtracting 1\n",
    "        permuted_matrix[i] = elements[index]\n",
    "        \n",
    "    return permuted_matrix"
   ]
  },
  {
   "cell_type": "markdown",
   "id": "90b32855",
   "metadata": {},
   "source": [
    "## Permuted Choice-1 --> For 64 bits key"
   ]
  },
  {
   "cell_type": "code",
   "execution_count": 6,
   "id": "815dc284",
   "metadata": {},
   "outputs": [],
   "source": [
    "def permuted_choice_1(elements): \n",
    "    \n",
    "    ## input -->  64 bits\n",
    "    ## output --> 56 bits\n",
    "    \n",
    "    ## initial_perm_matrix --> 1 to 64 bits\n",
    "    ## 64bit key           --> 0 to 63 bits\n",
    "    \n",
    "    key_permutation_matrix = [57, 49, 41, 33, 25, 17, 9,\n",
    "                               1, 58, 50, 42, 34, 26, 18,\n",
    "                              10, 2, 59, 51, 43, 35, 27,\n",
    "                              19, 11, 3, 60, 52, 44, 36,\n",
    "                              63, 55, 47, 39, 31, 23, 15,\n",
    "                               7, 62, 54, 46, 38, 30, 22,\n",
    "                              14, 6, 61, 53, 45, 37, 29,\n",
    "                              21, 13, 5, 28, 20, 12, 4 ]\n",
    "\n",
    "    permuted_matrix = [0 for i in range(56)]\n",
    "    \n",
    "    for i in range(0, len(key_permutation_matrix)):\n",
    "        index              = key_permutation_matrix[i] - 1\n",
    "        permuted_matrix[i] = elements[index]\n",
    "        \n",
    "    return permuted_matrix"
   ]
  },
  {
   "cell_type": "markdown",
   "id": "c6b872a4",
   "metadata": {},
   "source": [
    "## Permuted Choice-1 --> For 56 bits key"
   ]
  },
  {
   "cell_type": "code",
   "execution_count": 7,
   "id": "5afcedbd",
   "metadata": {},
   "outputs": [],
   "source": [
    "def permuted_choice_2(elements):\n",
    "    \n",
    "    ## left_str  --> 28 bits\n",
    "    ## right_str --> 28 bits\n",
    "    \n",
    "    ## input -->  56 bits\n",
    "    ## output --> 48 bits\n",
    "    \n",
    "    key_permutation_matrix = [14, 17, 11, 24, 1, 5,\n",
    "                              3, 28, 15, 6, 21, 10,\n",
    "                              23, 19, 12, 4, 26, 8,\n",
    "                              16, 7, 27, 20, 13, 2,\n",
    "                              41, 52, 31, 37, 47, 55,\n",
    "                              30, 40, 51, 45, 33, 48,\n",
    "                              44, 49, 39, 56, 34, 53,\n",
    "                              46, 42, 50, 36, 29, 32 ]\n",
    "    \n",
    "    permuted_matrix = [0 for i in range(48)]\n",
    "    \n",
    "    for i in range(0, len(key_permutation_matrix)):\n",
    "        index              = key_permutation_matrix[i] - 1\n",
    "        permuted_matrix[i] = elements[index]\n",
    "        \n",
    "    return permuted_matrix"
   ]
  },
  {
   "cell_type": "code",
   "execution_count": 8,
   "id": "d57e8755",
   "metadata": {},
   "outputs": [
    {
     "name": "stdout",
     "output_type": "stream",
     "text": [
      "Given String length :  64\n",
      "Given Key length    :  64\n",
      "\n",
      "String :    00000010   10001101   00101011   01111000   00110101   11110011   11110111   \n",
      "Key    :    00100110   11010001   10111011   10011001   01110111   00110111   11111000   "
     ]
    }
   ],
   "source": [
    "## input from the user\n",
    "\n",
    "str1 = \"0000000100100011010001010110011110001001101010111100110111101111\"  ## 64 bits\n",
    "key  = \"0001001100110100010101110111100110011011101111001101111111110001\"  ## 64 bits\n",
    "\n",
    "\n",
    "print(\"Given String length : \",len(str1))\n",
    "print(\"Given Key length    : \",len(key))\n",
    "\n",
    "print(\"\\nString : \",end='')\n",
    "display_8(str1)\n",
    "\n",
    "print(\"\\nKey    : \",end='')\n",
    "display_8(key)"
   ]
  },
  {
   "cell_type": "code",
   "execution_count": 9,
   "id": "b30914d0",
   "metadata": {},
   "outputs": [
    {
     "name": "stdout",
     "output_type": "stream",
     "text": [
      "############################################### STRING ######################################\n",
      "\n",
      "Initial Permutation\n",
      "\n",
      "Length :  64\n",
      "   10011000   00000011   01100111   11111111   00010101   10111100   01010101   \n",
      "\n",
      "\n",
      "Left String -->    10011000   00000011   01100111   1111\n",
      "Right String -->    11100001   10101011   10000101   1010\n",
      "\n",
      "expansion_permutation_matrix\n",
      "Length :  48\n",
      "   11110100   01010101   10101011   10100001   10101010   01"
     ]
    }
   ],
   "source": [
    "print(\"############################################### STRING ######################################\")\n",
    "\n",
    "print(\"\\nInitial Permutation\")\n",
    "str_permuted_matrix = initial_permutation(str1)\n",
    "print(\"\\nLength : \",len(str_permuted_matrix))\n",
    "display_8(str_permuted_matrix)\n",
    "print(\"\\n\")\n",
    "\n",
    "## Splitting into left and right string\n",
    "left_str, right_str = left_right_split(str_permuted_matrix, 32)\n",
    "\n",
    "print(\"\\nLeft String --> \", end='')\n",
    "display_8(left_str)\n",
    "\n",
    "print(\"\\nRight String --> \", end='')\n",
    "display_8(right_str)\n",
    "\n",
    "## expansion permutation matrix [input -> right_str(32 bits) || output -> 32bits]\n",
    "expansion_permutation_matrix = expansion_permutation(right_str)\n",
    "print(\"\\n\\nexpansion_permutation_matrix\")\n",
    "print(\"Length : \",len(expansion_permutation_matrix))\n",
    "display_8(expansion_permutation_matrix)"
   ]
  },
  {
   "cell_type": "code",
   "execution_count": 10,
   "id": "c43af294",
   "metadata": {},
   "outputs": [
    {
     "name": "stdout",
     "output_type": "stream",
     "text": [
      "\n",
      "############################################### KEY ###############################################\n",
      "\n",
      "Permuted Choice-1 Matrix-Key\n",
      "Length :  56\n",
      "1111000   0110011   0010101   0101111   0101010   1011001   1001111   0001111\n",
      "\n",
      "\n",
      "Left-Key --> 1111000   0110011   0010101   0101111\n",
      "Right-Key --> 0101010   1011001   1001111   0001111\n",
      "\n",
      "\n",
      "Permuted Choice-2 Matrix-Key\n",
      "Length :  48\n",
      "   10011010   10000010   01001111   10101110   10010001   11\n",
      "\n"
     ]
    }
   ],
   "source": [
    "print(\"\\n############################################### KEY ###############################################\")\n",
    "\n",
    "#### Permuted Choice-1\n",
    "key_permuted_matrix_1 = permuted_choice_1(key)\n",
    "print(\"\\nPermuted Choice-1 Matrix-Key\")\n",
    "print(\"Length : \",len(key_permuted_matrix_1))\n",
    "display_7(key_permuted_matrix_1)\n",
    "print(\"\\n\")\n",
    "\n",
    "#### Splitting into left and right key\n",
    "left_key, right_key = left_right_split(key_permuted_matrix_1,28)\n",
    "\n",
    "print(\"\\nLeft-Key --> \", end='')\n",
    "display_7(left_key)\n",
    "\n",
    "print(\"\\nRight-Key --> \", end='')\n",
    "display_7(right_key)\n",
    "print(\"\\n\")\n",
    "\n",
    "#### Permuted Choice-2\n",
    "key_permuted_matrix_2 = permuted_choice_2(left_str + right_str)\n",
    "print(\"\\nPermuted Choice-2 Matrix-Key\")\n",
    "print(\"Length : \",len(key_permuted_matrix_2))\n",
    "display_8(key_permuted_matrix_2)\n",
    "print(\"\\n\")"
   ]
  },
  {
   "cell_type": "markdown",
   "id": "409d8d00",
   "metadata": {},
   "source": [
    "## key for r-1 to r-16"
   ]
  },
  {
   "cell_type": "code",
   "execution_count": 11,
   "id": "a4453c4b",
   "metadata": {},
   "outputs": [],
   "source": [
    "def shift(pc1text, round):\n",
    "    text = pc1text\n",
    "    for _ in range(2):\n",
    "        flow1 = text[0]\n",
    "        flow2 = text[28]\n",
    "        left = text[1:28]\n",
    "        right = text[29:]\n",
    "        left.append(flow1)\n",
    "        right.append(flow2)\n",
    "        left.extend(right)\n",
    "        text = left\n",
    "        if round in (1, 2, 9, 16):  ## 2 \n",
    "            break\n",
    "    return text"
   ]
  },
  {
   "cell_type": "code",
   "execution_count": 12,
   "id": "17ffd330",
   "metadata": {},
   "outputs": [
    {
     "name": "stdout",
     "output_type": "stream",
     "text": [
      "C1 --> 1110000110011001010101011111\n",
      "D1 --> 1010101011001100111100011110\n",
      "\n",
      "\n",
      "C2 --> 1110000110011001010101011111\n",
      "D2 --> 1010101011001100111100011110\n",
      "\n",
      "\n",
      "C3 --> 1100001100110010101010111111\n",
      "D3 --> 0101010110011001111000111101\n",
      "\n",
      "\n",
      "C4 --> 1100001100110010101010111111\n",
      "D4 --> 0101010110011001111000111101\n",
      "\n",
      "\n",
      "C5 --> 1100001100110010101010111111\n",
      "D5 --> 0101010110011001111000111101\n",
      "\n",
      "\n",
      "C6 --> 1100001100110010101010111111\n",
      "D6 --> 0101010110011001111000111101\n",
      "\n",
      "\n",
      "C7 --> 1100001100110010101010111111\n",
      "D7 --> 0101010110011001111000111101\n",
      "\n",
      "\n",
      "C8 --> 1100001100110010101010111111\n",
      "D8 --> 0101010110011001111000111101\n",
      "\n",
      "\n",
      "C9 --> 1110000110011001010101011111\n",
      "D9 --> 1010101011001100111100011110\n",
      "\n",
      "\n",
      "C10 --> 1100001100110010101010111111\n",
      "D10 --> 0101010110011001111000111101\n",
      "\n",
      "\n",
      "C11 --> 1100001100110010101010111111\n",
      "D11 --> 0101010110011001111000111101\n",
      "\n",
      "\n",
      "C12 --> 1100001100110010101010111111\n",
      "D12 --> 0101010110011001111000111101\n",
      "\n",
      "\n",
      "C13 --> 1100001100110010101010111111\n",
      "D13 --> 0101010110011001111000111101\n",
      "\n",
      "\n",
      "C14 --> 1100001100110010101010111111\n",
      "D14 --> 0101010110011001111000111101\n",
      "\n",
      "\n",
      "C15 --> 1100001100110010101010111111\n",
      "D15 --> 0101010110011001111000111101\n",
      "\n",
      "\n",
      "C16 --> 1110000110011001010101011111\n",
      "D16 --> 1010101011001100111100011110\n",
      "\n",
      "\n"
     ]
    }
   ],
   "source": [
    "for i in range(1, 17):\n",
    "    \n",
    "    permutatedc1 = shift(key_permuted_matrix_1, i)\n",
    "    print(\"C{} --> \".format(i),end='')\n",
    "    print(''.join(permutatedc1[:28]))\n",
    "\n",
    "    print(\"D{} --> \".format(i),end='')\n",
    "    print(''.join(permutatedc1[28:]))\n",
    "\n",
    "    print(\"\\n\")"
   ]
  }
 ],
 "metadata": {
  "kernelspec": {
   "display_name": "Python 3.9.7 ('base')",
   "language": "python",
   "name": "python397jvsc74a57bd0b7a2a0b4f94735ea31e77398a02d224ee82f8658043a15390cdd4e6a2ed959b7"
  },
  "language_info": {
   "codemirror_mode": {
    "name": "ipython",
    "version": 3
   },
   "file_extension": ".py",
   "mimetype": "text/x-python",
   "name": "python",
   "nbconvert_exporter": "python",
   "pygments_lexer": "ipython3",
   "version": "3.9.7"
  }
 },
 "nbformat": 4,
 "nbformat_minor": 5
}
