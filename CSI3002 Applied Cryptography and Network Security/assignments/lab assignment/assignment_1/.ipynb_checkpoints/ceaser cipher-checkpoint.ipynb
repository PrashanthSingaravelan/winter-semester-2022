{
 "cells": [
  {
   "cell_type": "markdown",
   "id": "671dcb1f",
   "metadata": {},
   "source": [
    "<body style=\"background-color:FFFF33;\">\n",
    "<h1 style=\"text-align:center; font-family:serif; font-size:300%\">Caesar Cipher </h1>\n",
    "<h1 style=\"text-align:right; font-family:serif; font-size:150%\">Prashanth.S 19MID0020</h1>"
   ]
  },
  {
   "cell_type": "code",
   "execution_count": null,
   "id": "e7cd40f5",
   "metadata": {},
   "outputs": [],
   "source": [
    "encryption --> (element + key) mod 26\n",
    "decryption --> (element - key) mod 26"
   ]
  },
  {
   "cell_type": "code",
   "execution_count": 1,
   "id": "3ff61a3b",
   "metadata": {},
   "outputs": [],
   "source": [
    "def a2d(text):\n",
    "    return [ord(i) for i in text]"
   ]
  },
  {
   "cell_type": "code",
   "execution_count": 2,
   "id": "30d4ab23",
   "metadata": {},
   "outputs": [],
   "source": [
    "def encrpyt(text, key):\n",
    "    dtext = a2d(text)\n",
    "    result = []\n",
    "    \n",
    "    for i in dtext:\n",
    "        \n",
    "        ## capital letters\n",
    "        if (i >= 65 and i <= 90): \n",
    "            result.append((((i - 65) + key) % 26) + 65)\n",
    "            \n",
    "        ## small letters\n",
    "        elif(i >= 97 and i <= 122): \n",
    "            result.append((((i - 97) + key) % 26) + 97)\n",
    "            \n",
    "        ## no small and capital letters\n",
    "        else:\n",
    "            result.append(i)\n",
    "            \n",
    "    final = list(map(chr, result))\n",
    "    return ''.join(final)"
   ]
  },
  {
   "cell_type": "code",
   "execution_count": 3,
   "id": "589b246d",
   "metadata": {},
   "outputs": [],
   "source": [
    "def decrypt(text, key):\n",
    "    dtext = a2d(text)\n",
    "    result = []\n",
    "    \n",
    "    for i in dtext:\n",
    "        \n",
    "        ## capital letters\n",
    "        if (i >= 65 and i <= 90):  \n",
    "            result.append((((i - 65) - key) % 26) + 65)\n",
    "        \n",
    "        ## small letters\n",
    "        elif(i >= 97 and i <= 122):   \n",
    "            result.append((((i - 97) - key) % 26) + 97)\n",
    "        \n",
    "        else:\n",
    "            result.append(i)\n",
    "            \n",
    "    final = list(map(chr, result))\n",
    "    return ''.join(final)"
   ]
  },
  {
   "cell_type": "code",
   "execution_count": 4,
   "id": "539f48f4",
   "metadata": {},
   "outputs": [
    {
     "name": "stdout",
     "output_type": "stream",
     "text": [
      "Before encryption Plain text: prashanth\n",
      "Key: 23\n",
      "Cipher text : moxpexkqe\n",
      "After decryption Plain text : prashanth\n"
     ]
    }
   ],
   "source": [
    "if __name__ == '__main__':\n",
    "    text = input(\"Before encryption Plain text: \")\n",
    "    key = int(input(\"Key: \"))\n",
    "    \n",
    "    cipher = encrpyt(text, key)\n",
    "    print(\"Cipher text : {}\".format(cipher))\n",
    "    \n",
    "    plain = decrypt(cipher, key)\n",
    "    print(\"After decryption Plain text : {}\".format(plain))"
   ]
  }
 ],
 "metadata": {
  "kernelspec": {
   "display_name": "Python 3 (ipykernel)",
   "language": "python",
   "name": "python3"
  },
  "language_info": {
   "codemirror_mode": {
    "name": "ipython",
    "version": 3
   },
   "file_extension": ".py",
   "mimetype": "text/x-python",
   "name": "python",
   "nbconvert_exporter": "python",
   "pygments_lexer": "ipython3",
   "version": "3.9.7"
  }
 },
 "nbformat": 4,
 "nbformat_minor": 5
}
