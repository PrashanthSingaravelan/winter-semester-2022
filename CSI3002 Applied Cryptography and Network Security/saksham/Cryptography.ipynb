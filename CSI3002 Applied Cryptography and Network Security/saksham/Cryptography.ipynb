{
 "cells": [
  {
   "cell_type": "code",
   "execution_count": 1,
   "id": "02f01ac9",
   "metadata": {
    "scrolled": true
   },
   "outputs": [
    {
     "name": "stdout",
     "output_type": "stream",
     "text": [
      "Enter the prime number11\n",
      "Enter the message whose value is lesser than the prime5\n"
     ]
    }
   ],
   "source": [
    "import random\n",
    "import numpy\n",
    "prime = int(input(\"Enter the prime number\"))\n",
    "message = int(input(\"Enter the message whose value is lesser than the prime\"))"
   ]
  },
  {
   "cell_type": "markdown",
   "id": "88c870a5",
   "metadata": {},
   "source": [
    "## Public Key and private key"
   ]
  },
  {
   "cell_type": "code",
   "execution_count": 2,
   "id": "ca537d53",
   "metadata": {},
   "outputs": [
    {
     "name": "stdout",
     "output_type": "stream",
     "text": [
      "Enter a generator number: 3\n"
     ]
    }
   ],
   "source": [
    "def isPrimitive(g,prime):\n",
    "    primitive=[]\n",
    "    for i in range(1,prime):\n",
    "        temp=g^i%prime\n",
    "        if temp in primitive:\n",
    "            return False\n",
    "        else:\n",
    "            primitive.append(temp)\n",
    "    return True\n",
    "### Getting generator here ###\n",
    "while True:\n",
    "    gen= int(input(\"Enter a generator number: \"))\n",
    "    if isPrimitive(gen,prime):\n",
    "        break\n",
    "    print(\"Enter some other number\") "
   ]
  },
  {
   "cell_type": "code",
   "execution_count": 3,
   "id": "bbe4fb53",
   "metadata": {},
   "outputs": [],
   "source": [
    "## Public Key ##\n",
    "import random\n",
    "def dselect(prime):\n",
    "    d = random.randint(2, prime-2)\n",
    "    \n",
    "    return d"
   ]
  },
  {
   "cell_type": "code",
   "execution_count": 4,
   "id": "d6a83c7e",
   "metadata": {},
   "outputs": [],
   "source": [
    "## Private Key ##\n",
    "def eselect(gen,d,prime):\n",
    "    e = (gen**d)%prime\n",
    "    return e"
   ]
  },
  {
   "cell_type": "code",
   "execution_count": 5,
   "id": "6027b340",
   "metadata": {},
   "outputs": [],
   "source": [
    "d = dselect(prime)\n",
    "e = eselect(gen,d,prime)"
   ]
  },
  {
   "cell_type": "code",
   "execution_count": 6,
   "id": "4dcbac7a",
   "metadata": {},
   "outputs": [
    {
     "name": "stdout",
     "output_type": "stream",
     "text": [
      "Public Key:  4\n",
      "Private Key:  4\n"
     ]
    }
   ],
   "source": [
    "print(\"Public Key: \",d)\n",
    "print(\"Private Key: \",e)"
   ]
  },
  {
   "cell_type": "markdown",
   "id": "e2d4a162",
   "metadata": {},
   "source": [
    "## Hashing"
   ]
  },
  {
   "cell_type": "code",
   "execution_count": 7,
   "id": "ac044244",
   "metadata": {},
   "outputs": [],
   "source": [
    "mhash = hash(message)"
   ]
  },
  {
   "cell_type": "code",
   "execution_count": 8,
   "id": "6e7656c6",
   "metadata": {},
   "outputs": [
    {
     "data": {
      "text/plain": [
       "5"
      ]
     },
     "execution_count": 8,
     "metadata": {},
     "output_type": "execute_result"
    }
   ],
   "source": [
    "mhash"
   ]
  },
  {
   "cell_type": "markdown",
   "id": "35ad1e14",
   "metadata": {},
   "source": [
    "## Selecting K val"
   ]
  },
  {
   "cell_type": "code",
   "execution_count": 9,
   "id": "64f62b76",
   "metadata": {
    "scrolled": true
   },
   "outputs": [],
   "source": [
    "import math\n",
    "i = 1\n",
    "while(True):\n",
    "    i+=1\n",
    "    if math.gcd(prime-1,i)==1:\n",
    "        break \n",
    "    break\n",
    "k = i"
   ]
  },
  {
   "cell_type": "code",
   "execution_count": 10,
   "id": "31c60bcd",
   "metadata": {},
   "outputs": [
    {
     "data": {
      "text/plain": [
       "2"
      ]
     },
     "execution_count": 10,
     "metadata": {},
     "output_type": "execute_result"
    }
   ],
   "source": [
    "k"
   ]
  },
  {
   "cell_type": "markdown",
   "id": "ea0a2907",
   "metadata": {},
   "source": [
    "## Generate Digital Signature"
   ]
  },
  {
   "cell_type": "code",
   "execution_count": 11,
   "id": "e438b488",
   "metadata": {},
   "outputs": [],
   "source": [
    "## Computing y1 ##\n",
    "y1 = (gen**k)%prime"
   ]
  },
  {
   "cell_type": "code",
   "execution_count": 12,
   "id": "c9bbf20d",
   "metadata": {},
   "outputs": [],
   "source": [
    "def inverse(K):\n",
    "    x = 2\n",
    "    while((K*x)%(prime-1)!= 1):\n",
    "        x+=1\n",
    "    return x\n"
   ]
  },
  {
   "cell_type": "code",
   "execution_count": 13,
   "id": "b0307a56",
   "metadata": {},
   "outputs": [],
   "source": [
    "## Computing y2 ##\n",
    "k = 3\n",
    "y2 = (inverse(k)*(mhash - e*y1)) % (prime-1)"
   ]
  },
  {
   "cell_type": "markdown",
   "id": "30414129",
   "metadata": {},
   "source": [
    "### Verifying"
   ]
  },
  {
   "cell_type": "code",
   "execution_count": 14,
   "id": "da2572aa",
   "metadata": {},
   "outputs": [],
   "source": [
    "def Verification(mhashed, gen,prime):\n",
    "    V1 = (gen ** mhashed) % prime\n",
    "    V2 = ((d ** y1) * (y1 ** y2)) % prime\n",
    "    \n",
    "    print(V1)\n",
    "    print(V2)\n",
    "    \n",
    "    if(V1 == V2):\n",
    "        print(\"VERIFIED\")\n",
    "    else:\n",
    "        print(\"Message has been changed in the way\")\n"
   ]
  },
  {
   "cell_type": "code",
   "execution_count": 15,
   "id": "f6015b19",
   "metadata": {},
   "outputs": [
    {
     "name": "stdout",
     "output_type": "stream",
     "text": [
      "1\n",
      "9\n",
      "Message has been changed in the way\n"
     ]
    }
   ],
   "source": [
    "Verification(mhash,gen,prime)"
   ]
  },
  {
   "cell_type": "code",
   "execution_count": null,
   "id": "315e9b52",
   "metadata": {},
   "outputs": [],
   "source": []
  },
  {
   "cell_type": "code",
   "execution_count": null,
   "id": "d20f79fe",
   "metadata": {},
   "outputs": [],
   "source": []
  }
 ],
 "metadata": {
  "kernelspec": {
   "display_name": "Python 3 (ipykernel)",
   "language": "python",
   "name": "python3"
  },
  "language_info": {
   "codemirror_mode": {
    "name": "ipython",
    "version": 3
   },
   "file_extension": ".py",
   "mimetype": "text/x-python",
   "name": "python",
   "nbconvert_exporter": "python",
   "pygments_lexer": "ipython3",
   "version": "3.9.7"
  }
 },
 "nbformat": 4,
 "nbformat_minor": 5
}
